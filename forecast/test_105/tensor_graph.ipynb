{
 "cells": [
  {
   "cell_type": "code",
   "execution_count": 1,
   "metadata": {},
   "outputs": [],
   "source": [
    "import tensorflow as tf"
   ]
  },
  {
   "cell_type": "code",
   "execution_count": 2,
   "metadata": {},
   "outputs": [
    {
     "data": {
      "text/plain": [
       "<tf.Variable 'r:0' shape=() dtype=float32, numpy=10.0>"
      ]
     },
     "execution_count": 2,
     "metadata": {},
     "output_type": "execute_result"
    }
   ],
   "source": [
    "tf.executing_eagerly()\n",
    "r = tf.Variable(10.0, name='r')\n",
    "r"
   ]
  },
  {
   "cell_type": "code",
   "execution_count": 3,
   "metadata": {},
   "outputs": [
    {
     "data": {
      "text/plain": [
       "314.0"
      ]
     },
     "execution_count": 3,
     "metadata": {},
     "output_type": "execute_result"
    }
   ],
   "source": [
    "def area(r):\n",
    "    circle = 3.14 * (r ** 2.00)\n",
    "    return circle\n",
    "\n",
    "area(10)"
   ]
  },
  {
   "cell_type": "code",
   "execution_count": 4,
   "metadata": {},
   "outputs": [
    {
     "name": "stdout",
     "output_type": "stream",
     "text": [
      "Area of respective circle: 7850.00, 31400.00, 70650.00\n"
     ]
    }
   ],
   "source": [
    "print(\"Area of respective circle: %2.2f, %2.2f, %2.2f\" % (area(tf.constant(50.0)), area(tf.constant(100.0)), area(tf.constant(150.0))))"
   ]
  },
  {
   "cell_type": "code",
   "execution_count": 5,
   "metadata": {},
   "outputs": [
    {
     "name": "stdout",
     "output_type": "stream",
     "text": [
      "def tf__area(r):\n",
      "  do_return = False\n",
      "  retval_ = ag__.UndefinedReturnValue()\n",
      "  with ag__.FunctionScope('area', 'area_scope', ag__.ConversionOptions(recursive=True, user_requested=True, optional_features=(), internal_convert_user_code=True)) as area_scope:\n",
      "    circle = 3.14 * r ** 2.0\n",
      "    do_return = True\n",
      "    retval_ = area_scope.mark_return_value(circle)\n",
      "  do_return,\n",
      "  return ag__.retval(retval_)\n",
      "\n"
     ]
    }
   ],
   "source": [
    "print(tf.autograph.to_code(area))"
   ]
  },
  {
   "cell_type": "code",
   "execution_count": 6,
   "metadata": {},
   "outputs": [
    {
     "data": {
      "text/plain": [
       "<function __main__.create_converted_entity_factory.<locals>.create_converted_entity.<locals>.tf__area(r)>"
      ]
     },
     "execution_count": 6,
     "metadata": {},
     "output_type": "execute_result"
    }
   ],
   "source": [
    "tf_area = tf.autograph.to_graph(area)\n",
    "tf_area"
   ]
  },
  {
   "cell_type": "code",
   "execution_count": 7,
   "metadata": {},
   "outputs": [
    {
     "name": "stdout",
     "output_type": "stream",
     "text": [
      "Area of respective circle: 7850.00, 31400.00, 70650.00\n"
     ]
    }
   ],
   "source": [
    "with tf.Graph().as_default():\n",
    "    a1 = tf_area(tf.constant(50.0))\n",
    "    a2 = tf_area(tf.constant(100.0))\n",
    "    a3 = tf_area(tf.constant(150.0))\n",
    "    \n",
    "    with tf.compat.v1.Session() as sess:\n",
    "        print(\"Area of respective circle: %2.2f, %2.2f, %2.2f\" % (sess.run(a1), sess.run(a2), sess.run(a3)))"
   ]
  },
  {
   "cell_type": "markdown",
   "metadata": {},
   "source": [
    "<h1>AutoGraph using tf.function<\\h1>"
   ]
  },
  {
   "cell_type": "code",
   "execution_count": 8,
   "metadata": {},
   "outputs": [],
   "source": [
    "r = tf.Variable(10.0, name=\"r\")"
   ]
  },
  {
   "cell_type": "code",
   "execution_count": 9,
   "metadata": {},
   "outputs": [],
   "source": [
    "@tf.function\n",
    "def area(r):\n",
    "    circle = 3.14 * (r ** 2.00)\n",
    "    return circle"
   ]
  },
  {
   "cell_type": "code",
   "execution_count": 10,
   "metadata": {},
   "outputs": [
    {
     "name": "stdout",
     "output_type": "stream",
     "text": [
      "def tf__area(r):\n",
      "  do_return = False\n",
      "  retval_ = ag__.UndefinedReturnValue()\n",
      "  with ag__.FunctionScope('area', 'area_scope', ag__.ConversionOptions(recursive=True, user_requested=True, optional_features=(), internal_convert_user_code=True)) as area_scope:\n",
      "    circle = 3.14 * r ** 2.0\n",
      "    do_return = True\n",
      "    retval_ = area_scope.mark_return_value(circle)\n",
      "  do_return,\n",
      "  return ag__.retval(retval_)\n",
      "\n"
     ]
    }
   ],
   "source": [
    "print(tf.autograph.to_code(area.python_function))"
   ]
  },
  {
   "cell_type": "code",
   "execution_count": 11,
   "metadata": {},
   "outputs": [
    {
     "data": {
      "text/plain": [
       "<tf.Tensor: id=52, shape=(), dtype=float32, numpy=11304.0>"
      ]
     },
     "execution_count": 11,
     "metadata": {},
     "output_type": "execute_result"
    }
   ],
   "source": [
    "area(60)"
   ]
  },
  {
   "cell_type": "code",
   "execution_count": 12,
   "metadata": {},
   "outputs": [
    {
     "name": "stdout",
     "output_type": "stream",
     "text": [
      "tf.Tensor(7850.0005, shape=(), dtype=float32) tf.Tensor(31400.002, shape=(), dtype=float32) tf.Tensor(70650.0, shape=(), dtype=float32)\n"
     ]
    }
   ],
   "source": [
    "print(area(tf.constant(50.0)), area(tf.constant(100.0)), area(tf.constant(150.0)))"
   ]
  },
  {
   "cell_type": "code",
   "execution_count": null,
   "metadata": {},
   "outputs": [],
   "source": []
  },
  {
   "cell_type": "code",
   "execution_count": null,
   "metadata": {},
   "outputs": [],
   "source": []
  },
  {
   "cell_type": "code",
   "execution_count": 13,
   "metadata": {},
   "outputs": [],
   "source": [
    "import traceback\n",
    "import contextlib"
   ]
  },
  {
   "cell_type": "code",
   "execution_count": 14,
   "metadata": {},
   "outputs": [],
   "source": [
    "# Some helper code to demonstrate the kinds of errors you might encounter.\n",
    "@contextlib.contextmanager\n",
    "def assert_raises(error_class):\n",
    "    try:\n",
    "        yield\n",
    "    except error_class as e:\n",
    "        print(\"Caught expected exception \\n {}:\".format(error_class))\n",
    "        traceback.print_exc(limit=2)\n",
    "        \n",
    "    except Exception as e:\n",
    "        raise(e)\n",
    "        \n",
    "    else:\n",
    "        raise Exception('Expected {} to be raised but no error was raised!'.format(error_class))"
   ]
  },
  {
   "cell_type": "code",
   "execution_count": 15,
   "metadata": {},
   "outputs": [
    {
     "data": {
      "text/plain": [
       "<tf.Tensor: id=80, shape=(2, 3), dtype=float32, numpy=\n",
       "array([[2., 2., 2.],\n",
       "       [2., 2., 2.]], dtype=float32)>"
      ]
     },
     "execution_count": 15,
     "metadata": {},
     "output_type": "execute_result"
    }
   ],
   "source": [
    "@tf.function\n",
    "def add(a, b):\n",
    "    return a + b\n",
    "\n",
    "add(tf.ones([2, 3]), tf.ones([2, 3]))"
   ]
  },
  {
   "cell_type": "code",
   "execution_count": 16,
   "metadata": {},
   "outputs": [
    {
     "name": "stdout",
     "output_type": "stream",
     "text": [
      "tf.Tensor(1.0, shape=(), dtype=float32)\n"
     ]
    }
   ],
   "source": [
    "v = tf.Variable(1.0)\n",
    "with tf.GradientTape() as tape:\n",
    "    result = add(v, 1.0)\n",
    "print(tape.gradient(result, v))"
   ]
  },
  {
   "cell_type": "code",
   "execution_count": null,
   "metadata": {},
   "outputs": [],
   "source": []
  },
  {
   "cell_type": "code",
   "execution_count": 17,
   "metadata": {},
   "outputs": [
    {
     "name": "stdout",
     "output_type": "stream",
     "text": [
      "Eager conv: 1.1181732019995252\n",
      "Function conv: 1.360472596999898\n",
      "Note how there's not much difference in performance for convolutions\n"
     ]
    }
   ],
   "source": [
    "import timeit\n",
    "conv_layer = tf.keras.layers.Conv2D(100, 3)\n",
    "\n",
    "@tf.function\n",
    "def conv_fn(image):\n",
    "    return conv_layer(image)\n",
    "\n",
    "image = tf.zeros([1, 200, 200, 100])\n",
    "\n",
    "# warm up\n",
    "conv_layer(image); conv_fn(image)\n",
    "\n",
    "print(\"Eager conv:\", timeit.timeit(lambda: conv_layer(image), number=10))\n",
    "print(\"Function conv:\", timeit.timeit(lambda: conv_fn(image), number=10))\n",
    "print(\"Note how there's not much difference in performance for convolutions\")"
   ]
  },
  {
   "cell_type": "markdown",
   "metadata": {},
   "source": [
    "<h1>Tracing<\\h1>"
   ]
  },
  {
   "cell_type": "code",
   "execution_count": 18,
   "metadata": {},
   "outputs": [
    {
     "name": "stdout",
     "output_type": "stream",
     "text": [
      "Tracing with  Tensor(\"a:0\", shape=(), dtype=int32)\n",
      "tf.Tensor(2, shape=(), dtype=int32) \n",
      "\n",
      "Tracing with  Tensor(\"a:0\", shape=(), dtype=float32)\n",
      "tf.Tensor(2.2, shape=(), dtype=float32) \n",
      "\n",
      "Tracing with  Tensor(\"a:0\", shape=(), dtype=string)\n",
      "tf.Tensor(b'aa', shape=(), dtype=string)\n"
     ]
    }
   ],
   "source": [
    "@tf.function\n",
    "def double(a):\n",
    "    print(\"Tracing with \", a)\n",
    "    return a + a\n",
    "\n",
    "\n",
    "print(double(tf.constant(1)), \"\\n\")\n",
    "print(double(tf.constant(1.1)), \"\\n\")\n",
    "print(double(tf.constant(\"a\")))"
   ]
  },
  {
   "cell_type": "code",
   "execution_count": 19,
   "metadata": {},
   "outputs": [
    {
     "name": "stdout",
     "output_type": "stream",
     "text": [
      "tf.Tensor(b'bb', shape=(), dtype=string)\n"
     ]
    }
   ],
   "source": [
    "print(double(tf.constant(\"b\")))"
   ]
  },
  {
   "cell_type": "code",
   "execution_count": 20,
   "metadata": {},
   "outputs": [],
   "source": [
    "# print(double.pretty_printed_concrete_signatures())"
   ]
  },
  {
   "cell_type": "code",
   "execution_count": 21,
   "metadata": {},
   "outputs": [
    {
     "name": "stdout",
     "output_type": "stream",
     "text": [
      "Obtaining concrete trace\n",
      "Executing traced function\n",
      "tf.Tensor(b'aa', shape=(), dtype=string)\n",
      "tf.Tensor(b'bb', shape=(), dtype=string)\n"
     ]
    }
   ],
   "source": [
    "print(\"Obtaining concrete trace\")\n",
    "double_strings = double.get_concrete_function(tf.constant(\"a\"))\n",
    "print(\"Executing traced function\")\n",
    "print(double_strings(tf.constant(\"a\")))\n",
    "print(double_strings(tf.constant(\"b\")))"
   ]
  },
  {
   "cell_type": "code",
   "execution_count": 22,
   "metadata": {},
   "outputs": [
    {
     "name": "stdout",
     "output_type": "stream",
     "text": [
      "<tensorflow.python.eager.function.ConcreteFunction object at 0x7f8588368898>\n"
     ]
    }
   ],
   "source": [
    "print(double_strings)"
   ]
  },
  {
   "cell_type": "code",
   "execution_count": 23,
   "metadata": {},
   "outputs": [
    {
     "name": "stdout",
     "output_type": "stream",
     "text": [
      "Caught expected exception \n",
      " <class 'tensorflow.python.framework.errors_impl.InvalidArgumentError'>:\n"
     ]
    },
    {
     "name": "stderr",
     "output_type": "stream",
     "text": [
      "Traceback (most recent call last):\n",
      "  File \"<ipython-input-14-ac6cf5be5446>\", line 5, in assert_raises\n",
      "    yield\n",
      "  File \"<ipython-input-23-6ba07b14b756>\", line 2, in <module>\n",
      "    double_strings(tf.constant(1))\n",
      "tensorflow.python.framework.errors_impl.InvalidArgumentError: cannot compute __inference_double_216 as input #0(zero-based) was expected to be a string tensor but is a int32 tensor [Op:__inference_double_216]\n"
     ]
    }
   ],
   "source": [
    "with assert_raises(tf.errors.InvalidArgumentError):\n",
    "    double_strings(tf.constant(1))"
   ]
  },
  {
   "cell_type": "code",
   "execution_count": null,
   "metadata": {},
   "outputs": [],
   "source": []
  },
  {
   "cell_type": "code",
   "execution_count": null,
   "metadata": {},
   "outputs": [],
   "source": []
  },
  {
   "cell_type": "code",
   "execution_count": 24,
   "metadata": {},
   "outputs": [
    {
     "name": "stdout",
     "output_type": "stream",
     "text": [
      "Tracing with  Tensor(\"x:0\", dtype=int32)\n",
      "Caught expected exception \n",
      " <class 'ValueError'>:\n",
      "Caught expected exception \n",
      " <class 'ValueError'>:\n"
     ]
    },
    {
     "name": "stderr",
     "output_type": "stream",
     "text": [
      "Traceback (most recent call last):\n",
      "  File \"<ipython-input-14-ac6cf5be5446>\", line 5, in assert_raises\n",
      "    yield\n",
      "  File \"<ipython-input-24-22760ee45afc>\", line 8, in <module>\n",
      "    next_collatz(tf.constant([[1, 2], [3, 4]]))\n",
      "ValueError: in converted code:\n",
      "\n",
      "    <ipython-input-24-22760ee45afc>:4 next_collatz  *\n",
      "        return tf.where(x % 2 == 0 // 2, 3 * x + 1)\n",
      "    /home/vegas/anaconda3/envs/deeplearning/lib/python3.7/site-packages/tensorflow_core/python/ops/array_ops.py:3801 where_v2\n",
      "        raise ValueError(\"x and y must both be non-None or both be None.\")\n",
      "\n",
      "    ValueError: x and y must both be non-None or both be None.\n",
      "\n",
      "Traceback (most recent call last):\n",
      "  File \"<ipython-input-14-ac6cf5be5446>\", line 5, in assert_raises\n",
      "    yield\n",
      "  File \"<ipython-input-24-22760ee45afc>\", line 12, in <module>\n",
      "    next_collatz(tf.constant([1.0, 2.0]))\n",
      "ValueError: Python inputs incompatible with input_signature:\n",
      "  inputs: (\n",
      "    tf.Tensor([1. 2.], shape=(2,), dtype=float32))\n",
      "  input_signature: (\n",
      "    TensorSpec(shape=<unknown>, dtype=tf.int32, name=None))\n"
     ]
    }
   ],
   "source": [
    "@tf.function(input_signature=(tf.TensorSpec(shape=None, dtype=tf.int32),))\n",
    "def next_collatz(x):\n",
    "    print(\"Tracing with \", x)\n",
    "    return tf.where(x % 2 == 0 // 2, 3 * x + 1)\n",
    "\n",
    "# print(next_collatz(tf.constant([1, 2])))\n",
    "with assert_raises(ValueError):\n",
    "    next_collatz(tf.constant([[1, 2], [3, 4]]))\n",
    "    \n",
    "    \n",
    "with assert_raises(ValueError):\n",
    "    next_collatz(tf.constant([1.0, 2.0]))"
   ]
  },
  {
   "cell_type": "code",
   "execution_count": null,
   "metadata": {},
   "outputs": [],
   "source": []
  },
  {
   "cell_type": "code",
   "execution_count": 25,
   "metadata": {},
   "outputs": [
    {
     "name": "stdout",
     "output_type": "stream",
     "text": [
      "Tracing with Tensor(\"x:0\", shape=(None,), dtype=int32)\n",
      "tf.Tensor([1 2 3], shape=(3,), dtype=int32)\n",
      "tf.Tensor([1 2 3 4 5], shape=(5,), dtype=int32)\n"
     ]
    }
   ],
   "source": [
    "@tf.function(input_signature=(tf.TensorSpec(shape=[None], dtype=tf.int32),))\n",
    "def g(x):\n",
    "    print('Tracing with', x)\n",
    "    return x\n",
    "\n",
    "# No retrace!\n",
    "print(g(tf.constant([1, 2, 3])))\n",
    "print(g(tf.constant([1, 2, 3, 4, 5])))"
   ]
  },
  {
   "cell_type": "code",
   "execution_count": 26,
   "metadata": {},
   "outputs": [
    {
     "name": "stdout",
     "output_type": "stream",
     "text": [
      "Value of external_var:  0\n",
      "Value of external_var:  0\n",
      "Value of external_var:  0\n"
     ]
    }
   ],
   "source": [
    "external_var = tf.Variable(0)\n",
    "\n",
    "@tf.function\n",
    "def buggy_consume_next(iterator):\n",
    "    external_var.assign_add(next(iterator))\n",
    "    tf.print(\"Value of external_var: \", external_var)\n",
    "\n",
    "iterator = iter([0, 1, 2, 3])\n",
    "buggy_consume_next(iterator=iterator)\n",
    "buggy_consume_next(iterator=iterator)\n",
    "buggy_consume_next(iterator=iterator)"
   ]
  },
  {
   "cell_type": "code",
   "execution_count": null,
   "metadata": {},
   "outputs": [],
   "source": []
  },
  {
   "cell_type": "code",
   "execution_count": null,
   "metadata": {},
   "outputs": [],
   "source": []
  },
  {
   "cell_type": "code",
   "execution_count": 27,
   "metadata": {
    "collapsed": true,
    "jupyter": {
     "outputs_hidden": true
    }
   },
   "outputs": [
    {
     "name": "stdout",
     "output_type": "stream",
     "text": [
      "[0.91226089 0.908860445 0.281906247 0.561953306 0.636376]\n",
      "[0.722215712 0.720584929 0.274668425 0.509425282 0.562426925]\n",
      "[0.618279874 0.617271483 0.267963409 0.469497263 0.509775877]\n",
      "[0.549929261 0.54922539 0.261728764 0.437793016 0.469770521]\n",
      "[0.500467181 0.499939412 0.255911738 0.411813378 0.438013911]\n",
      "[0.462484479 0.462069511 0.250467688 0.390011311 0.411996812]\n",
      "[0.432106972 0.431769431 0.245358229 0.371369958 0.390166879]\n",
      "[0.407080591 0.406799 0.240550384 0.355189413 0.371504068]\n",
      "[0.385991037 0.385751367 0.236015543 0.340969741 0.355306566]\n",
      "[0.367899 0.367691755 0.231728747 0.328342855 0.341073245]\n",
      "[0.352152586 0.35197106 0.227668136 0.317030966 0.328435183]\n",
      "[0.338283181 0.338122427 0.223814428 0.306819826 0.317114]\n",
      "[0.325943828 0.325800151 0.220150635 0.297541201 0.306895047]\n",
      "[0.31487143 0.314741969 0.216661632 0.289060831 0.297609776]\n",
      "[0.304862291 0.304744869 0.21333389 0.281270146 0.289123684]\n",
      "[0.295755923 0.295648783 0.210155353 0.274080217 0.281328052]\n",
      "[0.287423879 0.287325621 0.207115173 0.267417371 0.274133742]\n",
      "[0.27976203 0.279671431 0.204203576 0.261220068 0.267467082]\n",
      "[0.272684813 0.272600949 0.201411739 0.255436331 0.261266351]\n",
      "[0.266121268 0.266043335 0.198731661 0.250022024 0.255479574]\n",
      "[0.260011971 0.259939313 0.196156055 0.244939357 0.250062585]\n",
      "[0.254306734 0.254238755 0.193678319 0.240155712 0.244977444]\n",
      "[0.24896276 0.248898983 0.191292375 0.235642806 0.240191594]\n",
      "[0.243943363 0.243883401 0.188992709 0.231375962 0.235676676]\n",
      "[0.239216924 0.239160404 0.186774209 0.22733359 0.23140803]\n",
      "[0.234755933 0.234702542 0.184632227 0.223496646 0.227364]\n",
      "[0.230536401 0.230485871 0.182562456 0.219848245 0.223525524]\n",
      "[0.226537272 0.226489335 0.180560917 0.216373399 0.219875723]\n",
      "[0.222739965 0.222694382 0.17862393 0.21305877 0.216399595]\n",
      "[0.219128028 0.219084606 0.176748097 0.209892362 0.213083774]\n",
      "[0.215686783 0.215645388 0.174930274 0.206863448 0.209916264]\n",
      "[0.212403193 0.21236369 0.173167512 0.203962341 0.206886321]\n"
     ]
    },
    {
     "data": {
      "text/plain": [
       "<tf.Tensor: id=310, shape=(5,), dtype=float32, numpy=\n",
       "array([0.20926557, 0.20922782, 0.17145708, 0.20118028, 0.20398428],\n",
       "      dtype=float32)>"
      ]
     },
     "execution_count": 27,
     "metadata": {},
     "output_type": "execute_result"
    }
   ],
   "source": [
    "# Simple loop\n",
    "\n",
    "@tf.function\n",
    "def f(x):\n",
    "    while tf.reduce_sum(x) > 1:\n",
    "        tf.print(x)\n",
    "        x = tf.tanh(x)\n",
    "    return x\n",
    "\n",
    "f(tf.random.uniform([5]))"
   ]
  },
  {
   "cell_type": "code",
   "execution_count": 28,
   "metadata": {},
   "outputs": [
    {
     "name": "stdout",
     "output_type": "stream",
     "text": [
      "def tf__f(x):\n",
      "  do_return = False\n",
      "  retval_ = ag__.UndefinedReturnValue()\n",
      "  with ag__.FunctionScope('f', 'f_scope', ag__.ConversionOptions(recursive=True, user_requested=True, optional_features=(), internal_convert_user_code=True)) as f_scope:\n",
      "\n",
      "    def get_state():\n",
      "      return ()\n",
      "\n",
      "    def set_state(_):\n",
      "      pass\n",
      "\n",
      "    def loop_body(x):\n",
      "      ag__.converted_call(tf.print, f_scope.callopts, (x,), None, f_scope)\n",
      "      x = ag__.converted_call(tf.tanh, f_scope.callopts, (x,), None, f_scope)\n",
      "      return x,\n",
      "\n",
      "    def loop_test(x):\n",
      "      return ag__.converted_call(tf.reduce_sum, f_scope.callopts, (x,), None, f_scope) > 1\n",
      "    x, = ag__.while_stmt(loop_test, loop_body, get_state, set_state, (x,), ('x',), ())\n",
      "    do_return = True\n",
      "    retval_ = f_scope.mark_return_value(x)\n",
      "  do_return,\n",
      "  return ag__.retval(retval_)\n",
      "\n"
     ]
    }
   ],
   "source": [
    "print(tf.autograph.to_code(f.python_function))"
   ]
  },
  {
   "cell_type": "code",
   "execution_count": null,
   "metadata": {},
   "outputs": [],
   "source": []
  }
 ],
 "metadata": {
  "kernelspec": {
   "display_name": "Python 3",
   "language": "python",
   "name": "python3"
  },
  "language_info": {
   "codemirror_mode": {
    "name": "ipython",
    "version": 3
   },
   "file_extension": ".py",
   "mimetype": "text/x-python",
   "name": "python",
   "nbconvert_exporter": "python",
   "pygments_lexer": "ipython3",
   "version": "3.7.3"
  }
 },
 "nbformat": 4,
 "nbformat_minor": 4
}
