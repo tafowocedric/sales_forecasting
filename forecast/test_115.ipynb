{
 "cells": [
  {
   "cell_type": "code",
   "execution_count": 1,
   "metadata": {},
   "outputs": [],
   "source": [
    "import pandas as pd\n",
    "import numpy as np\n",
    "\n",
    "import matplotlib.pyplot as plt\n",
    "import seaborn as sns\n",
    "import matplotlib.dates as mdates\n",
    "%matplotlib inline\n",
    "\n",
    "import datetime\n",
    "import math\n",
    "import os\n",
    "\n",
    "\n",
    "from IPython.display import display\n",
    "\n",
    "from sklearn.preprocessing import MinMaxScaler\n",
    "from sklearn.metrics import mean_squared_error, mean_absolute_error, r2_score\n",
    "from statsmodels.tools.eval_measures import rmse\n",
    "\n",
    "from sklearn.linear_model import LinearRegression, Lasso, ElasticNet\n",
    "from sklearn.tree import DecisionTreeRegressor\n",
    "from sklearn.neighbors import KNeighborsRegressor\n",
    "from sklearn.svm import SVR\n",
    "\n",
    "from sklearn.model_selection import KFold, cross_val_score, train_test_split\n",
    "\n",
    "import warnings\n",
    "warnings.filterwarnings(\"ignore\")"
   ]
  },
  {
   "cell_type": "markdown",
   "metadata": {},
   "source": [
    "## Load and View Data"
   ]
  },
  {
   "cell_type": "code",
   "execution_count": 29,
   "metadata": {},
   "outputs": [],
   "source": [
    "def load_data(csv_path:str, usecols:list=None) -> pd.DataFrame:\n",
    "    data = pd.read_csv(csv_path)\n",
    "    data.columns = data.columns.str.lower()\n",
    "    \n",
    "    if usecols:\n",
    "        usecols += [\"date\"]\n",
    "        data = data[set(usecols)]\n",
    "    \n",
    "    return data\n",
    "\n",
    "def resample_data_freq(data:pd.DataFrame, freq:str, target_col) -> pd.DataFrame:\n",
    "    data = data.copy()\n",
    "    \n",
    "    data.date = pd.to_datetime(data.date)\n",
    "    data.set_index([\"date\"], inplace=True)\n",
    "    data = data.resample(rule=freq).sum()\n",
    "    \n",
    "    data = data[data[target_col] != 0.0]\n",
    "    \n",
    "    data.reset_index(inplace=True)\n",
    "    return data\n",
    "    \n",
    "    \n",
    "target_col = \"total\"\n",
    "freq = \"D\"\n",
    "csv_path = \"supermarket_sales - Sheet1.csv\"\n",
    "lags = 13\n",
    "test_ratio = 12\n",
    "\n",
    "\n",
    "sales_data = load_data(csv_path=csv_path, usecols=[target_col])\n",
    "freq_data = resample_data_freq(data=sales_data, target_col=target_col, freq=freq)"
   ]
  },
  {
   "cell_type": "code",
   "execution_count": 30,
   "metadata": {},
   "outputs": [
    {
     "name": "stdout",
     "output_type": "stream",
     "text": [
      "<class 'pandas.core.frame.DataFrame'>\n",
      "RangeIndex: 1000 entries, 0 to 999\n",
      "Data columns (total 2 columns):\n",
      " #   Column  Non-Null Count  Dtype  \n",
      "---  ------  --------------  -----  \n",
      " 0   date    1000 non-null   object \n",
      " 1   total   1000 non-null   float64\n",
      "dtypes: float64(1), object(1)\n",
      "memory usage: 15.8+ KB\n"
     ]
    }
   ],
   "source": [
    "sales_data.info()"
   ]
  },
  {
   "cell_type": "code",
   "execution_count": 31,
   "metadata": {},
   "outputs": [
    {
     "data": {
      "text/html": [
       "<div>\n",
       "<style scoped>\n",
       "    .dataframe tbody tr th:only-of-type {\n",
       "        vertical-align: middle;\n",
       "    }\n",
       "\n",
       "    .dataframe tbody tr th {\n",
       "        vertical-align: top;\n",
       "    }\n",
       "\n",
       "    .dataframe thead th {\n",
       "        text-align: right;\n",
       "    }\n",
       "</style>\n",
       "<table border=\"1\" class=\"dataframe\">\n",
       "  <thead>\n",
       "    <tr style=\"text-align: right;\">\n",
       "      <th></th>\n",
       "      <th>date</th>\n",
       "      <th>total</th>\n",
       "    </tr>\n",
       "  </thead>\n",
       "  <tbody>\n",
       "    <tr>\n",
       "      <th>0</th>\n",
       "      <td>1/5/2019</td>\n",
       "      <td>548.9715</td>\n",
       "    </tr>\n",
       "    <tr>\n",
       "      <th>1</th>\n",
       "      <td>3/8/2019</td>\n",
       "      <td>80.2200</td>\n",
       "    </tr>\n",
       "    <tr>\n",
       "      <th>2</th>\n",
       "      <td>3/3/2019</td>\n",
       "      <td>340.5255</td>\n",
       "    </tr>\n",
       "    <tr>\n",
       "      <th>3</th>\n",
       "      <td>1/27/2019</td>\n",
       "      <td>489.0480</td>\n",
       "    </tr>\n",
       "    <tr>\n",
       "      <th>4</th>\n",
       "      <td>2/8/2019</td>\n",
       "      <td>634.3785</td>\n",
       "    </tr>\n",
       "  </tbody>\n",
       "</table>\n",
       "</div>"
      ],
      "text/plain": [
       "        date     total\n",
       "0   1/5/2019  548.9715\n",
       "1   3/8/2019   80.2200\n",
       "2   3/3/2019  340.5255\n",
       "3  1/27/2019  489.0480\n",
       "4   2/8/2019  634.3785"
      ]
     },
     "metadata": {},
     "output_type": "display_data"
    },
    {
     "data": {
      "text/html": [
       "<div>\n",
       "<style scoped>\n",
       "    .dataframe tbody tr th:only-of-type {\n",
       "        vertical-align: middle;\n",
       "    }\n",
       "\n",
       "    .dataframe tbody tr th {\n",
       "        vertical-align: top;\n",
       "    }\n",
       "\n",
       "    .dataframe thead th {\n",
       "        text-align: right;\n",
       "    }\n",
       "</style>\n",
       "<table border=\"1\" class=\"dataframe\">\n",
       "  <thead>\n",
       "    <tr style=\"text-align: right;\">\n",
       "      <th></th>\n",
       "      <th>date</th>\n",
       "      <th>total</th>\n",
       "    </tr>\n",
       "  </thead>\n",
       "  <tbody>\n",
       "    <tr>\n",
       "      <th>0</th>\n",
       "      <td>2019-01-01</td>\n",
       "      <td>4745.1810</td>\n",
       "    </tr>\n",
       "    <tr>\n",
       "      <th>1</th>\n",
       "      <td>2019-01-02</td>\n",
       "      <td>1945.5030</td>\n",
       "    </tr>\n",
       "    <tr>\n",
       "      <th>2</th>\n",
       "      <td>2019-01-03</td>\n",
       "      <td>2078.1285</td>\n",
       "    </tr>\n",
       "    <tr>\n",
       "      <th>3</th>\n",
       "      <td>2019-01-04</td>\n",
       "      <td>1623.6885</td>\n",
       "    </tr>\n",
       "    <tr>\n",
       "      <th>4</th>\n",
       "      <td>2019-01-05</td>\n",
       "      <td>3536.6835</td>\n",
       "    </tr>\n",
       "  </tbody>\n",
       "</table>\n",
       "</div>"
      ],
      "text/plain": [
       "        date      total\n",
       "0 2019-01-01  4745.1810\n",
       "1 2019-01-02  1945.5030\n",
       "2 2019-01-03  2078.1285\n",
       "3 2019-01-04  1623.6885\n",
       "4 2019-01-05  3536.6835"
      ]
     },
     "execution_count": 31,
     "metadata": {},
     "output_type": "execute_result"
    }
   ],
   "source": [
    "display(sales_data.head())\n",
    "freq_data.head()"
   ]
  },
  {
   "cell_type": "markdown",
   "metadata": {},
   "source": [
    "# EDA"
   ]
  },
  {
   "cell_type": "code",
   "execution_count": 32,
   "metadata": {},
   "outputs": [
    {
     "name": "stdout",
     "output_type": "stream",
     "text": [
      "88 days\n",
      "13 weeks\n",
      "3 months\n",
      "0 years\n"
     ]
    }
   ],
   "source": [
    "# Duration of dataset\n",
    "def sales_duration(data):\n",
    "    data.date = pd.to_datetime(data.date)\n",
    "    number_of_days = data.date.max() - data.date.min()\n",
    "    number_of_years = round(number_of_days.days / 365)\n",
    "    number_of_months = round(number_of_days.days / 30)\n",
    "    numver_of_weeks = round(number_of_days.days / 7)\n",
    "    \n",
    "    print(number_of_days.days, 'days')\n",
    "    print(numver_of_weeks, 'weeks')\n",
    "    print(number_of_months, 'months')\n",
    "    print(number_of_years, 'years')\n",
    "    \n",
    "sales_duration(data=sales_data)"
   ]
  },
  {
   "cell_type": "code",
   "execution_count": 33,
   "metadata": {},
   "outputs": [
    {
     "data": {
      "image/png": "[encoded data removed]",
      "text/plain": [
       "<Figure size 504x288 with 1 Axes>"
      ]
     },
     "metadata": {
      "needs_background": "light"
     },
     "output_type": "display_data"
    }
   ],
   "source": [
    "def sales_per_day(data, target_col, period):\n",
    "    fig, ax = plt.subplots(figsize=(7,4))\n",
    "    plt.hist(data[target_col], color='mediumblue')\n",
    "    \n",
    "    ax.set(xlabel = f\"Sales Per {period}\", ylabel = \"Count\", title = f\"Distrobution of Sales Per {period.title()}\")\n",
    "    \n",
    "sales_per_day(data=sales_data, target_col=target_col, period=\"day\")"
   ]
  },
  {
   "cell_type": "code",
   "execution_count": 37,
   "metadata": {},
   "outputs": [
    {
     "data": {
      "image/png": "[encoded data removed]",
      "text/plain": [
       "<Figure size 504x288 with 1 Axes>"
      ]
     },
     "metadata": {
      "needs_background": "light"
     },
     "output_type": "display_data"
    }
   ],
   "source": [
    "freq_data[target_col] = np.log(freq_data[target_col])\n",
    "sales_per_day(data=freq_data, target_col=target_col, period=\"day\")"
   ]
  },
  {
   "cell_type": "code",
   "execution_count": 38,
   "metadata": {},
   "outputs": [
    {
     "data": {
      "image/png": "[encoded data removed]",
      "text/plain": [
       "<Figure size 1080x360 with 1 Axes>"
      ]
     },
     "metadata": {
      "needs_background": "light"
     },
     "output_type": "display_data"
    }
   ],
   "source": [
    "def time_plot(data, x_col, y_col, title):\n",
    "    fig, ax = plt.subplots(figsize=(15,5))\n",
    "    sns.lineplot(x_col, y_col, data=data, ax=ax, color='mediumblue', label='Total Sales')\n",
    "    \n",
    "    if y_col.replace(\"_diff\", \"\") == \"total\":\n",
    "        second = data.groupby(data.date.dt.week)[y_col].mean().reset_index()\n",
    "        second.date = pd.date_range(start=data.date.min(), end=data.date.max(), periods=13)\n",
    "        sns.lineplot((second.date + datetime.timedelta(0*365/12)), y_col, data=second, ax=ax, color='red', label='Mean Sales')   \n",
    "    else:\n",
    "        second = data.groupby(data.date.dt.year)[y_col].mean().reset_index()\n",
    "        second.date = pd.to_datetime(second.date, format='%Y')\n",
    "        sns.lineplot((second.date + datetime.timedelta(6*365/12)), y_col, data=second, ax=ax, color='red', label='Mean Sales')   \n",
    "    \n",
    "    \n",
    "    \n",
    "    ax.set(xlabel = \"Date\", ylabel = f\"{y_col.title()}\", title = title)\n",
    "    sns.despine()\n",
    "    \n",
    "time_plot(freq_data, 'date', target_col, 'Monthly Sales Before Diff Transformation')"
   ]
  },
  {
   "cell_type": "markdown",
   "metadata": {},
   "source": [
    "## Stationary Test"
   ]
  },
  {
   "cell_type": "code",
   "execution_count": 39,
   "metadata": {},
   "outputs": [
    {
     "name": "stdout",
     "output_type": "stream",
     "text": [
      "1. ADF :  -7.465264550440819\n",
      "2. P-value :  5.22473894135959e-11\n",
      "3. Num of lags :  1\n",
      "4. Num of obs used for ADF reg and critical values calc :  87\n",
      "5. Critical value :  {'1%': -3.5078527246648834, '5%': -2.895382030636155, '10%': -2.584823877658872}\n",
      "\t 1%  :  -3.5078527246648834\n",
      "\t 5%  :  -2.895382030636155\n",
      "\t 10%  :  -2.584823877658872\n"
     ]
    }
   ],
   "source": [
    "# check stationary\n",
    "from statsmodels.tsa.stattools import adfuller\n",
    "\n",
    "df_test = adfuller(freq_data[target_col], autolag=\"AIC\")\n",
    "\n",
    "print(\"1. ADF : \", df_test[0])\n",
    "print(\"2. P-value : \", df_test[1])\n",
    "print(\"3. Num of lags : \", df_test[2])\n",
    "print(\"4. Num of obs used for ADF reg and critical values calc : \", df_test[3])\n",
    "print(\"5. Critical value : \", df_test[4])\n",
    "\n",
    "for key, val in df_test[4].items():\n",
    "    print(\"\\t\", key, \" : \", val)"
   ]
  },
  {
   "cell_type": "code",
   "execution_count": 40,
   "metadata": {},
   "outputs": [],
   "source": [
    "# freq_data[target_col] = np.log(freq_data[target_col])\n",
    "# display(freq_data.head())\n",
    "\n",
    "# sales_per_day(data=freq_data, target_col=target_col, period=\"day\")"
   ]
  },
  {
   "cell_type": "code",
   "execution_count": 41,
   "metadata": {},
   "outputs": [
    {
     "data": {
      "text/html": [
       "<div>\n",
       "<style scoped>\n",
       "    .dataframe tbody tr th:only-of-type {\n",
       "        vertical-align: middle;\n",
       "    }\n",
       "\n",
       "    .dataframe tbody tr th {\n",
       "        vertical-align: top;\n",
       "    }\n",
       "\n",
       "    .dataframe thead th {\n",
       "        text-align: right;\n",
       "    }\n",
       "</style>\n",
       "<table border=\"1\" class=\"dataframe\">\n",
       "  <thead>\n",
       "    <tr style=\"text-align: right;\">\n",
       "      <th></th>\n",
       "      <th>total</th>\n",
       "      <th>timestamp</th>\n",
       "    </tr>\n",
       "  </thead>\n",
       "  <tbody>\n",
       "    <tr>\n",
       "      <th>0</th>\n",
       "      <td>2.135926</td>\n",
       "      <td>1546300800</td>\n",
       "    </tr>\n",
       "    <tr>\n",
       "      <th>1</th>\n",
       "      <td>2.024626</td>\n",
       "      <td>1546387200</td>\n",
       "    </tr>\n",
       "    <tr>\n",
       "      <th>2</th>\n",
       "      <td>2.033296</td>\n",
       "      <td>1546473600</td>\n",
       "    </tr>\n",
       "    <tr>\n",
       "      <th>3</th>\n",
       "      <td>2.000460</td>\n",
       "      <td>1546560000</td>\n",
       "    </tr>\n",
       "    <tr>\n",
       "      <th>4</th>\n",
       "      <td>2.100585</td>\n",
       "      <td>1546646400</td>\n",
       "    </tr>\n",
       "  </tbody>\n",
       "</table>\n",
       "</div>"
      ],
      "text/plain": [
       "      total   timestamp\n",
       "0  2.135926  1546300800\n",
       "1  2.024626  1546387200\n",
       "2  2.033296  1546473600\n",
       "3  2.000460  1546560000\n",
       "4  2.100585  1546646400"
      ]
     },
     "execution_count": 41,
     "metadata": {},
     "output_type": "execute_result"
    }
   ],
   "source": [
    "freq_data[\"timestamp\"] = pd.to_datetime(freq_data[\"date\"]).astype(int) // (10**9)\n",
    "freq_data.drop([\"date\"], axis=1, inplace=True)\n",
    "\n",
    "freq_data.head()"
   ]
  },
  {
   "cell_type": "code",
   "execution_count": 42,
   "metadata": {},
   "outputs": [
    {
     "name": "stdout",
     "output_type": "stream",
     "text": [
      "(89, 1) (89, 1)\n"
     ]
    },
    {
     "data": {
      "text/plain": [
       "((75, 1), (75, 1), (14, 1), (14, 1))"
      ]
     },
     "execution_count": 42,
     "metadata": {},
     "output_type": "execute_result"
    }
   ],
   "source": [
    "dataset = freq_data.values\n",
    "X = dataset[:, 1].reshape(-1, 1)\n",
    "Y = dataset[:, 0:1]\n",
    "\n",
    "print(X.shape, Y.shape)\n",
    "\n",
    "validation_size = 0.15\n",
    "seed = 7\n",
    "\n",
    "X_train, X_validation, y_train, y_validation = train_test_split(X, Y, test_size=validation_size, random_state=seed)\n",
    "\n",
    "X_train.shape, y_train.shape, X_validation.shape, y_validation.shape"
   ]
  },
  {
   "cell_type": "code",
   "execution_count": 43,
   "metadata": {},
   "outputs": [],
   "source": [
    "num_folds = 10\n",
    "scoring = \"r2\"\n",
    "\n",
    "# Spot-Check Algorithms\n",
    "models = []\n",
    "models.append(('LR', LinearRegression()))\n",
    "models.append(('LASSO', Lasso()))\n",
    "models.append(('EN', ElasticNet()))\n",
    "models.append(('KNN', KNeighborsRegressor()))\n",
    "models.append(('CART', DecisionTreeRegressor()))\n",
    "models.append(('SVR', SVR()))"
   ]
  },
  {
   "cell_type": "code",
   "execution_count": 44,
   "metadata": {},
   "outputs": [
    {
     "name": "stdout",
     "output_type": "stream",
     "text": [
      "LR: -0.361766 (0.621545)\n",
      "LASSO: -0.361765 (0.621541)\n",
      "EN: -0.361766 (0.621543)\n",
      "KNN: -0.911229 (0.993492)\n",
      "CART: -2.554236 (2.949351)\n",
      "SVR: -0.430405 (0.473172)\n"
     ]
    }
   ],
   "source": [
    "results = []\n",
    "names = []\n",
    "\n",
    "for name, model in models:\n",
    "    kfold = KFold(n_splits=num_folds, random_state=seed, shuffle=False)\n",
    "    cv_results = cross_val_score(model, X_train, y_train, cv=kfold, scoring=scoring)\n",
    "    \n",
    "    # result\n",
    "    results.append(cv_results)\n",
    "    names.append(name)\n",
    "    \n",
    "    msg = \"%s: %f (%f)\" % (name, cv_results.mean(), cv_results.std())\n",
    "    print(msg)"
   ]
  },
  {
   "cell_type": "code",
   "execution_count": 73,
   "metadata": {},
   "outputs": [
    {
     "name": "stdout",
     "output_type": "stream",
     "text": [
      "R2 sq:  0.7864207266420976\n",
      "Mean squared error: 0.00\n",
      "Test Variance score: 0.15\n"
     ]
    },
    {
     "data": {
      "image/png": "[encoded data removed]",
      "text/plain": [
       "<Figure size 432x288 with 1 Axes>"
      ]
     },
     "metadata": {
      "needs_background": "light"
     },
     "output_type": "display_data"
    },
    {
     "data": {
      "text/html": [
       "<div>\n",
       "<style scoped>\n",
       "    .dataframe tbody tr th:only-of-type {\n",
       "        vertical-align: middle;\n",
       "    }\n",
       "\n",
       "    .dataframe tbody tr th {\n",
       "        vertical-align: top;\n",
       "    }\n",
       "\n",
       "    .dataframe thead th {\n",
       "        text-align: right;\n",
       "    }\n",
       "</style>\n",
       "<table border=\"1\" class=\"dataframe\">\n",
       "  <thead>\n",
       "    <tr style=\"text-align: right;\">\n",
       "      <th></th>\n",
       "      <th>actual</th>\n",
       "      <th>pred</th>\n",
       "    </tr>\n",
       "  </thead>\n",
       "  <tbody>\n",
       "    <tr>\n",
       "      <th>0</th>\n",
       "      <td>2.114527</td>\n",
       "      <td>2.130240</td>\n",
       "    </tr>\n",
       "    <tr>\n",
       "      <th>1</th>\n",
       "      <td>1.979586</td>\n",
       "      <td>2.068623</td>\n",
       "    </tr>\n",
       "    <tr>\n",
       "      <th>2</th>\n",
       "      <td>2.070701</td>\n",
       "      <td>2.100005</td>\n",
       "    </tr>\n",
       "    <tr>\n",
       "      <th>3</th>\n",
       "      <td>2.051547</td>\n",
       "      <td>2.100005</td>\n",
       "    </tr>\n",
       "    <tr>\n",
       "      <th>4</th>\n",
       "      <td>2.054679</td>\n",
       "      <td>2.068459</td>\n",
       "    </tr>\n",
       "    <tr>\n",
       "      <th>5</th>\n",
       "      <td>2.130747</td>\n",
       "      <td>2.089127</td>\n",
       "    </tr>\n",
       "    <tr>\n",
       "      <th>6</th>\n",
       "      <td>2.146338</td>\n",
       "      <td>2.068459</td>\n",
       "    </tr>\n",
       "    <tr>\n",
       "      <th>7</th>\n",
       "      <td>2.078612</td>\n",
       "      <td>2.095594</td>\n",
       "    </tr>\n",
       "    <tr>\n",
       "      <th>8</th>\n",
       "      <td>2.076228</td>\n",
       "      <td>2.088815</td>\n",
       "    </tr>\n",
       "    <tr>\n",
       "      <th>9</th>\n",
       "      <td>2.085958</td>\n",
       "      <td>2.092961</td>\n",
       "    </tr>\n",
       "    <tr>\n",
       "      <th>10</th>\n",
       "      <td>2.123916</td>\n",
       "      <td>2.130240</td>\n",
       "    </tr>\n",
       "    <tr>\n",
       "      <th>11</th>\n",
       "      <td>2.152536</td>\n",
       "      <td>2.094863</td>\n",
       "    </tr>\n",
       "    <tr>\n",
       "      <th>12</th>\n",
       "      <td>2.140065</td>\n",
       "      <td>2.100005</td>\n",
       "    </tr>\n",
       "    <tr>\n",
       "      <th>13</th>\n",
       "      <td>2.068038</td>\n",
       "      <td>2.068623</td>\n",
       "    </tr>\n",
       "  </tbody>\n",
       "</table>\n",
       "</div>"
      ],
      "text/plain": [
       "      actual      pred\n",
       "0   2.114527  2.130240\n",
       "1   1.979586  2.068623\n",
       "2   2.070701  2.100005\n",
       "3   2.051547  2.100005\n",
       "4   2.054679  2.068459\n",
       "5   2.130747  2.089127\n",
       "6   2.146338  2.068459\n",
       "7   2.078612  2.095594\n",
       "8   2.076228  2.088815\n",
       "9   2.085958  2.092961\n",
       "10  2.123916  2.130240\n",
       "11  2.152536  2.094863\n",
       "12  2.140065  2.100005\n",
       "13  2.068038  2.068623"
      ]
     },
     "metadata": {},
     "output_type": "display_data"
    }
   ],
   "source": [
    "from sklearn import ensemble\n",
    "# Fit regression model\n",
    "params = {'n_estimators': 67, 'max_depth': 2, 'min_samples_split': 2, 'learning_rate': 0.2, 'loss': 'ls'}\n",
    "model = ensemble.GradientBoostingRegressor(**params)\n",
    "model.fit(X_train, y_train)\n",
    "\n",
    "from sklearn.metrics import mean_squared_error, r2_score\n",
    "model_score = model.score(X_train, y_train)\n",
    "# Have a look at R sq to give an idea of the fit ,\n",
    "# Explained variance score: 1 is perfect prediction\n",
    "print('R2 sq: ', model_score)\n",
    "y_predicted = model.predict(X_validation)\n",
    "\n",
    "# The mean squared error\n",
    "print(\"Mean squared error: %.2f\"% mean_squared_error(y_validation, y_predicted))\n",
    "# Explained variance score: 1 is perfect prediction\n",
    "print('Test Variance score: %.2f' % r2_score(y_validation, y_predicted))\n",
    "\n",
    "dataframe = pd.DataFrame(np.concatenate([y_validation, y_predicted.reshape(-1, 1)], axis=1), columns=[\"actual\", \"pred\"])\n",
    "\n",
    "dataframe.plot()\n",
    "plt.title(\"Actual VS Prediction Values\")\n",
    "plt.legend()\n",
    "plt.show()\n",
    "\n",
    "display(dataframe)"
   ]
  },
  {
   "cell_type": "code",
   "execution_count": null,
   "metadata": {},
   "outputs": [],
   "source": []
  },
  {
   "cell_type": "code",
   "execution_count": null,
   "metadata": {},
   "outputs": [],
   "source": []
  }
 ],
 "metadata": {
  "kernelspec": {
   "display_name": "Python 3",
   "language": "python",
   "name": "python3"
  },
  "language_info": {
   "codemirror_mode": {
    "name": "ipython",
    "version": 3
   },
   "file_extension": ".py",
   "mimetype": "text/x-python",
   "name": "python",
   "nbconvert_exporter": "python",
   "pygments_lexer": "ipython3",
   "version": "3.8.3"
  }
 },
 "nbformat": 4,
 "nbformat_minor": 4
}
