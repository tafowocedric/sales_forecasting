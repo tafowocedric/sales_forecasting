{
 "cells": [
  {
   "cell_type": "code",
   "execution_count": 1,
   "metadata": {},
   "outputs": [],
   "source": [
    "import math\n",
    "\n",
    "import tensorflow as tf\n",
    "import tensorflow.compat.v1 as tfv1\n",
    "\n",
    "from tensorflow import keras\n",
    "from tensorflow.keras import layers\n",
    "from tensorflow.keras.utils import Sequence\n",
    "\n",
    "from datetime import datetime, timedelta\n",
    "import time\n",
    "\n",
    "from sklearn.preprocessing import MinMaxScaler\n",
    "from sklearn.metrics import mean_squared_error\n",
    "\n",
    "import numpy as np\n",
    "import pandas as pd\n",
    "import time\n",
    "\n",
    "import os\n",
    "\n",
    "from IPython.display import display\n",
    "\n",
    "import matplotlib.pyplot as plt\n",
    "import multiprocessing"
   ]
  },
  {
   "cell_type": "code",
   "execution_count": 2,
   "metadata": {},
   "outputs": [
    {
     "data": {
      "text/plain": [
       "True"
      ]
     },
     "execution_count": 2,
     "metadata": {},
     "output_type": "execute_result"
    }
   ],
   "source": [
    "# tfv1.disable_eager_execution()\n",
    "tfv1.executing_eagerly()"
   ]
  },
  {
   "cell_type": "code",
   "execution_count": 3,
   "metadata": {},
   "outputs": [
    {
     "data": {
      "image/png": "[encoded data removed]",
      "text/plain": [
       "<Figure size 432x288 with 1 Axes>"
      ]
     },
     "metadata": {
      "needs_background": "light"
     },
     "output_type": "display_data"
    },
    {
     "data": {
      "text/html": [
       "<div>\n",
       "<style scoped>\n",
       "    .dataframe tbody tr th:only-of-type {\n",
       "        vertical-align: middle;\n",
       "    }\n",
       "\n",
       "    .dataframe tbody tr th {\n",
       "        vertical-align: top;\n",
       "    }\n",
       "\n",
       "    .dataframe thead th {\n",
       "        text-align: right;\n",
       "    }\n",
       "</style>\n",
       "<table border=\"1\" class=\"dataframe\">\n",
       "  <thead>\n",
       "    <tr style=\"text-align: right;\">\n",
       "      <th></th>\n",
       "      <th>txn_date</th>\n",
       "      <th>gross_amount</th>\n",
       "    </tr>\n",
       "  </thead>\n",
       "  <tbody>\n",
       "    <tr>\n",
       "      <th>13</th>\n",
       "      <td>2020-08-30</td>\n",
       "      <td>140.00</td>\n",
       "    </tr>\n",
       "    <tr>\n",
       "      <th>14</th>\n",
       "      <td>2020-08-31</td>\n",
       "      <td>588.28</td>\n",
       "    </tr>\n",
       "    <tr>\n",
       "      <th>15</th>\n",
       "      <td>2020-09-01</td>\n",
       "      <td>534.00</td>\n",
       "    </tr>\n",
       "    <tr>\n",
       "      <th>16</th>\n",
       "      <td>2020-09-02</td>\n",
       "      <td>657.80</td>\n",
       "    </tr>\n",
       "    <tr>\n",
       "      <th>17</th>\n",
       "      <td>2020-09-03</td>\n",
       "      <td>1103.90</td>\n",
       "    </tr>\n",
       "  </tbody>\n",
       "</table>\n",
       "</div>"
      ],
      "text/plain": [
       "      txn_date  gross_amount\n",
       "13  2020-08-30        140.00\n",
       "14  2020-08-31        588.28\n",
       "15  2020-09-01        534.00\n",
       "16  2020-09-02        657.80\n",
       "17  2020-09-03       1103.90"
      ]
     },
     "execution_count": 3,
     "metadata": {},
     "output_type": "execute_result"
    }
   ],
   "source": [
    "df = pd.read_csv(\"universe_dataset.csv\", usecols=[\"gross_amount\", \"txn_date\"])\n",
    "\n",
    "df.plot()\n",
    "plt.show()\n",
    "\n",
    "df.tail()"
   ]
  },
  {
   "cell_type": "code",
   "execution_count": 4,
   "metadata": {},
   "outputs": [
    {
     "name": "stdout",
     "output_type": "stream",
     "text": [
      "<class 'pandas.core.frame.DataFrame'>\n",
      "RangeIndex: 18 entries, 0 to 17\n",
      "Data columns (total 2 columns):\n",
      " #   Column        Non-Null Count  Dtype  \n",
      "---  ------        --------------  -----  \n",
      " 0   txn_date      18 non-null     object \n",
      " 1   gross_amount  18 non-null     float64\n",
      "dtypes: float64(1), object(1)\n",
      "memory usage: 416.0+ bytes\n"
     ]
    }
   ],
   "source": [
    "df.info()"
   ]
  },
  {
   "cell_type": "code",
   "execution_count": 5,
   "metadata": {},
   "outputs": [
    {
     "name": "stdout",
     "output_type": "stream",
     "text": [
      "Number of rows and columns after removing missing values: (18, 2)\n",
      "The time series starts from:  2020-05-19 00:00:00\n",
      "The time series ends on:  2020-09-03 00:00:00\n",
      "\n",
      "\n",
      "CPU times: user 2.94 ms, sys: 3.54 ms, total: 6.48 ms\n",
      "Wall time: 6.08 ms\n"
     ]
    }
   ],
   "source": [
    "%%time\n",
    "\n",
    "df['txn_date'] = pd.to_datetime(df['txn_date'])\n",
    "\n",
    "df.sort_values('txn_date', inplace=True, ascending=True)\n",
    "df = df.reset_index(drop=True)\n",
    "\n",
    "print('Number of rows and columns after removing missing values:', df.shape)\n",
    "print('The time series starts from: ', df['txn_date'].min())\n",
    "print('The time series ends on: ', df['txn_date'].max())\n",
    "print(\"\\n\")"
   ]
  },
  {
   "cell_type": "code",
   "execution_count": 6,
   "metadata": {},
   "outputs": [
    {
     "name": "stdout",
     "output_type": "stream",
     "text": [
      "Test dates: 2020-08-29 00:00:00 to 2020-09-03 00:00:00\n",
      "Validation dates: 2020-08-18 00:00:00 to 2020-08-25 00:00:00\n",
      "Train dates: 2020-05-19 00:00:00 to 2020-08-12 00:00:00\n"
     ]
    },
    {
     "data": {
      "text/plain": [
       "((8, 2), (4, 2), (6, 2))"
      ]
     },
     "execution_count": 6,
     "metadata": {},
     "output_type": "execute_result"
    }
   ],
   "source": [
    "# Split into training, validation and test datasets.\n",
    "# Since it's timeseries we should do it by date.\n",
    "test_cutoff_date = df['txn_date'].max() - timedelta(days=7)\n",
    "val_cutoff_date = test_cutoff_date - timedelta(days=14)\n",
    "\n",
    "df_test = df[df['txn_date'] > test_cutoff_date]\n",
    "df_val = df[(df['txn_date'] > val_cutoff_date) & (df['txn_date'] <= test_cutoff_date)]\n",
    "df_train = df[df['txn_date'] <= val_cutoff_date]\n",
    "\n",
    "#check out the datasets\n",
    "print('Test dates: {} to {}'.format(df_test['txn_date'].min(), df_test['txn_date'].max()))\n",
    "print('Validation dates: {} to {}'.format(df_val['txn_date'].min(), df_val['txn_date'].max()))\n",
    "print('Train dates: {} to {}'.format(df_train['txn_date'].min(), df_train['txn_date'].max()))\n",
    "\n",
    "df_train.shape, df_val.shape, df_test.shape"
   ]
  },
  {
   "cell_type": "code",
   "execution_count": 7,
   "metadata": {},
   "outputs": [],
   "source": [
    "def windowed_dataset(series, window_size, batch_size, shuffle_buffer):\n",
    "    series = tf.expand_dims(series, axis=-1)\n",
    "       \n",
    "    ds = tf.data.Dataset.from_tensor_slices(series)\n",
    "    ds = ds.window(window_size + 1, shift=1, drop_remainder=True)\n",
    "    ds = ds.flat_map(lambda w: w.batch(window_size + 1))\n",
    "#     ds = ds.shuffle(shuffle_buffer)\n",
    "    ds = ds.map(lambda w: (w[:-1], w[1:]))\n",
    "    \n",
    "    return ds.batch(batch_size).prefetch(tf.data.experimental.AUTOTUNE)\n"
   ]
  },
  {
   "cell_type": "code",
   "execution_count": null,
   "metadata": {},
   "outputs": [],
   "source": []
  },
  {
   "cell_type": "code",
   "execution_count": null,
   "metadata": {},
   "outputs": [],
   "source": []
  },
  {
   "cell_type": "code",
   "execution_count": 8,
   "metadata": {},
   "outputs": [],
   "source": [
    "tf.keras.backend.clear_session()"
   ]
  },
  {
   "cell_type": "code",
   "execution_count": null,
   "metadata": {},
   "outputs": [],
   "source": [
    "class CNN_FORECAST:\n",
    "    def __init__(self, batch_size):\n",
    "        self.batch_size = batch_size        \n",
    "        \n",
    "        # session configuration.\n",
    "        sess_config = tfv1.ConfigProto(allow_soft_placement=True,\n",
    "            gpu_options=tfv1.GPUOptions(per_process_gpu_memory_fraction=0.7, allow_growth=True))\n",
    "        \n",
    "        self._session = tfv1.Session(config=sess_config)\n",
    "        \n",
    "        self.train_acc_metric = keras.metrics.MeanAbsoluteError()\n",
    "        self.val_acc_metric = keras.metrics.MeanAbsoluteError()\n",
    "        \n",
    "    @property\n",
    "    def _optimizer(self):\n",
    "        return tf.keras.optimizers.SGD(lr=1e-5, momentum=0.9)\n",
    "    \n",
    "    @property\n",
    "    def _loss_fn(self):\n",
    "        return tf.keras.losses.MeanSquaredError(reduction=keras.losses.Reduction.AUTO, name='mean_squared_error')\n",
    "    \n",
    "    @property\n",
    "    def _model(self):\n",
    "        tf.keras.backend.clear_session()\n",
    "        model = tf.keras.models.Sequential([\n",
    "            tf.keras.layers.Conv1D(filters=60, kernel_size=5, strides=1, padding=\"causal\", activation=\"relu\", input_shape=[None, 1]),\n",
    "\n",
    "            tf.keras.layers.LSTM(60, return_sequences=True),\n",
    "            tf.keras.layers.LSTM(60, return_sequences=True),\n",
    "\n",
    "            tf.keras.layers.Dense(30, activation=\"relu\"),\n",
    "            tf.keras.layers.Dense(10, activation=\"relu\"),\n",
    "            tf.keras.layers.Dense(1),\n",
    "\n",
    "            tf.keras.layers.Lambda(lambda x: x * 400)\n",
    "        ])\n",
    "        \n",
    "        return model\n",
    "    \n",
    "    def _compute_loss(self, actual, predict):\n",
    "        return self._loss_fn(actual, predict)\n",
    "    \n",
    "    def train(self):\n",
    "        # clear tensflow session.\n",
    "        tf.keras.backend.clear_session()\n",
    "        \n",
    "        # create training and validation dataset\n",
    "        train_set = self._create_dataset(df_train, window_size=5, batch_size=self.batch_size, shuffle_buffer_size=1)\n",
    "        val_set = self._create_dataset(df_val, window_size=3, batch_size=self.batch_size, shuffle_buffer_size=1)\n",
    "               \n",
    "        # Create a checkpoint directory to store the checkpoints.\n",
    "        checkpoint_dir = 'training_checkpoints'\n",
    "        checkpoint_prefix = os.path.join(checkpoint_dir, \"ckpt\")\n",
    "        \n",
    "        ckpt = tfv1.train.Checkpoint(step=tfv1.Variable(1), optimizer=self._optimizer, model=self._model, iterator=iter(train_set))\n",
    "        manager = tfv1.train.CheckpointManager(ckpt, checkpoint_dir, max_to_keep=3)\n",
    "        \n",
    "        ckpt.restore(manager.latest_checkpoint)\n",
    "        if manager.latest_checkpoint:\n",
    "            print(\"Restored from {}\".format(manager.latest_checkpoint))\n",
    "        else:\n",
    "            print(\"Initializing from scratch.\")\n",
    "        \n",
    "        # Session Configuration\n",
    "        config = tfv1.ConfigProto(allow_soft_placement=True, log_device_placement=True, intra_op_parallelism_threads=1, inter_op_parallelism_threads=1)\n",
    "        \n",
    "        config.gpu_options.allow_growth = True\n",
    "        config.gpu_options.per_process_gpu_memory_fraction = 0.9\n",
    "                \n",
    "        with tfv1.Session(config=config) as sess:\n",
    "            sess.run(tfv1.global_variables_initializer())\n",
    "            \n",
    "        for epoch in range(1, 10):\n",
    "            print(f\"Start of epoch %d\\n\" % (epoch, ))\n",
    "            start_time = time.time()\n",
    "            \n",
    "            # Training loop\n",
    "            for step, (x_batch_train, y_batch_train) in enumerate(train_set):\n",
    "                loss = self._train_step(x_batch_train, y_batch_train)\n",
    "                \n",
    "            # Display metrics at the end of each epoch.\n",
    "            train_acc = self.train_acc_metric.result()\n",
    "            print(\"Training Loss {:.3f} Training acc over epoch: {:.3f}\".format(float(loss), float(train_acc)))\n",
    "\n",
    "            # Reset training metrics at the end of each epoch\n",
    "            self.train_acc_metric.reset_states()\n",
    "\n",
    "            # validation loop\n",
    "            for x_batch_val, y_batch_val in val_set:                \n",
    "                self._val_step(x_batch_val, y_batch_val)\n",
    "                               \n",
    "            ckpt.step.assign_add(1)\n",
    "            if int(ckpt.step) % 2 == 0:\n",
    "                save_path = manager.save()\n",
    "                print(\"Saved checkpoint for step {}: {}\".format(int(ckpt.step), save_path))\n",
    "                \n",
    "            print(\"Time taken: %.2fs\" % (time.time() - start_time))\n",
    "            print(\"\\n\")\n",
    "                               \n",
    "            \n",
    "    def _train_step(self, x_batch_train, y_batch_train):   \n",
    "        model = self._model\n",
    "        optimizer = self._optimizer\n",
    "        \n",
    "        with tf.GradientTape() as tape:\n",
    "            logits = model(x_batch_train, training=True) # Logits for this minibatch\n",
    "            loss = self._compute_loss(y_batch_train, logits) # compute the loss value for this minibatch\n",
    "        \n",
    "        trainable_variables = model.trainable_variables\n",
    "        \n",
    "        gradients = tape.gradient(loss, trainable_variables)\n",
    "        optimizer.apply_gradients(zip(gradients, trainable_variables))\n",
    "        \n",
    "        # Update training metric.\n",
    "        self.train_acc_metric.update_state(y_batch_train, logits)\n",
    "        return loss\n",
    "\n",
    "    \n",
    "    def _val_step(self, x_batch_val, y_batch_val):\n",
    "        val_logits = self._model(x_batch_val, training=False)\n",
    "        self.val_acc_metric.update_state(y_batch_val, val_logits)\n",
    "                \n",
    "        val_acc = self.val_acc_metric.result()\n",
    "        self.val_acc_metric.reset_states()\n",
    "\n",
    "        print(\"Validation acc: %.4f\" % (float(val_acc),))\n",
    "    \n",
    "\n",
    "    def _create_dataset(self, df, window_size, batch_size, shuffle_buffer_size):\n",
    "        tf.random.set_seed(51)\n",
    "        np.random.seed(51)\n",
    "        \n",
    "        return windowed_dataset(df[\"gross_amount\"].values, window_size, batch_size, shuffle_buffer_size)\n",
    "    \n",
    "    \n",
    "    def __enter__(self):\n",
    "        return self\n",
    "    \n",
    "    def __exit__(self, exc_type, exc_val, exc_tb):\n",
    "        self._session.close()\n",
    "        \n",
    "        \n",
    "cnn = CNN_FORECAST(5)\n",
    "\n",
    "p = multiprocessing.Process(target=cnn.train)\n",
    "p.start()\n",
    "p.join()"
   ]
  },
  {
   "cell_type": "code",
   "execution_count": null,
   "metadata": {},
   "outputs": [],
   "source": [
    "p"
   ]
  },
  {
   "cell_type": "code",
   "execution_count": null,
   "metadata": {},
   "outputs": [],
   "source": []
  }
 ],
 "metadata": {
  "kernelspec": {
   "display_name": "Python 3",
   "language": "python",
   "name": "python3"
  },
  "language_info": {
   "codemirror_mode": {
    "name": "ipython",
    "version": 3
   },
   "file_extension": ".py",
   "mimetype": "text/x-python",
   "name": "python",
   "nbconvert_exporter": "python",
   "pygments_lexer": "ipython3",
   "version": "3.8.3"
  }
 },
 "nbformat": 4,
 "nbformat_minor": 4
}
