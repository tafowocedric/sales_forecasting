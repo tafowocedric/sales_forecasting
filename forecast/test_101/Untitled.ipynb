{
 "cells": [
  {
   "cell_type": "code",
   "execution_count": 54,
   "metadata": {},
   "outputs": [
    {
     "name": "stdout",
     "output_type": "stream",
     "text": [
      "0\t3\t5\t8\t9\t14\t19\t25\t28\t29\t\n",
      "0\t3\t5\t8\t9\t14\t19\t25\t28\t29\t\n"
     ]
    }
   ],
   "source": [
    "# Question 1\n",
    "\n",
    "string = \"I have said this things to you\"\n",
    "vowels = 'a', 'e', 'i', 'o', 'u'\n",
    "indices = \"\"\n",
    "\n",
    "# Using a while loop\n",
    "i = 0 # initialise i to 0 here first!\n",
    "while i < len(string):\n",
    "    if string[i].lower() in vowels:\n",
    "        indices += str(i) + '\\t'\n",
    "    i += 1\n",
    "    \n",
    "print( indices)\n",
    "\n",
    "# Using For loop\n",
    "indices = \"\"\n",
    "for i in range(len(string)):\n",
    "    if string[i].lower() in vowels:\n",
    "        indices += str(i) + '\\t'\n",
    "        \n",
    "print(indices)"
   ]
  },
  {
   "cell_type": "code",
   "execution_count": 64,
   "metadata": {},
   "outputs": [
    {
     "name": "stdout",
     "output_type": "stream",
     "text": [
      "o   5\n",
      "a   11\n"
     ]
    }
   ],
   "source": [
    "# Question 2\n",
    "\n",
    "# words\n",
    "word1 = \"The Holy Grail\"\n",
    "word2 = \"Life of Brian\"\n",
    "\n",
    "index = 0 # index is to keep track of the current position of both words\n",
    "\n",
    "for i, j in zip(word1, word2): # for loop to loop through both words\n",
    "    # zip is a python build-in function that returns an iterator of tuples based on the iterable objects.\n",
    "    #If we do not pass any parameter, zip() returns an empty iterator;\n",
    "    # for example zip([124, 235]) returns [(1,2), (2, 3), (4,5)]\n",
    "    \n",
    "    if i == j: # check if character on both words match\n",
    "        print(i, ' ', index) # print character and index of matching characters\n",
    "\n",
    "    index = index + 1 # increment index\n"
   ]
  },
  {
   "cell_type": "code",
   "execution_count": 25,
   "metadata": {},
   "outputs": [
    {
     "name": "stdout",
     "output_type": "stream",
     "text": [
      "After Swapping: x =  1  y = 12\n"
     ]
    }
   ],
   "source": [
    "# Question 3\n",
    "# Python 3 code to swap using XOR \n",
    "  \n",
    "x = 12\n",
    "y = 1\n",
    "  \n",
    "# Code to swap 'x' and 'y' \n",
    "x = x ^ y; # x now becomes 15 (1111) \n",
    "y = x ^ y; # y becomes 10 (1010) \n",
    "x = x ^ y; # x becomes 5 (0101) \n",
    "  \n",
    "print (\"After Swapping: x = \", x, \" y =\", y) "
   ]
  },
  {
   "cell_type": "code",
   "execution_count": 67,
   "metadata": {},
   "outputs": [
    {
     "name": "stdin",
     "output_type": "stream",
     "text": [
      "Enter a number n:  3\n"
     ]
    },
    {
     "name": "stdout",
     "output_type": "stream",
     "text": [
      "33 333\n",
      "The value is: 369\n"
     ]
    }
   ],
   "source": [
    "# Question 4\n",
    "n=int(input(\"Enter a number n: \"))\n",
    "\n",
    "temp=str(n)\n",
    "\n",
    "t1=temp+temp\n",
    "t2=temp+temp+temp\n",
    "\n",
    "print(t1, t2)\n",
    "\n",
    "comp=n+int(t1)+int(t2)\n",
    "\n",
    "print(\"The value is:\",comp)"
   ]
  },
  {
   "cell_type": "code",
   "execution_count": 42,
   "metadata": {},
   "outputs": [
    {
     "name": "stdout",
     "output_type": "stream",
     "text": [
      "number is a negative number\n"
     ]
    }
   ],
   "source": [
    "# Question 5\n",
    "\n",
    "number = -10\n",
    "\n",
    "if number > 0:\n",
    "    if number <= 10:\n",
    "        print(\"number is less than or equal to 10\")\n",
    "    elif number > 10 and number < 20:\n",
    "        print(\"number is between 11 and 19\")\n",
    "    else:\n",
    "        print(\"number is great than or equal to 20\")\n",
    "\n",
    "else:\n",
    "    print(\"number is a negative number\")"
   ]
  },
  {
   "cell_type": "code",
   "execution_count": 47,
   "metadata": {},
   "outputs": [
    {
     "name": "stdout",
     "output_type": "stream",
     "text": [
      "average = 4.2\n"
     ]
    }
   ],
   "source": [
    "# Question 6\n",
    "list_number = [2, 5, 2, 5, 7]\n",
    "\n",
    "sum = 0\n",
    "for val in list_number:\n",
    "    sum = sum + val\n",
    "\n",
    "average = sum/len(list_number)\n",
    "print(\"average = {}\".format(average))"
   ]
  },
  {
   "cell_type": "code",
   "execution_count": null,
   "metadata": {},
   "outputs": [],
   "source": []
  },
  {
   "cell_type": "code",
   "execution_count": 101,
   "metadata": {},
   "outputs": [
    {
     "name": "stdin",
     "output_type": "stream",
     "text": [
      "Enter year  2001\n"
     ]
    },
    {
     "name": "stdout",
     "output_type": "stream",
     "text": [
      "2001 is not a leap year\n"
     ]
    }
   ],
   "source": [
    "# Exercise One\n",
    "year = input(prompt=\"Enter year \")\n",
    "\n",
    "while True:\n",
    "    try:\n",
    "        year = int(year)\n",
    "        break\n",
    "    except Exception as e:\n",
    "        print(repr(e))\n",
    "        year = input(prompt=\"\\nEnter year \")\n",
    "\n",
    "if year % 4 == 0 or year % 100 == 0:\n",
    "    if year % 400 == 0:\n",
    "        print(f\"{year} is a leap year\")\n",
    "    else:\n",
    "        print(f\"{year} is a leap year\")\n",
    "else:\n",
    "    print(f\"{year} is not a leap year\")"
   ]
  },
  {
   "cell_type": "code",
   "execution_count": 103,
   "metadata": {},
   "outputs": [
    {
     "name": "stdin",
     "output_type": "stream",
     "text": [
      "Enter pressure er\n"
     ]
    },
    {
     "name": "stdout",
     "output_type": "stream",
     "text": [
      "ValueError(\"could not convert string to float: 'er'\")\n"
     ]
    }
   ],
   "source": [
    "# Exercise Two\n",
    "P_threshold = 2.3\n",
    "V_threshold = 7.41\n",
    "\n",
    "try:\n",
    "    pressure = float(input(prompt=\"Enter pressure\"))\n",
    "    volume = float(input(prompt=\"Enter current volume\"))\n",
    "    \n",
    "    if pressure > P_threshold and volume < V_threshold:\n",
    "        print(\"\\nIncrease the volume of the enclosure\")\n",
    "    elif volume > V_threshold and pressure < P_threshold:\n",
    "        print(\"\\nDecrease the volume of the enclosure\")\n",
    "    elif pressure > P_threshold and volume > V_threshold:\n",
    "        pass\n",
    "    else:\n",
    "        print(\"\\nEverything is fine\")\n",
    "except Exception as e:\n",
    "    print(repr(e))"
   ]
  },
  {
   "cell_type": "code",
   "execution_count": 98,
   "metadata": {},
   "outputs": [
    {
     "name": "stdout",
     "output_type": "stream",
     "text": [
      "Enter four numbers\n"
     ]
    },
    {
     "name": "stdin",
     "output_type": "stream",
     "text": [
      " ef\n"
     ]
    },
    {
     "name": "stdout",
     "output_type": "stream",
     "text": [
      "ValueError(\"invalid literal for int() with base 10: 'ef'\")\n"
     ]
    }
   ],
   "source": [
    "# Exercise Three\n",
    "print(\"Enter four numbers\")\n",
    "\n",
    "try:\n",
    "    num_1 = int(input())\n",
    "    num_2 = int(input())\n",
    "    num_3 = int(input())\n",
    "    num_4 = int(input())\n",
    "    \n",
    "    prd = num_1 * num_2 * num_3 * num_4\n",
    "    if prd > 1000:\n",
    "        _sum = num_1 + num_2 + num_3 + num_4\n",
    "        print(f\"sum = {_sum}\")\n",
    "    else:\n",
    "        print(f\"product = {prd}\")\n",
    "except Exception as e:\n",
    "    print(repr(e))"
   ]
  },
  {
   "cell_type": "code",
   "execution_count": 75,
   "metadata": {},
   "outputs": [
    {
     "name": "stdin",
     "output_type": "stream",
     "text": [
      "Enter a text Hello Hello\n"
     ]
    },
    {
     "name": "stdout",
     "output_type": "stream",
     "text": [
      "e\n",
      "l\n",
      " \n",
      "e\n",
      "l\n"
     ]
    }
   ],
   "source": [
    "# Exercise Four\n",
    "string = input(prompt=\"Enter a text\")\n",
    "for i in range(len(string)):\n",
    "    if i % 2 != 0:\n",
    "        print(f\"{string[i]}\")"
   ]
  },
  {
   "cell_type": "code",
   "execution_count": 99,
   "metadata": {},
   "outputs": [
    {
     "name": "stdin",
     "output_type": "stream",
     "text": [
      "Enter a text Am a\n",
      "Enter a text e\n"
     ]
    },
    {
     "name": "stdout",
     "output_type": "stream",
     "text": [
      "ValueError(\"invalid literal for int() with base 10: 'e'\")\n"
     ]
    }
   ],
   "source": [
    "# Exercise Five\n",
    "try:\n",
    "    string = input(prompt=\"Enter a text\")\n",
    "    n = int(input(prompt=\"Enter a text\"))\n",
    "    \n",
    "    for i in range(n):\n",
    "        try:\n",
    "            print(string[i])\n",
    "        except IndexError:\n",
    "            break\n",
    "except Exception as e:\n",
    "    print('\\n')\n",
    "    print(repr(e))"
   ]
  },
  {
   "cell_type": "code",
   "execution_count": 109,
   "metadata": {},
   "outputs": [
    {
     "name": "stdin",
     "output_type": "stream",
     "text": [
      "Enter a number 23\n"
     ]
    },
    {
     "name": "stdout",
     "output_type": "stream",
     "text": [
      "False\n"
     ]
    }
   ],
   "source": [
    "# Exercise Six\n",
    "numbers = [1, 2, 3, 4, 5, 6, 7, 8, 9, 0]\n",
    "\n",
    "try:\n",
    "    n = int(input(prompt=\"Enter a number\"))\n",
    "    if n in numbers:\n",
    "        print(True)\n",
    "    else:\n",
    "        print(False)\n",
    "except Exception as e:\n",
    "    print(repr(e))"
   ]
  },
  {
   "cell_type": "code",
   "execution_count": 120,
   "metadata": {},
   "outputs": [
    {
     "name": "stdout",
     "output_type": "stream",
     "text": [
      "\n",
      "1\n",
      "22\n",
      "333\n",
      "4444\n",
      "55555\n",
      "666666\n",
      "\n",
      "*\n",
      "**\n",
      "***\n",
      "****\n",
      "*****\n",
      "******\n",
      "*******\n",
      "******\n",
      "*****\n",
      "****\n",
      "***\n",
      "**\n",
      "*\n"
     ]
    }
   ],
   "source": [
    "# Exercise Seven a\n",
    "for i in range(7):\n",
    "    for j in range(i):\n",
    "        print(i, end='')\n",
    "    print('')\n",
    "\n",
    "# Exercise Seven b\n",
    "iterator = 7\n",
    "for i in range(iterator):\n",
    "    for j in range(i):\n",
    "        print(\"*\", end='')\n",
    "    print('')\n",
    "for i in range(iterator, 0, -1):\n",
    "    for i in range(i, 0, -1):\n",
    "        print(\"*\", end='')\n",
    "    print('')"
   ]
  },
  {
   "cell_type": "code",
   "execution_count": 178,
   "metadata": {},
   "outputs": [
    {
     "name": "stdout",
     "output_type": "stream",
     "text": [
      "23232\n",
      "True\n"
     ]
    }
   ],
   "source": [
    "# Exercise Eight\n",
    "num = 23232\n",
    "temp = num\n",
    "temp_str = \"\"\n",
    "\n",
    "while(temp > 0):\n",
    "    n = temp % 10\n",
    "    temp = int(temp / 10)\n",
    "    temp_str = temp_str + str(n)\n",
    "\n",
    "if num == int(temp_str):\n",
    "    print(True)\n",
    "else:\n",
    "    print(False)"
   ]
  },
  {
   "cell_type": "code",
   "execution_count": 190,
   "metadata": {},
   "outputs": [
    {
     "name": "stdout",
     "output_type": "stream",
     "text": [
      "[1, 5, 7, 2, 0, 27, 0, 21, 6, 12, 18, 3, 9]\n"
     ]
    }
   ],
   "source": [
    "# Exercise Nine\n",
    "list_1 = [1, 2, 4, 5, 6, 7]\n",
    "list_2 = [2, 3, 5, 9, 0]\n",
    "list_3 = [9, 0, 7, 2, 4, 6, 1, 3]\n",
    "\n",
    "new_list = []\n",
    "for x in list_1:\n",
    "    if x % 2 != 0:\n",
    "        new_list.append(x)\n",
    "        \n",
    "for x in list_2:\n",
    "    if x % 2 == 0:\n",
    "        new_list.append(x)\n",
    "        \n",
    "for x in list_3:\n",
    "    new_list.append(x * 3)\n",
    "        \n",
    "print(new_list)"
   ]
  },
  {
   "cell_type": "code",
   "execution_count": 199,
   "metadata": {},
   "outputs": [
    {
     "name": "stdin",
     "output_type": "stream",
     "text": [
      "Enter multiplication number 11\n"
     ]
    },
    {
     "name": "stdout",
     "output_type": "stream",
     "text": [
      "1 * 11 = 11\n",
      "2 * 11 = 22\n",
      "3 * 11 = 33\n",
      "4 * 11 = 44\n",
      "5 * 11 = 55\n",
      "6 * 11 = 66\n",
      "7 * 11 = 77\n",
      "8 * 11 = 88\n",
      "9 * 11 = 99\n",
      "10 * 11 = 110\n"
     ]
    }
   ],
   "source": [
    "# Exercise Ten\n",
    "try:\n",
    "    num = int(input(prompt=\"Enter multiplication number\"))\n",
    "    for i in range(1, 11):\n",
    "        print(f\"{i} * {num} = {i * num}\")\n",
    "except Exception as e:\n",
    "    print(repr(e))"
   ]
  },
  {
   "cell_type": "code",
   "execution_count": 198,
   "metadata": {},
   "outputs": [
    {
     "name": "stdin",
     "output_type": "stream",
     "text": [
      "Enter multiplication number 12\n"
     ]
    },
    {
     "name": "stdout",
     "output_type": "stream",
     "text": [
      "1 * 12 = 12\n",
      "2 * 12 = 24\n",
      "3 * 12 = 36\n",
      "4 * 12 = 48\n",
      "5 * 12 = 60\n",
      "6 * 12 = 72\n",
      "7 * 12 = 84\n",
      "8 * 12 = 96\n",
      "9 * 12 = 108\n",
      "10 * 12 = 120\n"
     ]
    }
   ],
   "source": [
    "# Exercise Eleven\n",
    "try:\n",
    "    num = int(input(prompt=\"Enter multiplication number\"))\n",
    "    i = 1\n",
    "    while i < 11:\n",
    "        print(f\"{i} * {num} = {i * num}\")\n",
    "        i = i + 1\n",
    "except Exception as e:\n",
    "    print(repr(e))"
   ]
  },
  {
   "cell_type": "code",
   "execution_count": 235,
   "metadata": {},
   "outputs": [
    {
     "name": "stdout",
     "output_type": "stream",
     "text": [
      "Enter 10 numbers\n"
     ]
    },
    {
     "name": "stdin",
     "output_type": "stream",
     "text": [
      " jh\n"
     ]
    },
    {
     "name": "stdout",
     "output_type": "stream",
     "text": [
      "Invalid Format try again \n",
      "\n"
     ]
    },
    {
     "name": "stdin",
     "output_type": "stream",
     "text": [
      " 45\n",
      " 551\n",
      " ju\n"
     ]
    },
    {
     "name": "stdout",
     "output_type": "stream",
     "text": [
      "Invalid Format try again \n",
      "\n"
     ]
    },
    {
     "name": "stdin",
     "output_type": "stream",
     "text": [
      " 45\n",
      " 25\n",
      " 58\n",
      " 5\n",
      " 4\n",
      " 5\n",
      " 58\n",
      " 7854\n"
     ]
    },
    {
     "name": "stdout",
     "output_type": "stream",
     "text": [
      "\n",
      "maximum number = 7854\n",
      "minimum number = 4\n",
      "amount of number divisible by 3 = 3\n"
     ]
    }
   ],
   "source": [
    "###### Exercise Twelve\n",
    "print(\"Enter 10 numbers\")\n",
    "ten_numbers = list()\n",
    "\n",
    "for i in range(1, 11):\n",
    "    try:\n",
    "        ten_numbers.append(int(input()))\n",
    "    except Exception as e:\n",
    "        print(\"Invalid Format try again \\n\")\n",
    "        ten_numbers.append(int(input()))\n",
    "\n",
    "div3 = 0\n",
    "for i in ten_numbers:\n",
    "    if i % 3 == 0:\n",
    "        div3 = div3 + 1\n",
    "\n",
    "print(f\"\\nmaximum number = {max(ten_numbers)}\")\n",
    "print(f\"minimum number = {min(ten_numbers)}\")\n",
    "print(f\"amount of number divisible by 3 = {div3}\")"
   ]
  },
  {
   "cell_type": "code",
   "execution_count": 228,
   "metadata": {},
   "outputs": [
    {
     "name": "stdout",
     "output_type": "stream",
     "text": [
      "10 bottles of beer on the wall, 10 bottles of beer. Take one down, pass it around, 9 bottles of beer on the wall.\n",
      "9 bottles of beer on the wall, 9 bottles of beer. Take one down, pass it around, 8 bottles of beer on the wall.\n",
      "8 bottles of beer on the wall, 8 bottles of beer. Take one down, pass it around, 7 bottles of beer on the wall.\n",
      "7 bottles of beer on the wall, 7 bottles of beer. Take one down, pass it around, 6 bottles of beer on the wall.\n",
      "6 bottles of beer on the wall, 6 bottles of beer. Take one down, pass it around, 5 bottles of beer on the wall.\n",
      "5 bottles of beer on the wall, 5 bottles of beer. Take one down, pass it around, 4 bottles of beer on the wall.\n",
      "4 bottles of beer on the wall, 4 bottles of beer. Take one down, pass it around, 3 bottles of beer on the wall.\n",
      "3 bottles of beer on the wall, 3 bottles of beer. Take one down, pass it around, 2 bottles of beer on the wall.\n",
      "2 bottles of beer on the wall, 2 bottles of beer. Take one down, pass it around, 1 bottle of beer on the wall.\n",
      "1 bottle of beer on the wall, 1 bottle of beer. Take one down, pass it around, 0 bottle of beer on the wall.\n"
     ]
    }
   ],
   "source": [
    "# Exercise Thirteen\n",
    "bottle_count = 10\n",
    "\n",
    "for i in range(bottle_count, 0, -1):\n",
    "    if i == 2:\n",
    "        print(f\"{i} bottles of beer on the wall, {i} bottles of beer. Take one down, pass it around, {i - 1} bottle of beer on the wall.\")\n",
    "    elif i == 1:\n",
    "        print(f\"{i} bottle of beer on the wall, {i} bottle of beer. Take one down, pass it around, {i - 1} bottle of beer on the wall.\")\n",
    "    else:\n",
    "        print(f\"{i} bottles of beer on the wall, {i} bottles of beer. Take one down, pass it around, {i - 1} bottles of beer on the wall.\")"
   ]
  },
  {
   "cell_type": "code",
   "execution_count": 209,
   "metadata": {},
   "outputs": [
    {
     "name": "stdout",
     "output_type": "stream",
     "text": [
      "1\n",
      "1\n",
      "2\n",
      "3\n",
      "5\n",
      "8\n",
      "13\n",
      "21\n",
      "34\n",
      "55\n",
      "89\n",
      "144\n",
      "233\n",
      "377\n",
      "610\n",
      "987\n",
      "1597\n"
     ]
    }
   ],
   "source": [
    "# Exercise Fourteen\n",
    "n1, n2 = 1, 1\n",
    "\n",
    "while True: \n",
    "    print(n1)\n",
    "    if n1 > 1000:\n",
    "        break\n",
    "    nth = n1 + n2\n",
    "    n1 = n2\n",
    "    n2 = nth"
   ]
  },
  {
   "cell_type": "code",
   "execution_count": 222,
   "metadata": {},
   "outputs": [
    {
     "name": "stdin",
     "output_type": "stream",
     "text": [
      "Enter word one beer\n",
      "Enter word two peer\n"
     ]
    },
    {
     "name": "stdout",
     "output_type": "stream",
     "text": [
      "er\n"
     ]
    }
   ],
   "source": [
    "# Question Fifteen\n",
    "\n",
    "# words\n",
    "word1 = input(prompt=\"Enter word one\")\n",
    "word2 = input(prompt=\"Enter word two\")\n",
    "word3 = list()\n",
    "\n",
    "index = 0\n",
    "\n",
    "for i, j in zip(word1, word2):\n",
    "    if i == j:\n",
    "        word3.append(i)\n",
    "        \n",
    "word = \"\"\n",
    "for i in set(word3):\n",
    "    word = str(i) + word\n",
    "    \n",
    "print(word)"
   ]
  },
  {
   "cell_type": "code",
   "execution_count": null,
   "metadata": {},
   "outputs": [],
   "source": []
  }
 ],
 "metadata": {
  "kernelspec": {
   "display_name": "Python 3",
   "language": "python",
   "name": "python3"
  },
  "language_info": {
   "codemirror_mode": {
    "name": "ipython",
    "version": 3
   },
   "file_extension": ".py",
   "mimetype": "text/x-python",
   "name": "python",
   "nbconvert_exporter": "python",
   "pygments_lexer": "ipython3",
   "version": "3.7.6"
  }
 },
 "nbformat": 4,
 "nbformat_minor": 4
}
