{
 "cells": [
  {
   "cell_type": "code",
   "execution_count": 1,
   "metadata": {},
   "outputs": [
    {
     "name": "stderr",
     "output_type": "stream",
     "text": [
      "Importing plotly failed. Interactive plots will not work.\n"
     ]
    }
   ],
   "source": [
    "import warnings\n",
    "warnings.filterwarnings('ignore')\n",
    "\n",
    "import pandas as pd\n",
    "import numpy as np\n",
    "import matplotlib.pyplot as plt\n",
    "import seaborn as sns\n",
    "from sqlalchemy import create_engine\n",
    "from ast import literal_eval\n",
    "import json\n",
    "from sklearn.metrics import r2_score\n",
    "from sklearn import metrics\n",
    "from scipy.special import boxcox, inv_boxcox\n",
    "from sklearn.preprocessing import StandardScaler\n",
    "from scipy.stats import zscore\n",
    "import pickle\n",
    "\n",
    "from fbprophet import Prophet\n",
    "from fbprophet.diagnostics import cross_validation\n",
    "from fbprophet.diagnostics import performance_metrics\n",
    "from sklearn.linear_model import LinearRegression, LassoCV, RidgeCV\n",
    "from sklearn.model_selection import cross_val_score, train_test_split\n",
    "\n",
    "%matplotlib inline\n",
    "# plt.style.use('fivethirtyeight')"
   ]
  },
  {
   "cell_type": "code",
   "execution_count": 2,
   "metadata": {},
   "outputs": [],
   "source": [
    "# Postgres username, password, and database name\n",
    "POSTGRES_ADDRESS = 'localhost'\n",
    "\n",
    "POSTGRES_PORT = '5432'\n",
    "POSTGRES_USERNAME = 'vegas'\n",
    "POSTGRES_PASSWORD = 'VrichCrich99'\n",
    "POSTGRES_DBNAME = 'univers-demo'"
   ]
  },
  {
   "cell_type": "code",
   "execution_count": 3,
   "metadata": {},
   "outputs": [],
   "source": [
    "postgres_str = ('postgresql://{username}:{password}@{ipaddress}:{port}/{dbname}'.format(username=POSTGRES_USERNAME, password=POSTGRES_PASSWORD, ipaddress=POSTGRES_ADDRESS, port=POSTGRES_PORT, dbname=POSTGRES_DBNAME))\n",
    "cnx = create_engine(postgres_str)"
   ]
  },
  {
   "cell_type": "code",
   "execution_count": 4,
   "metadata": {},
   "outputs": [],
   "source": [
    "appstech_labs_id = 1 # user id for fetching"
   ]
  },
  {
   "cell_type": "markdown",
   "metadata": {},
   "source": [
    "<h2 style='color: red; font-size: 2em'>Fetch user data according to data count</h2>"
   ]
  },
  {
   "cell_type": "code",
   "execution_count": 5,
   "metadata": {},
   "outputs": [],
   "source": [
    "# define a fetching function according to the appstech_labs_user data size\n",
    "def fetch_data(_id, small_data_size, medium_data_size, large_data_size):\n",
    "    data_count = pd.read_sql_query(f\"SELECT count(*) from user_sales_table where appstech_labs_id='{_id}'\", cnx)\n",
    "    data_count = int(data_count['count'][0])\n",
    "    \n",
    "    if data_count < small_data_size:\n",
    "        return pd.read_sql_query(f\"SELECT * FROM user_sales_table WHERE appstech_labs_id='{appstech_labs_id}'\", cnx, index_col='date', parse_dates=['date'])\n",
    "    \n",
    "    elif data_count >= small_data_size and data_count < medium_data_size:\n",
    "        return pd.read_sql_query(f\"SELECT * FROM user_sales_table WHERE appstech_labs_id='{appstech_labs_id}' ORDER BY id DESC LIMIT {medium_data_size}\", cnx, index_col='date', parse_dates=['date'])\n",
    "    \n",
    "    else:\n",
    "        return pd.read_sql_query(f\"SELECT * FROM user_sales_table WHERE appstech_labs_id='{appstech_labs_id}' ORDER BY id DESC LIMIT {large_data_size}\", cnx, index_col='date', parse_dates=['date'])\n",
    "        "
   ]
  },
  {
   "cell_type": "code",
   "execution_count": 6,
   "metadata": {},
   "outputs": [
    {
     "data": {
      "text/html": [
       "<div>\n",
       "<style scoped>\n",
       "    .dataframe tbody tr th:only-of-type {\n",
       "        vertical-align: middle;\n",
       "    }\n",
       "\n",
       "    .dataframe tbody tr th {\n",
       "        vertical-align: top;\n",
       "    }\n",
       "\n",
       "    .dataframe thead th {\n",
       "        text-align: right;\n",
       "    }\n",
       "</style>\n",
       "<table border=\"1\" class=\"dataframe\">\n",
       "  <thead>\n",
       "    <tr style=\"text-align: right;\">\n",
       "      <th></th>\n",
       "      <th>id</th>\n",
       "      <th>appstech_labs_id</th>\n",
       "      <th>item_id</th>\n",
       "      <th>item_name</th>\n",
       "      <th>qty</th>\n",
       "      <th>unit_price</th>\n",
       "      <th>cost</th>\n",
       "      <th>net_amount</th>\n",
       "      <th>net_cost</th>\n",
       "      <th>currency</th>\n",
       "      <th>...</th>\n",
       "      <th>discount_amount</th>\n",
       "      <th>sub_total</th>\n",
       "      <th>margin</th>\n",
       "      <th>tax_inclusive_amount</th>\n",
       "      <th>sales_tax_rate</th>\n",
       "      <th>sales_tax_amount</th>\n",
       "      <th>gross_amount</th>\n",
       "      <th>customer_id</th>\n",
       "      <th>customer_name</th>\n",
       "      <th>refund_total_amount</th>\n",
       "    </tr>\n",
       "    <tr>\n",
       "      <th>date</th>\n",
       "      <th></th>\n",
       "      <th></th>\n",
       "      <th></th>\n",
       "      <th></th>\n",
       "      <th></th>\n",
       "      <th></th>\n",
       "      <th></th>\n",
       "      <th></th>\n",
       "      <th></th>\n",
       "      <th></th>\n",
       "      <th></th>\n",
       "      <th></th>\n",
       "      <th></th>\n",
       "      <th></th>\n",
       "      <th></th>\n",
       "      <th></th>\n",
       "      <th></th>\n",
       "      <th></th>\n",
       "      <th></th>\n",
       "      <th></th>\n",
       "      <th></th>\n",
       "    </tr>\n",
       "  </thead>\n",
       "  <tbody>\n",
       "    <tr>\n",
       "      <th>2019-01-01</th>\n",
       "      <td>1</td>\n",
       "      <td>1</td>\n",
       "      <td>1547</td>\n",
       "      <td>Chewy Dipped Granola Bars (Chocolate Chip)</td>\n",
       "      <td>10.0</td>\n",
       "      <td>0.23</td>\n",
       "      <td>0.21</td>\n",
       "      <td>2.30</td>\n",
       "      <td>2.10</td>\n",
       "      <td>XAF</td>\n",
       "      <td>...</td>\n",
       "      <td>0.09</td>\n",
       "      <td>2.21</td>\n",
       "      <td>0.11</td>\n",
       "      <td>2.30</td>\n",
       "      <td>0.0</td>\n",
       "      <td>0.0</td>\n",
       "      <td>2.21</td>\n",
       "      <td>2.0</td>\n",
       "      <td>Victoria Kelly</td>\n",
       "      <td>0.0</td>\n",
       "    </tr>\n",
       "    <tr>\n",
       "      <th>2019-01-01</th>\n",
       "      <td>2</td>\n",
       "      <td>1</td>\n",
       "      <td>1713</td>\n",
       "      <td>Pretzels Rods</td>\n",
       "      <td>2.0</td>\n",
       "      <td>0.15</td>\n",
       "      <td>0.13</td>\n",
       "      <td>0.30</td>\n",
       "      <td>0.26</td>\n",
       "      <td>USD</td>\n",
       "      <td>...</td>\n",
       "      <td>0.03</td>\n",
       "      <td>0.27</td>\n",
       "      <td>0.01</td>\n",
       "      <td>0.30</td>\n",
       "      <td>0.0</td>\n",
       "      <td>0.0</td>\n",
       "      <td>0.27</td>\n",
       "      <td>5.0</td>\n",
       "      <td>Daniel Thomas</td>\n",
       "      <td>0.0</td>\n",
       "    </tr>\n",
       "    <tr>\n",
       "      <th>2019-01-01</th>\n",
       "      <td>3</td>\n",
       "      <td>1</td>\n",
       "      <td>1227</td>\n",
       "      <td>Stir Fry Vegetables (Szechuan)</td>\n",
       "      <td>5.0</td>\n",
       "      <td>0.14</td>\n",
       "      <td>0.12</td>\n",
       "      <td>0.70</td>\n",
       "      <td>0.60</td>\n",
       "      <td>USD</td>\n",
       "      <td>...</td>\n",
       "      <td>0.01</td>\n",
       "      <td>0.69</td>\n",
       "      <td>0.09</td>\n",
       "      <td>0.70</td>\n",
       "      <td>0.0</td>\n",
       "      <td>0.0</td>\n",
       "      <td>0.69</td>\n",
       "      <td>8.0</td>\n",
       "      <td>Javier Hall</td>\n",
       "      <td>0.0</td>\n",
       "    </tr>\n",
       "    <tr>\n",
       "      <th>2019-01-01</th>\n",
       "      <td>4</td>\n",
       "      <td>1</td>\n",
       "      <td>658</td>\n",
       "      <td>Shredded Cheese (Mexican Style)</td>\n",
       "      <td>1.0</td>\n",
       "      <td>0.23</td>\n",
       "      <td>0.21</td>\n",
       "      <td>0.23</td>\n",
       "      <td>0.21</td>\n",
       "      <td>USD</td>\n",
       "      <td>...</td>\n",
       "      <td>0.01</td>\n",
       "      <td>0.22</td>\n",
       "      <td>0.01</td>\n",
       "      <td>0.23</td>\n",
       "      <td>0.0</td>\n",
       "      <td>0.0</td>\n",
       "      <td>0.22</td>\n",
       "      <td>3.0</td>\n",
       "      <td>Brandon Campbell</td>\n",
       "      <td>0.0</td>\n",
       "    </tr>\n",
       "    <tr>\n",
       "      <th>2019-01-01</th>\n",
       "      <td>5</td>\n",
       "      <td>1</td>\n",
       "      <td>1083</td>\n",
       "      <td>Mandarin Orange Chicken</td>\n",
       "      <td>10.0</td>\n",
       "      <td>0.20</td>\n",
       "      <td>0.18</td>\n",
       "      <td>2.00</td>\n",
       "      <td>1.80</td>\n",
       "      <td>AUD</td>\n",
       "      <td>...</td>\n",
       "      <td>0.08</td>\n",
       "      <td>1.92</td>\n",
       "      <td>0.12</td>\n",
       "      <td>2.00</td>\n",
       "      <td>0.0</td>\n",
       "      <td>0.0</td>\n",
       "      <td>1.92</td>\n",
       "      <td>5.0</td>\n",
       "      <td>Emily Byrd</td>\n",
       "      <td>0.0</td>\n",
       "    </tr>\n",
       "  </tbody>\n",
       "</table>\n",
       "<p>5 rows × 21 columns</p>\n",
       "</div>"
      ],
      "text/plain": [
       "           id  appstech_labs_id item_id  \\\n",
       "date                                      \n",
       "2019-01-01  1                 1    1547   \n",
       "2019-01-01  2                 1    1713   \n",
       "2019-01-01  3                 1    1227   \n",
       "2019-01-01  4                 1     658   \n",
       "2019-01-01  5                 1    1083   \n",
       "\n",
       "                                             item_name   qty  unit_price  \\\n",
       "date                                                                       \n",
       "2019-01-01  Chewy Dipped Granola Bars (Chocolate Chip)  10.0        0.23   \n",
       "2019-01-01                               Pretzels Rods   2.0        0.15   \n",
       "2019-01-01              Stir Fry Vegetables (Szechuan)   5.0        0.14   \n",
       "2019-01-01             Shredded Cheese (Mexican Style)   1.0        0.23   \n",
       "2019-01-01                     Mandarin Orange Chicken  10.0        0.20   \n",
       "\n",
       "            cost  net_amount  net_cost currency  ...  discount_amount  \\\n",
       "date                                             ...                    \n",
       "2019-01-01  0.21        2.30      2.10      XAF  ...             0.09   \n",
       "2019-01-01  0.13        0.30      0.26      USD  ...             0.03   \n",
       "2019-01-01  0.12        0.70      0.60      USD  ...             0.01   \n",
       "2019-01-01  0.21        0.23      0.21      USD  ...             0.01   \n",
       "2019-01-01  0.18        2.00      1.80      AUD  ...             0.08   \n",
       "\n",
       "            sub_total  margin  tax_inclusive_amount  sales_tax_rate  \\\n",
       "date                                                                  \n",
       "2019-01-01       2.21    0.11                  2.30             0.0   \n",
       "2019-01-01       0.27    0.01                  0.30             0.0   \n",
       "2019-01-01       0.69    0.09                  0.70             0.0   \n",
       "2019-01-01       0.22    0.01                  0.23             0.0   \n",
       "2019-01-01       1.92    0.12                  2.00             0.0   \n",
       "\n",
       "            sales_tax_amount  gross_amount  customer_id     customer_name  \\\n",
       "date                                                                        \n",
       "2019-01-01               0.0          2.21          2.0    Victoria Kelly   \n",
       "2019-01-01               0.0          0.27          5.0     Daniel Thomas   \n",
       "2019-01-01               0.0          0.69          8.0       Javier Hall   \n",
       "2019-01-01               0.0          0.22          3.0  Brandon Campbell   \n",
       "2019-01-01               0.0          1.92          5.0        Emily Byrd   \n",
       "\n",
       "           refund_total_amount  \n",
       "date                            \n",
       "2019-01-01                 0.0  \n",
       "2019-01-01                 0.0  \n",
       "2019-01-01                 0.0  \n",
       "2019-01-01                 0.0  \n",
       "2019-01-01                 0.0  \n",
       "\n",
       "[5 rows x 21 columns]"
      ]
     },
     "execution_count": 6,
     "metadata": {},
     "output_type": "execute_result"
    }
   ],
   "source": [
    "# data_size for fetching\n",
    "df = fetch_data(appstech_labs_id, small_data_size=530234, medium_data_size=1530234, large_data_size=2203234)\n",
    "df.index = pd.to_datetime(df.index)\n",
    "df.head()"
   ]
  },
  {
   "cell_type": "code",
   "execution_count": 7,
   "metadata": {},
   "outputs": [
    {
     "data": {
      "text/plain": [
       "(23236, 21)"
      ]
     },
     "execution_count": 7,
     "metadata": {},
     "output_type": "execute_result"
    }
   ],
   "source": [
    "df.shape"
   ]
  },
  {
   "cell_type": "code",
   "execution_count": 8,
   "metadata": {},
   "outputs": [
    {
     "data": {
      "text/plain": [
       "Index(['qty', 'unit_price', 'cost', 'net_amount', 'net_cost', 'discount_rate',\n",
       "       'discount_amount', 'sub_total', 'margin', 'tax_inclusive_amount',\n",
       "       'sales_tax_rate', 'sales_tax_amount', 'gross_amount',\n",
       "       'refund_total_amount'],\n",
       "      dtype='object')"
      ]
     },
     "execution_count": 8,
     "metadata": {},
     "output_type": "execute_result"
    }
   ],
   "source": [
    "def get_all_numeric_features(df):\n",
    "    numeric_feats = df.dtypes[df.dtypes != 'object'].index\n",
    "    numeric_feats = numeric_feats[1:]\n",
    "    return numeric_feats\n",
    "\n",
    "numeric_feats = get_all_numeric_features(df)\n",
    "numeric_feats"
   ]
  },
  {
   "cell_type": "code",
   "execution_count": 9,
   "metadata": {},
   "outputs": [
    {
     "name": "stdout",
     "output_type": "stream",
     "text": [
      "<class 'pandas.core.frame.DataFrame'>\n",
      "DatetimeIndex: 23236 entries, 2019-01-01 to 2020-01-01\n",
      "Data columns (total 21 columns):\n",
      " #   Column                Non-Null Count  Dtype  \n",
      "---  ------                --------------  -----  \n",
      " 0   id                    23236 non-null  object \n",
      " 1   appstech_labs_id      23236 non-null  int64  \n",
      " 2   item_id               23236 non-null  object \n",
      " 3   item_name             23236 non-null  object \n",
      " 4   qty                   23236 non-null  float64\n",
      " 5   unit_price            23236 non-null  float64\n",
      " 6   cost                  23236 non-null  float64\n",
      " 7   net_amount            23236 non-null  float64\n",
      " 8   net_cost              23236 non-null  float64\n",
      " 9   currency              23236 non-null  object \n",
      " 10  discount_rate         23236 non-null  float64\n",
      " 11  discount_amount       23236 non-null  float64\n",
      " 12  sub_total             23236 non-null  float64\n",
      " 13  margin                23236 non-null  float64\n",
      " 14  tax_inclusive_amount  23236 non-null  float64\n",
      " 15  sales_tax_rate        23236 non-null  float64\n",
      " 16  sales_tax_amount      23236 non-null  float64\n",
      " 17  gross_amount          23236 non-null  float64\n",
      " 18  customer_id           23236 non-null  object \n",
      " 19  customer_name         23236 non-null  object \n",
      " 20  refund_total_amount   23236 non-null  float64\n",
      "dtypes: float64(14), int64(1), object(6)\n",
      "memory usage: 3.9+ MB\n"
     ]
    }
   ],
   "source": [
    "df.info()"
   ]
  },
  {
   "cell_type": "code",
   "execution_count": 10,
   "metadata": {},
   "outputs": [
    {
     "data": {
      "image/png": "[encoded data removed]",
      "text/plain": [
       "<Figure size 864x648 with 2 Axes>"
      ]
     },
     "metadata": {
      "needs_background": "light"
     },
     "output_type": "display_data"
    }
   ],
   "source": [
    "cormat = df[numeric_feats].corr()\n",
    "plt.subplots(figsize=(12, 9))\n",
    "sns.heatmap(cormat, vmax=0.9, square=True, cmap='Greens')\n",
    "plt.show()"
   ]
  },
  {
   "cell_type": "markdown",
   "metadata": {},
   "source": [
    "<h2 style='color: red; font-size: 2em'>Feature Engineering</h2>"
   ]
  },
  {
   "cell_type": "code",
   "execution_count": 11,
   "metadata": {},
   "outputs": [
    {
     "data": {
      "text/plain": [
       "0.8480171842133716"
      ]
     },
     "execution_count": 11,
     "metadata": {},
     "output_type": "execute_result"
    }
   ],
   "source": [
    "cormat['unit_price'][-2]"
   ]
  },
  {
   "cell_type": "markdown",
   "metadata": {},
   "source": [
    "<h2 style='color: red; font-size: 2em'>Feature Importance</h2>"
   ]
  },
  {
   "cell_type": "code",
   "execution_count": 12,
   "metadata": {},
   "outputs": [],
   "source": [
    "# feature importance\n",
    "def feature_importance(features, df, threshold, *args, **kwargs):\n",
    "    '''args, kwargs pass True or include=True for additional features'''\n",
    "    important_feature = list()\n",
    "    cormat = df[features].corr()\n",
    "    \n",
    "    if kwargs.get('include') or args:\n",
    "        if kwargs.get('include') or args[0]:\n",
    "            include = ['qty', 'margin']\n",
    "            for expt in include:\n",
    "                important_feature.append(expt)\n",
    "                \n",
    "    for feat in features:\n",
    "        if cormat[f\"{feat}\"][-2] > threshold and cormat[f\"{feat}\"][0] < 1.0:\n",
    "            important_feature.append(feat)\n",
    "            \n",
    "    \n",
    "    return important_feature"
   ]
  },
  {
   "cell_type": "code",
   "execution_count": 13,
   "metadata": {},
   "outputs": [],
   "source": [
    "data_features = feature_importance(numeric_feats, df, 0.69, True)"
   ]
  },
  {
   "cell_type": "code",
   "execution_count": 14,
   "metadata": {},
   "outputs": [
    {
     "data": {
      "text/html": [
       "<div>\n",
       "<style scoped>\n",
       "    .dataframe tbody tr th:only-of-type {\n",
       "        vertical-align: middle;\n",
       "    }\n",
       "\n",
       "    .dataframe tbody tr th {\n",
       "        vertical-align: top;\n",
       "    }\n",
       "\n",
       "    .dataframe thead th {\n",
       "        text-align: right;\n",
       "    }\n",
       "</style>\n",
       "<table border=\"1\" class=\"dataframe\">\n",
       "  <thead>\n",
       "    <tr style=\"text-align: right;\">\n",
       "      <th></th>\n",
       "      <th>qty</th>\n",
       "      <th>margin</th>\n",
       "      <th>unit_price</th>\n",
       "      <th>cost</th>\n",
       "      <th>net_amount</th>\n",
       "      <th>net_cost</th>\n",
       "      <th>discount_amount</th>\n",
       "      <th>sub_total</th>\n",
       "      <th>tax_inclusive_amount</th>\n",
       "      <th>gross_amount</th>\n",
       "    </tr>\n",
       "    <tr>\n",
       "      <th>date</th>\n",
       "      <th></th>\n",
       "      <th></th>\n",
       "      <th></th>\n",
       "      <th></th>\n",
       "      <th></th>\n",
       "      <th></th>\n",
       "      <th></th>\n",
       "      <th></th>\n",
       "      <th></th>\n",
       "      <th></th>\n",
       "    </tr>\n",
       "  </thead>\n",
       "  <tbody>\n",
       "    <tr>\n",
       "      <th>2019-01-01</th>\n",
       "      <td>10.0</td>\n",
       "      <td>0.11</td>\n",
       "      <td>0.23</td>\n",
       "      <td>0.21</td>\n",
       "      <td>2.30</td>\n",
       "      <td>2.10</td>\n",
       "      <td>0.09</td>\n",
       "      <td>2.21</td>\n",
       "      <td>2.30</td>\n",
       "      <td>2.21</td>\n",
       "    </tr>\n",
       "    <tr>\n",
       "      <th>2019-01-01</th>\n",
       "      <td>2.0</td>\n",
       "      <td>0.01</td>\n",
       "      <td>0.15</td>\n",
       "      <td>0.13</td>\n",
       "      <td>0.30</td>\n",
       "      <td>0.26</td>\n",
       "      <td>0.03</td>\n",
       "      <td>0.27</td>\n",
       "      <td>0.30</td>\n",
       "      <td>0.27</td>\n",
       "    </tr>\n",
       "    <tr>\n",
       "      <th>2019-01-01</th>\n",
       "      <td>5.0</td>\n",
       "      <td>0.09</td>\n",
       "      <td>0.14</td>\n",
       "      <td>0.12</td>\n",
       "      <td>0.70</td>\n",
       "      <td>0.60</td>\n",
       "      <td>0.01</td>\n",
       "      <td>0.69</td>\n",
       "      <td>0.70</td>\n",
       "      <td>0.69</td>\n",
       "    </tr>\n",
       "    <tr>\n",
       "      <th>2019-01-01</th>\n",
       "      <td>1.0</td>\n",
       "      <td>0.01</td>\n",
       "      <td>0.23</td>\n",
       "      <td>0.21</td>\n",
       "      <td>0.23</td>\n",
       "      <td>0.21</td>\n",
       "      <td>0.01</td>\n",
       "      <td>0.22</td>\n",
       "      <td>0.23</td>\n",
       "      <td>0.22</td>\n",
       "    </tr>\n",
       "    <tr>\n",
       "      <th>2019-01-01</th>\n",
       "      <td>10.0</td>\n",
       "      <td>0.12</td>\n",
       "      <td>0.20</td>\n",
       "      <td>0.18</td>\n",
       "      <td>2.00</td>\n",
       "      <td>1.80</td>\n",
       "      <td>0.08</td>\n",
       "      <td>1.92</td>\n",
       "      <td>2.00</td>\n",
       "      <td>1.92</td>\n",
       "    </tr>\n",
       "  </tbody>\n",
       "</table>\n",
       "</div>"
      ],
      "text/plain": [
       "             qty  margin  unit_price  cost  net_amount  net_cost  \\\n",
       "date                                                               \n",
       "2019-01-01  10.0    0.11        0.23  0.21        2.30      2.10   \n",
       "2019-01-01   2.0    0.01        0.15  0.13        0.30      0.26   \n",
       "2019-01-01   5.0    0.09        0.14  0.12        0.70      0.60   \n",
       "2019-01-01   1.0    0.01        0.23  0.21        0.23      0.21   \n",
       "2019-01-01  10.0    0.12        0.20  0.18        2.00      1.80   \n",
       "\n",
       "            discount_amount  sub_total  tax_inclusive_amount  gross_amount  \n",
       "date                                                                        \n",
       "2019-01-01             0.09       2.21                  2.30          2.21  \n",
       "2019-01-01             0.03       0.27                  0.30          0.27  \n",
       "2019-01-01             0.01       0.69                  0.70          0.69  \n",
       "2019-01-01             0.01       0.22                  0.23          0.22  \n",
       "2019-01-01             0.08       1.92                  2.00          1.92  "
      ]
     },
     "execution_count": 14,
     "metadata": {},
     "output_type": "execute_result"
    }
   ],
   "source": [
    "df_feats = df.copy()\n",
    "df_feats = df_feats[data_features]\n",
    "df_feats.head()"
   ]
  },
  {
   "cell_type": "code",
   "execution_count": 15,
   "metadata": {},
   "outputs": [
    {
     "data": {
      "image/png": "[encoded data removed]",
      "text/plain": [
       "<Figure size 864x648 with 2 Axes>"
      ]
     },
     "metadata": {
      "needs_background": "light"
     },
     "output_type": "display_data"
    }
   ],
   "source": [
    "cormat = df_feats[data_features].corr()\n",
    "plt.subplots(figsize=(12, 9))\n",
    "sns.heatmap(cormat, vmax=0.9, square=True, cmap='Greens')\n",
    "plt.show()"
   ]
  },
  {
   "cell_type": "markdown",
   "metadata": {},
   "source": [
    "<h2 style='color: red; font-size: 2em'>check for null values</h2>"
   ]
  },
  {
   "cell_type": "code",
   "execution_count": 16,
   "metadata": {},
   "outputs": [],
   "source": [
    "def generate_null_values(df, labels, target, model):\n",
    "    data_with_null = df[labels].dropna()\n",
    "    data_without_null = data_with_null.dropna()\n",
    "    \n",
    "    # all features except target\n",
    "    train_data_x = data_without_null.drop(target, axis=1).values\n",
    "    train_data_y = data_without_null[f\"{target}\"].values.reshape(-1, 1)\n",
    "    \n",
    "    model.fit(X=train_data_x, y=train_data_y) # training the model\n",
    "\n",
    "    test_data = data_with_null.drop(target, axis=1) #\n",
    "    yhat = model.predict(test_data)\n",
    "    \n",
    "    # print(r2_score(train_data_y, yhat) * 100)\n",
    "    \n",
    "    newdf = pd.DataFrame(yhat, columns=[target])\n",
    "    # replace only the null values\n",
    "    data_with_null[target].fillna(newdf[target], inplace=True)\n",
    "    \n",
    "    return data_with_null[target]\n",
    "    \n",
    "    \n",
    "def handle_missing_value(df, features, *args, **kwargs):\n",
    "    linreg = LinearRegression()\n",
    "    \n",
    "    if kwargs.get('drop_column'):\n",
    "        return df.drop(features, axis=1)\n",
    "    \n",
    "    for feat in features:\n",
    "        null_count = df[feat].isnull().sum()\n",
    "        \n",
    "        if null_count > 1 and null_count < int(len(df[feat]) * 10 / 100): # full missing values with mean()\n",
    "            if df[feat].dtype == 'object':\n",
    "                df[feat] = df[feat].fillna(df[feat].mode())\n",
    "            else:\n",
    "                df[feat] = df[feat].fillna(df[feat].mean())\n",
    "            \n",
    "        elif null_count >= int(len(df[feat]) * 10 / 100) and null_count < int(len(df[feat]) * 20 / 100): # random generate missing values\n",
    "            technique = [df[feat].fillna(df[feat].mean()), df[feat].fillna(df[feat].median()), df[feat].fillna(df[feat].mode())]\n",
    "            index = np.random.choice([0, 1, 2], p=[0.34, 0.33, 0.33])\n",
    "            df[feat] = technique[index]\n",
    "            \n",
    "        elif null_count >= int(len(df[feat]) * 20 / 100) and null_count < int(len(df[feat]) * 40 / 100): # predict missing values if selected else random generate\n",
    "            if kwargs.get('use_model') or args:\n",
    "                if kwargs.get('use_model') or args[0]:\n",
    "                    generate_null = generate_null_values(df, features, feat, linreg)\n",
    "                    df[feat] = generate_null[~generate_null.index.duplicated()]\n",
    "            else:\n",
    "                technique = [df[feat].fillna(df[feat].mean()), df[feat].fillna(df[feat].median()), df[feat].fillna(df[feat].mode())]\n",
    "                index = np.random.choice([0, 1, 2], p=[0.34, 0.33, 0.33])\n",
    "                df[feat] = technique[index]\n",
    "        \n",
    "        elif null_count >= int(len(df[feat]) * 40 / 100): # worst case senario\n",
    "            df = df.drop(feat, axis=1)\n",
    "    \n",
    "    return df\n"
   ]
  },
  {
   "cell_type": "code",
   "execution_count": 17,
   "metadata": {},
   "outputs": [
    {
     "name": "stdout",
     "output_type": "stream",
     "text": [
      "(1460, 81)\n"
     ]
    }
   ],
   "source": [
    "house_price = pd.read_csv('data/train.csv')\n",
    "print(house_price.shape)\n",
    "house_price = handle_missing_value(house_price, house_price.columns, True)"
   ]
  },
  {
   "cell_type": "code",
   "execution_count": 18,
   "metadata": {},
   "outputs": [
    {
     "data": {
      "text/plain": [
       "qty                     0\n",
       "margin                  0\n",
       "unit_price              0\n",
       "cost                    0\n",
       "net_amount              0\n",
       "net_cost                0\n",
       "discount_amount         0\n",
       "sub_total               0\n",
       "tax_inclusive_amount    0\n",
       "gross_amount            0\n",
       "dtype: int64"
      ]
     },
     "execution_count": 18,
     "metadata": {},
     "output_type": "execute_result"
    }
   ],
   "source": [
    "df_feats = handle_missing_value(df_feats, data_features, True)\n",
    "df_feats.isnull().sum()"
   ]
  },
  {
   "cell_type": "markdown",
   "metadata": {},
   "source": [
    "<h2 style='color: red; font-size: 2em'>Target Engineering</h2>"
   ]
  },
  {
   "cell_type": "code",
   "execution_count": null,
   "metadata": {},
   "outputs": [],
   "source": []
  },
  {
   "cell_type": "markdown",
   "metadata": {},
   "source": [
    "<h2 style='color: red; font-size: 2em'>Outliers</h2>"
   ]
  },
  {
   "cell_type": "code",
   "execution_count": 19,
   "metadata": {},
   "outputs": [],
   "source": [
    "def handleOutliers(df, threshold):    \n",
    "    z = np.abs(zscore(df))\n",
    "    \n",
    "    return df[(z < threshold).all(axis=1)]\n",
    "    "
   ]
  },
  {
   "cell_type": "code",
   "execution_count": 20,
   "metadata": {},
   "outputs": [
    {
     "name": "stdout",
     "output_type": "stream",
     "text": [
      "(22392, 10)\n"
     ]
    },
    {
     "data": {
      "text/html": [
       "<div>\n",
       "<style scoped>\n",
       "    .dataframe tbody tr th:only-of-type {\n",
       "        vertical-align: middle;\n",
       "    }\n",
       "\n",
       "    .dataframe tbody tr th {\n",
       "        vertical-align: top;\n",
       "    }\n",
       "\n",
       "    .dataframe thead th {\n",
       "        text-align: right;\n",
       "    }\n",
       "</style>\n",
       "<table border=\"1\" class=\"dataframe\">\n",
       "  <thead>\n",
       "    <tr style=\"text-align: right;\">\n",
       "      <th></th>\n",
       "      <th>qty</th>\n",
       "      <th>margin</th>\n",
       "      <th>unit_price</th>\n",
       "      <th>cost</th>\n",
       "      <th>net_amount</th>\n",
       "      <th>net_cost</th>\n",
       "      <th>discount_amount</th>\n",
       "      <th>sub_total</th>\n",
       "      <th>tax_inclusive_amount</th>\n",
       "      <th>gross_amount</th>\n",
       "    </tr>\n",
       "    <tr>\n",
       "      <th>date</th>\n",
       "      <th></th>\n",
       "      <th></th>\n",
       "      <th></th>\n",
       "      <th></th>\n",
       "      <th></th>\n",
       "      <th></th>\n",
       "      <th></th>\n",
       "      <th></th>\n",
       "      <th></th>\n",
       "      <th></th>\n",
       "    </tr>\n",
       "  </thead>\n",
       "  <tbody>\n",
       "    <tr>\n",
       "      <th>2019-01-01</th>\n",
       "      <td>10.0</td>\n",
       "      <td>0.11</td>\n",
       "      <td>0.23</td>\n",
       "      <td>0.21</td>\n",
       "      <td>2.30</td>\n",
       "      <td>2.10</td>\n",
       "      <td>0.09</td>\n",
       "      <td>2.21</td>\n",
       "      <td>2.30</td>\n",
       "      <td>2.21</td>\n",
       "    </tr>\n",
       "    <tr>\n",
       "      <th>2019-01-01</th>\n",
       "      <td>2.0</td>\n",
       "      <td>0.01</td>\n",
       "      <td>0.15</td>\n",
       "      <td>0.13</td>\n",
       "      <td>0.30</td>\n",
       "      <td>0.26</td>\n",
       "      <td>0.03</td>\n",
       "      <td>0.27</td>\n",
       "      <td>0.30</td>\n",
       "      <td>0.27</td>\n",
       "    </tr>\n",
       "    <tr>\n",
       "      <th>2019-01-01</th>\n",
       "      <td>5.0</td>\n",
       "      <td>0.09</td>\n",
       "      <td>0.14</td>\n",
       "      <td>0.12</td>\n",
       "      <td>0.70</td>\n",
       "      <td>0.60</td>\n",
       "      <td>0.01</td>\n",
       "      <td>0.69</td>\n",
       "      <td>0.70</td>\n",
       "      <td>0.69</td>\n",
       "    </tr>\n",
       "    <tr>\n",
       "      <th>2019-01-01</th>\n",
       "      <td>1.0</td>\n",
       "      <td>0.01</td>\n",
       "      <td>0.23</td>\n",
       "      <td>0.21</td>\n",
       "      <td>0.23</td>\n",
       "      <td>0.21</td>\n",
       "      <td>0.01</td>\n",
       "      <td>0.22</td>\n",
       "      <td>0.23</td>\n",
       "      <td>0.22</td>\n",
       "    </tr>\n",
       "    <tr>\n",
       "      <th>2019-01-01</th>\n",
       "      <td>10.0</td>\n",
       "      <td>0.12</td>\n",
       "      <td>0.20</td>\n",
       "      <td>0.18</td>\n",
       "      <td>2.00</td>\n",
       "      <td>1.80</td>\n",
       "      <td>0.08</td>\n",
       "      <td>1.92</td>\n",
       "      <td>2.00</td>\n",
       "      <td>1.92</td>\n",
       "    </tr>\n",
       "  </tbody>\n",
       "</table>\n",
       "</div>"
      ],
      "text/plain": [
       "             qty  margin  unit_price  cost  net_amount  net_cost  \\\n",
       "date                                                               \n",
       "2019-01-01  10.0    0.11        0.23  0.21        2.30      2.10   \n",
       "2019-01-01   2.0    0.01        0.15  0.13        0.30      0.26   \n",
       "2019-01-01   5.0    0.09        0.14  0.12        0.70      0.60   \n",
       "2019-01-01   1.0    0.01        0.23  0.21        0.23      0.21   \n",
       "2019-01-01  10.0    0.12        0.20  0.18        2.00      1.80   \n",
       "\n",
       "            discount_amount  sub_total  tax_inclusive_amount  gross_amount  \n",
       "date                                                                        \n",
       "2019-01-01             0.09       2.21                  2.30          2.21  \n",
       "2019-01-01             0.03       0.27                  0.30          0.27  \n",
       "2019-01-01             0.01       0.69                  0.70          0.69  \n",
       "2019-01-01             0.01       0.22                  0.23          0.22  \n",
       "2019-01-01             0.08       1.92                  2.00          1.92  "
      ]
     },
     "execution_count": 20,
     "metadata": {},
     "output_type": "execute_result"
    }
   ],
   "source": [
    "df_feats_outliers = handleOutliers(df_feats, 3)\n",
    "house_price_outliers = handleOutliers(house_price[house_price.dtypes[house_price.dtypes != \"object\"].index], 3)\n",
    "print(df_feats_outliers.shape)\n",
    "df_feats_outliers.head()"
   ]
  },
  {
   "cell_type": "code",
   "execution_count": 21,
   "metadata": {},
   "outputs": [
    {
     "data": {
      "text/plain": [
       "qty                     0\n",
       "margin                  0\n",
       "unit_price              0\n",
       "cost                    0\n",
       "net_amount              0\n",
       "net_cost                0\n",
       "discount_amount         0\n",
       "sub_total               0\n",
       "tax_inclusive_amount    0\n",
       "gross_amount            0\n",
       "dtype: int64"
      ]
     },
     "execution_count": 21,
     "metadata": {},
     "output_type": "execute_result"
    }
   ],
   "source": [
    "df_feats.isnull().sum()"
   ]
  },
  {
   "cell_type": "code",
   "execution_count": 22,
   "metadata": {
    "jupyter": {
     "source_hidden": true
    }
   },
   "outputs": [],
   "source": [
    "LAMBDA = 2.5 # learning rate for scipy stats.\n",
    "\n",
    "# data normalization for\n",
    "def normalize_data(df, features, *arg, **kwargs):\n",
    "    new_df = pd.DataFrame(columns=['features', 'log1p_skew', 'sqrt_skew', 'stats_skew'])\n",
    "    \n",
    "    for feat in features:\n",
    "        try:\n",
    "            sqrt = np.sqrt(df[feat]).skew()\n",
    "            log1p = np.log1p(df[feat]).skew()\n",
    "            stats = pd.Series(boxcox(df[feat], LAMBDA)[0]).skew()\n",
    "        \n",
    "        except ValueError:\n",
    "            stats = np.NaN\n",
    "            pass\n",
    "        \n",
    "        new_df = new_df.append({'features': feat, 'stats_skew': stats, 'log1p_skew': log1p, 'sqrt_skew': sqrt}, ignore_index=True)\n",
    "    \n",
    "    # handle nan values\n",
    "    if new_df['log1p_skew'].isnull().sum() == new_df['sqrt_skew'].isnull().sum() and new_df['log1p_skew'].isnull().sum() == new_df['stats_skew'].isnull().sum():\n",
    "        pass\n",
    "    else:\n",
    "        new_df = handle_missing_value(new_df, [new_df.count().idxmin()], drop_column=True)\n",
    "        \n",
    "    new_df = new_df.dropna(axis=1)\n",
    "    new_df = new_df.groupby(['features']).sum()\n",
    "    \n",
    "    arg_norm_score_obj = list()\n",
    "    for i in range(new_df.shape[1]):\n",
    "        arg_norm_score_obj.append({\"name\": f\"{new_df.columns[i]}\", \"score\": new_df[f\"{new_df.columns[i]}\"].sum()})\n",
    "    \n",
    "    NORM_TYPE = min(i.get('name') for i in arg_norm_score_obj if i.get('score') > 0) # global variable ->>\n",
    "    \n",
    "    if NORM_TYPE == 'stats_skew':\n",
    "        norm_val = normalize_value(df, features, NORM_TYPE, ld=LAMBDA)\n",
    "        return NORM_TYPE, norm_val, LAMBDA\n",
    "        \n",
    "    norm_val = normalize_value(df, features, NORM_TYPE)\n",
    "    return NORM_TYPE, norm_val\n",
    "\n",
    "def normalize_value(df, features, norm_type, **kwargs):\n",
    "    print(norm_type)\n",
    "    choice = {\n",
    "        \"log1p_skew\": np.log1p(df[features]), # inverse np.exp\n",
    "        \"sqrt_skew\": np.sqrt(df[features]), # inverse x**-1/2\n",
    "        \"stats_skew\": boxcox(df[features], kwargs.get('ld')) # inverse inv_boxcox(state, 2.5)\n",
    "    }\n",
    "    return choice.get(norm_type)\n",
    "\n",
    "\n",
    "def inverser_normalize_value(df, features, norm_type, *args, **kwargs):\n",
    "    return {\n",
    "        \"log1p_skew\": np.exp(df[features]), # inverse np.exp\n",
    "        \"sqrt_skew\": df[features] * df[features], # inverse x**-1/2\n",
    "        \"stats_skew\": inv_boxcox(df, kwargs.get('ld')) # inverse inv_boxcox(state, 2.5)\n",
    "    }.get(norm_type)"
   ]
  },
  {
   "cell_type": "markdown",
   "metadata": {},
   "source": [
    "<h2 style='color: red; font-size: 2em'>Normalization</h2>"
   ]
  },
  {
   "cell_type": "code",
   "execution_count": 23,
   "metadata": {},
   "outputs": [],
   "source": [
    "# data normalization for\n",
    "LAMBDA = 2.5 # learning rate for scipy stats.\n",
    "\n",
    "def normalize_data(df, features, *arg, **kwargs):\n",
    "    new_df = pd.DataFrame(columns=['features', 'log1p_skew', 'sqrt_skew', 'stats_skew'])\n",
    "    \n",
    "    for feat in features:\n",
    "        try:\n",
    "            sqrt = np.sqrt(df[feat]).skew()\n",
    "            log1p = np.log1p(df[feat]).skew()\n",
    "            stats = pd.Series(boxcox(df[feat], LAMBDA)).skew()\n",
    "        \n",
    "        except ValueError:\n",
    "            stats = np.NaN\n",
    "            pass\n",
    "    \n",
    "        new_df = new_df.append({'features': feat, 'stats_skew': stats, 'log1p_skew': log1p, 'sqrt_skew': sqrt}, ignore_index=True)\n",
    "    \n",
    "    # handle nan values\n",
    "    if new_df['log1p_skew'].isnull().sum() == new_df['sqrt_skew'].isnull().sum() and new_df['log1p_skew'].isnull().sum() == new_df['stats_skew'].isnull().sum():\n",
    "        pass\n",
    "    else:\n",
    "        new_df = handle_missing_value(new_df, [new_df.count().idxmin()], drop_column=True)\n",
    "    \n",
    "    new_df = new_df.fillna(0).groupby(['features']).sum()\n",
    "    \n",
    "    new_df = new_df.dropna(axis=1)\n",
    "    new_df = new_df.groupby(['features']).sum()\n",
    "        \n",
    "    arg_norm_score_obj = list()\n",
    "    for i in range(new_df.shape[1]):\n",
    "        arg_norm_score_obj.append({\"name\": f\"{new_df.columns[i]}\", \"score\": new_df[f\"{new_df.columns[i]}\"].sum()})\n",
    "        \n",
    "    NORM_TYPE = min(i.get('name') for i in arg_norm_score_obj if i.get('score') > 0) # global variable ->>\n",
    "    \n",
    "    norm_val = normalize_value(df, features, NORM_TYPE, boxcox)\n",
    "    return NORM_TYPE, norm_val\n",
    "\n",
    "\n",
    "def normalize_value(df, features, norm_type, boxcox):\n",
    "    return {\n",
    "        \"log1p_skew\": np.log1p(df[features]), # inverse np.exp\n",
    "        \"sqrt_skew\": np.sqrt(df[features]), # inverse x**-1/2\n",
    "        \"stats_skew\": boxcox(df[features], LAMBDA) # inverse inv_boxcox(state, 2.5)\n",
    "    }.get(norm_type)\n",
    "\n",
    "\n",
    "def inverser_normalize_value(df, features, norm_type):\n",
    "    return {\n",
    "        \"log1p_skew\": np.exp(df[features]), # inverse np.exp\n",
    "        \"sqrt_skew\": df[features] * df[features], # inverse x**-1/2\n",
    "        \"stats_skew\": inv_boxcox(df[features], LAMBDA) # inverse inv_boxcox(state, 2.5)\n",
    "    }.get(norm_type)\n"
   ]
  },
  {
   "cell_type": "code",
   "execution_count": 24,
   "metadata": {
    "collapsed": true,
    "jupyter": {
     "outputs_hidden": true
    }
   },
   "outputs": [
    {
     "name": "stdout",
     "output_type": "stream",
     "text": [
      "sqrt_skew\n"
     ]
    },
    {
     "data": {
      "text/html": [
       "<div>\n",
       "<style scoped>\n",
       "    .dataframe tbody tr th:only-of-type {\n",
       "        vertical-align: middle;\n",
       "    }\n",
       "\n",
       "    .dataframe tbody tr th {\n",
       "        vertical-align: top;\n",
       "    }\n",
       "\n",
       "    .dataframe thead th {\n",
       "        text-align: right;\n",
       "    }\n",
       "</style>\n",
       "<table border=\"1\" class=\"dataframe\">\n",
       "  <thead>\n",
       "    <tr style=\"text-align: right;\">\n",
       "      <th></th>\n",
       "      <th>qty</th>\n",
       "      <th>margin</th>\n",
       "      <th>unit_price</th>\n",
       "      <th>cost</th>\n",
       "      <th>net_amount</th>\n",
       "      <th>net_cost</th>\n",
       "      <th>discount_amount</th>\n",
       "      <th>sub_total</th>\n",
       "      <th>tax_inclusive_amount</th>\n",
       "      <th>gross_amount</th>\n",
       "    </tr>\n",
       "    <tr>\n",
       "      <th>date</th>\n",
       "      <th></th>\n",
       "      <th></th>\n",
       "      <th></th>\n",
       "      <th></th>\n",
       "      <th></th>\n",
       "      <th></th>\n",
       "      <th></th>\n",
       "      <th></th>\n",
       "      <th></th>\n",
       "      <th></th>\n",
       "    </tr>\n",
       "  </thead>\n",
       "  <tbody>\n",
       "    <tr>\n",
       "      <th>2019-01-01</th>\n",
       "      <td>10.0</td>\n",
       "      <td>0.11</td>\n",
       "      <td>0.23</td>\n",
       "      <td>0.21</td>\n",
       "      <td>2.30</td>\n",
       "      <td>2.10</td>\n",
       "      <td>0.09</td>\n",
       "      <td>2.21</td>\n",
       "      <td>2.30</td>\n",
       "      <td>1.486607</td>\n",
       "    </tr>\n",
       "    <tr>\n",
       "      <th>2019-01-01</th>\n",
       "      <td>2.0</td>\n",
       "      <td>0.01</td>\n",
       "      <td>0.15</td>\n",
       "      <td>0.13</td>\n",
       "      <td>0.30</td>\n",
       "      <td>0.26</td>\n",
       "      <td>0.03</td>\n",
       "      <td>0.27</td>\n",
       "      <td>0.30</td>\n",
       "      <td>0.519615</td>\n",
       "    </tr>\n",
       "    <tr>\n",
       "      <th>2019-01-01</th>\n",
       "      <td>5.0</td>\n",
       "      <td>0.09</td>\n",
       "      <td>0.14</td>\n",
       "      <td>0.12</td>\n",
       "      <td>0.70</td>\n",
       "      <td>0.60</td>\n",
       "      <td>0.01</td>\n",
       "      <td>0.69</td>\n",
       "      <td>0.70</td>\n",
       "      <td>0.830662</td>\n",
       "    </tr>\n",
       "    <tr>\n",
       "      <th>2019-01-01</th>\n",
       "      <td>1.0</td>\n",
       "      <td>0.01</td>\n",
       "      <td>0.23</td>\n",
       "      <td>0.21</td>\n",
       "      <td>0.23</td>\n",
       "      <td>0.21</td>\n",
       "      <td>0.01</td>\n",
       "      <td>0.22</td>\n",
       "      <td>0.23</td>\n",
       "      <td>0.469042</td>\n",
       "    </tr>\n",
       "    <tr>\n",
       "      <th>2019-01-01</th>\n",
       "      <td>10.0</td>\n",
       "      <td>0.12</td>\n",
       "      <td>0.20</td>\n",
       "      <td>0.18</td>\n",
       "      <td>2.00</td>\n",
       "      <td>1.80</td>\n",
       "      <td>0.08</td>\n",
       "      <td>1.92</td>\n",
       "      <td>2.00</td>\n",
       "      <td>1.385641</td>\n",
       "    </tr>\n",
       "  </tbody>\n",
       "</table>\n",
       "</div>"
      ],
      "text/plain": [
       "             qty  margin  unit_price  cost  net_amount  net_cost  \\\n",
       "date                                                               \n",
       "2019-01-01  10.0    0.11        0.23  0.21        2.30      2.10   \n",
       "2019-01-01   2.0    0.01        0.15  0.13        0.30      0.26   \n",
       "2019-01-01   5.0    0.09        0.14  0.12        0.70      0.60   \n",
       "2019-01-01   1.0    0.01        0.23  0.21        0.23      0.21   \n",
       "2019-01-01  10.0    0.12        0.20  0.18        2.00      1.80   \n",
       "\n",
       "            discount_amount  sub_total  tax_inclusive_amount  gross_amount  \n",
       "date                                                                        \n",
       "2019-01-01             0.09       2.21                  2.30      1.486607  \n",
       "2019-01-01             0.03       0.27                  0.30      0.519615  \n",
       "2019-01-01             0.01       0.69                  0.70      0.830662  \n",
       "2019-01-01             0.01       0.22                  0.23      0.469042  \n",
       "2019-01-01             0.08       1.92                  2.00      1.385641  "
      ]
     },
     "execution_count": 24,
     "metadata": {},
     "output_type": "execute_result"
    }
   ],
   "source": [
    "df_feats_norm = df_feats_outliers.copy()\n",
    "NORM_TYPE, df_feats_norm['gross_amount'] = normalize_data(df_feats_outliers, ['gross_amount']) # global variable for NORM_TYPE ->>\n",
    "df_feats_norm = handle_missing_value(df_feats_norm, df_feats_norm.columns, True)\n",
    "print(NORM_TYPE)\n",
    "df_feats_norm.head()"
   ]
  },
  {
   "cell_type": "code",
   "execution_count": 25,
   "metadata": {
    "jupyter": {
     "source_hidden": true
    }
   },
   "outputs": [],
   "source": [
    "# print(NORM_TYPE)\n",
    "# sns.distplot(df_feats_norm['gross_amount'])\n",
    "# plt.show()\n",
    "# sns.distplot(df_feats['gross_amount'])\n",
    "# plt.show()"
   ]
  },
  {
   "cell_type": "code",
   "execution_count": 26,
   "metadata": {},
   "outputs": [],
   "source": [
    "# NORM_TYPE_1, house_pricing_norm = normalize_data(house_price_outliers, house_price_outliers.columns) # global variable for NORM_TYPE ->>\n",
    "# print(NORM_TYPE_1)\n",
    "# house_pricing_norm.head()"
   ]
  },
  {
   "cell_type": "markdown",
   "metadata": {},
   "source": [
    "<h1 style=\"color: red\">Data spliting according to model</h1>"
   ]
  },
  {
   "cell_type": "code",
   "execution_count": 27,
   "metadata": {},
   "outputs": [],
   "source": [
    "def split_data_features(df, target, *args, **kwargs):\n",
    "    _X = df.drop(target, axis=1)\n",
    "    _y = df[target]\n",
    "        \n",
    "    try:\n",
    "        if kwargs.get('scaler') or args:\n",
    "            if kwargs.get('scaler') or args[0]:\n",
    "                scaler_x = StandardScaler()\n",
    "                scaler_y = StandardScaler()\n",
    "                    \n",
    "                _yShape = np.array(_y).reshape(-1, 1)\n",
    "                \n",
    "                _X_scale = scaler_x.fit_transform(_X.values)\n",
    "                _y_scale = scaler_y.fit_transform(_yShape)\n",
    "                \n",
    "                return _X_scale, scaler_x, _y_scale, scaler_y\n",
    "        \n",
    "    except IndexError:\n",
    "        raise(IndexError)\n",
    "            \n",
    "    return _X.values, _y.values\n"
   ]
  },
  {
   "cell_type": "code",
   "execution_count": 28,
   "metadata": {},
   "outputs": [],
   "source": [
    "X_sc, scaler_x, y_sc, scaler_y = split_data_features(df_feats_norm, 'gross_amount', True)"
   ]
  },
  {
   "cell_type": "code",
   "execution_count": null,
   "metadata": {},
   "outputs": [],
   "source": []
  },
  {
   "cell_type": "code",
   "execution_count": 29,
   "metadata": {},
   "outputs": [],
   "source": [
    "def data_reshaping_for_fbProphet(df, target, *args, **kwargs):\n",
    "    try:\n",
    "        # get period\n",
    "        freq_ = kwargs.get('freq') if kwargs.get('freq') else 'D'\n",
    "                \n",
    "        df = df.rename_axis('ds')        \n",
    "        df = df.set_index(df.index).resample(freq_)[df.columns].sum()        \n",
    "        \n",
    "        # standardise target\n",
    "        y = np.array(df[target].values).reshape(-1, 1)\n",
    "        scaler_y = StandardScaler()\n",
    "        y_sc = scaler_y.fit_transform(y)\n",
    "        df_frame = pd.DataFrame(data=generate_period(df.index, y_sc))\n",
    "        \n",
    "        train = df_frame[:-31]\n",
    "        test = df_frame[train.shape[0]:]\n",
    "        return train, test, scaler_y\n",
    "        \n",
    "    except IndexError:\n",
    "        raise(IndexError)\n",
    "        \n",
    "def generate_period(date, target):\n",
    "    d = {\"ds\": date, \"y\": target.flatten()}\n",
    "    return d\n",
    "    "
   ]
  },
  {
   "cell_type": "code",
   "execution_count": 30,
   "metadata": {},
   "outputs": [
    {
     "data": {
      "text/html": [
       "<div>\n",
       "<style scoped>\n",
       "    .dataframe tbody tr th:only-of-type {\n",
       "        vertical-align: middle;\n",
       "    }\n",
       "\n",
       "    .dataframe tbody tr th {\n",
       "        vertical-align: top;\n",
       "    }\n",
       "\n",
       "    .dataframe thead th {\n",
       "        text-align: right;\n",
       "    }\n",
       "</style>\n",
       "<table border=\"1\" class=\"dataframe\">\n",
       "  <thead>\n",
       "    <tr style=\"text-align: right;\">\n",
       "      <th></th>\n",
       "      <th>ds</th>\n",
       "      <th>y</th>\n",
       "    </tr>\n",
       "  </thead>\n",
       "  <tbody>\n",
       "    <tr>\n",
       "      <th>330</th>\n",
       "      <td>2019-11-27</td>\n",
       "      <td>-1.229479</td>\n",
       "    </tr>\n",
       "    <tr>\n",
       "      <th>331</th>\n",
       "      <td>2019-11-28</td>\n",
       "      <td>-1.963724</td>\n",
       "    </tr>\n",
       "    <tr>\n",
       "      <th>332</th>\n",
       "      <td>2019-11-29</td>\n",
       "      <td>-1.572756</td>\n",
       "    </tr>\n",
       "    <tr>\n",
       "      <th>333</th>\n",
       "      <td>2019-11-30</td>\n",
       "      <td>-0.181827</td>\n",
       "    </tr>\n",
       "    <tr>\n",
       "      <th>334</th>\n",
       "      <td>2019-12-01</td>\n",
       "      <td>-1.933462</td>\n",
       "    </tr>\n",
       "  </tbody>\n",
       "</table>\n",
       "</div>"
      ],
      "text/plain": [
       "            ds         y\n",
       "330 2019-11-27 -1.229479\n",
       "331 2019-11-28 -1.963724\n",
       "332 2019-11-29 -1.572756\n",
       "333 2019-11-30 -0.181827\n",
       "334 2019-12-01 -1.933462"
      ]
     },
     "execution_count": 30,
     "metadata": {},
     "output_type": "execute_result"
    }
   ],
   "source": [
    "fb_train, fb_test, SCALER_PROPHET_Y = data_reshaping_for_fbProphet(df_feats_norm, 'gross_amount', scaler=True, freq='D')\n",
    "fb_train.tail()"
   ]
  },
  {
   "cell_type": "markdown",
   "metadata": {},
   "source": [
    "<h1 style=\"color: red\">Building models for prediction</h1>"
   ]
  },
  {
   "cell_type": "code",
   "execution_count": 94,
   "metadata": {},
   "outputs": [
    {
     "name": "stderr",
     "output_type": "stream",
     "text": [
      "INFO:fbprophet:Disabling yearly seasonality. Run prophet with yearly_seasonality=True to override this.\n"
     ]
    },
    {
     "data": {
      "text/html": [
       "<div>\n",
       "<style scoped>\n",
       "    .dataframe tbody tr th:only-of-type {\n",
       "        vertical-align: middle;\n",
       "    }\n",
       "\n",
       "    .dataframe tbody tr th {\n",
       "        vertical-align: top;\n",
       "    }\n",
       "\n",
       "    .dataframe thead th {\n",
       "        text-align: right;\n",
       "    }\n",
       "</style>\n",
       "<table border=\"1\" class=\"dataframe\">\n",
       "  <thead>\n",
       "    <tr style=\"text-align: right;\">\n",
       "      <th></th>\n",
       "      <th>ds</th>\n",
       "      <th>trend</th>\n",
       "      <th>yhat_lower</th>\n",
       "      <th>yhat_upper</th>\n",
       "      <th>trend_lower</th>\n",
       "      <th>trend_upper</th>\n",
       "      <th>additive_terms</th>\n",
       "      <th>additive_terms_lower</th>\n",
       "      <th>additive_terms_upper</th>\n",
       "      <th>daily</th>\n",
       "      <th>daily_lower</th>\n",
       "      <th>daily_upper</th>\n",
       "      <th>weekly</th>\n",
       "      <th>weekly_lower</th>\n",
       "      <th>weekly_upper</th>\n",
       "      <th>multiplicative_terms</th>\n",
       "      <th>multiplicative_terms_lower</th>\n",
       "      <th>multiplicative_terms_upper</th>\n",
       "      <th>yhat</th>\n",
       "    </tr>\n",
       "  </thead>\n",
       "  <tbody>\n",
       "    <tr>\n",
       "      <th>0</th>\n",
       "      <td>2019-01-01</td>\n",
       "      <td>66.819904</td>\n",
       "      <td>59.139011</td>\n",
       "      <td>96.968545</td>\n",
       "      <td>66.819904</td>\n",
       "      <td>66.819904</td>\n",
       "      <td>11.371775</td>\n",
       "      <td>11.371775</td>\n",
       "      <td>11.371775</td>\n",
       "      <td>11.673069</td>\n",
       "      <td>11.673069</td>\n",
       "      <td>11.673069</td>\n",
       "      <td>-0.301293</td>\n",
       "      <td>-0.301293</td>\n",
       "      <td>-0.301293</td>\n",
       "      <td>0.0</td>\n",
       "      <td>0.0</td>\n",
       "      <td>0.0</td>\n",
       "      <td>78.191679</td>\n",
       "    </tr>\n",
       "    <tr>\n",
       "      <th>1</th>\n",
       "      <td>2019-01-02</td>\n",
       "      <td>66.868994</td>\n",
       "      <td>57.286443</td>\n",
       "      <td>93.424375</td>\n",
       "      <td>66.868994</td>\n",
       "      <td>66.868994</td>\n",
       "      <td>7.873341</td>\n",
       "      <td>7.873341</td>\n",
       "      <td>7.873341</td>\n",
       "      <td>11.673069</td>\n",
       "      <td>11.673069</td>\n",
       "      <td>11.673069</td>\n",
       "      <td>-3.799727</td>\n",
       "      <td>-3.799727</td>\n",
       "      <td>-3.799727</td>\n",
       "      <td>0.0</td>\n",
       "      <td>0.0</td>\n",
       "      <td>0.0</td>\n",
       "      <td>74.742336</td>\n",
       "    </tr>\n",
       "    <tr>\n",
       "      <th>2</th>\n",
       "      <td>2019-01-03</td>\n",
       "      <td>66.918085</td>\n",
       "      <td>59.216654</td>\n",
       "      <td>97.329533</td>\n",
       "      <td>66.918085</td>\n",
       "      <td>66.918085</td>\n",
       "      <td>12.533934</td>\n",
       "      <td>12.533934</td>\n",
       "      <td>12.533934</td>\n",
       "      <td>11.673069</td>\n",
       "      <td>11.673069</td>\n",
       "      <td>11.673069</td>\n",
       "      <td>0.860865</td>\n",
       "      <td>0.860865</td>\n",
       "      <td>0.860865</td>\n",
       "      <td>0.0</td>\n",
       "      <td>0.0</td>\n",
       "      <td>0.0</td>\n",
       "      <td>79.452019</td>\n",
       "    </tr>\n",
       "    <tr>\n",
       "      <th>3</th>\n",
       "      <td>2019-01-04</td>\n",
       "      <td>66.967175</td>\n",
       "      <td>61.895802</td>\n",
       "      <td>99.436480</td>\n",
       "      <td>66.967175</td>\n",
       "      <td>66.967175</td>\n",
       "      <td>12.949126</td>\n",
       "      <td>12.949126</td>\n",
       "      <td>12.949126</td>\n",
       "      <td>11.673069</td>\n",
       "      <td>11.673069</td>\n",
       "      <td>11.673069</td>\n",
       "      <td>1.276057</td>\n",
       "      <td>1.276057</td>\n",
       "      <td>1.276057</td>\n",
       "      <td>0.0</td>\n",
       "      <td>0.0</td>\n",
       "      <td>0.0</td>\n",
       "      <td>79.916301</td>\n",
       "    </tr>\n",
       "    <tr>\n",
       "      <th>4</th>\n",
       "      <td>2019-01-05</td>\n",
       "      <td>67.016266</td>\n",
       "      <td>59.082960</td>\n",
       "      <td>98.282091</td>\n",
       "      <td>67.016266</td>\n",
       "      <td>67.016266</td>\n",
       "      <td>11.799829</td>\n",
       "      <td>11.799829</td>\n",
       "      <td>11.799829</td>\n",
       "      <td>11.673069</td>\n",
       "      <td>11.673069</td>\n",
       "      <td>11.673069</td>\n",
       "      <td>0.126760</td>\n",
       "      <td>0.126760</td>\n",
       "      <td>0.126760</td>\n",
       "      <td>0.0</td>\n",
       "      <td>0.0</td>\n",
       "      <td>0.0</td>\n",
       "      <td>78.816095</td>\n",
       "    </tr>\n",
       "  </tbody>\n",
       "</table>\n",
       "</div>"
      ],
      "text/plain": [
       "          ds      trend  yhat_lower  yhat_upper  trend_lower  trend_upper  \\\n",
       "0 2019-01-01  66.819904   59.139011   96.968545    66.819904    66.819904   \n",
       "1 2019-01-02  66.868994   57.286443   93.424375    66.868994    66.868994   \n",
       "2 2019-01-03  66.918085   59.216654   97.329533    66.918085    66.918085   \n",
       "3 2019-01-04  66.967175   61.895802   99.436480    66.967175    66.967175   \n",
       "4 2019-01-05  67.016266   59.082960   98.282091    67.016266    67.016266   \n",
       "\n",
       "   additive_terms  additive_terms_lower  additive_terms_upper      daily  \\\n",
       "0       11.371775             11.371775             11.371775  11.673069   \n",
       "1        7.873341              7.873341              7.873341  11.673069   \n",
       "2       12.533934             12.533934             12.533934  11.673069   \n",
       "3       12.949126             12.949126             12.949126  11.673069   \n",
       "4       11.799829             11.799829             11.799829  11.673069   \n",
       "\n",
       "   daily_lower  daily_upper    weekly  weekly_lower  weekly_upper  \\\n",
       "0    11.673069    11.673069 -0.301293     -0.301293     -0.301293   \n",
       "1    11.673069    11.673069 -3.799727     -3.799727     -3.799727   \n",
       "2    11.673069    11.673069  0.860865      0.860865      0.860865   \n",
       "3    11.673069    11.673069  1.276057      1.276057      1.276057   \n",
       "4    11.673069    11.673069  0.126760      0.126760      0.126760   \n",
       "\n",
       "   multiplicative_terms  multiplicative_terms_lower  \\\n",
       "0                   0.0                         0.0   \n",
       "1                   0.0                         0.0   \n",
       "2                   0.0                         0.0   \n",
       "3                   0.0                         0.0   \n",
       "4                   0.0                         0.0   \n",
       "\n",
       "   multiplicative_terms_upper       yhat  \n",
       "0                         0.0  78.191679  \n",
       "1                         0.0  74.742336  \n",
       "2                         0.0  79.452019  \n",
       "3                         0.0  79.916301  \n",
       "4                         0.0  78.816095  "
      ]
     },
     "execution_count": 94,
     "metadata": {},
     "output_type": "execute_result"
    }
   ],
   "source": [
    "fb_df = pd.DataFrame(data={\"ds\": df_feats_norm.index, \"y\": df_feats_norm['gross_amount']})\n",
    "fb_df = fb_df.resample('D')[fb_df.columns].sum()\n",
    "fb_df = fb_df.rename_axis('ds')\n",
    "fb_df.reset_index(level=0, inplace=True)\n",
    "\n",
    "fbprophet = Prophet(growth='linear', daily_seasonality=True)\n",
    "fbprophet.fit(fb_df)\n",
    "\n",
    "fb_future = fbprophet.make_future_dataframe(periods=1)\n",
    "forecast = fbprophet.predict(fb_future)\n",
    "\n",
    "forecast.head()"
   ]
  },
  {
   "cell_type": "code",
   "execution_count": 96,
   "metadata": {},
   "outputs": [
    {
     "data": {
      "text/plain": [
       "2560335.3635320277"
      ]
     },
     "execution_count": 96,
     "metadata": {},
     "output_type": "execute_result"
    }
   ],
   "source": [
    "features = ['yhat', 'yhat_upper', 'yhat_lower']\n",
    "\n",
    "_forecast = rescale_value_to_default(forecast, features, NORM_TYPE)\n",
    "_forecast[\"yhat\"][0]"
   ]
  },
  {
   "cell_type": "code",
   "execution_count": null,
   "metadata": {},
   "outputs": [],
   "source": []
  },
  {
   "cell_type": "code",
   "execution_count": 31,
   "metadata": {},
   "outputs": [
    {
     "name": "stderr",
     "output_type": "stream",
     "text": [
      "INFO:fbprophet:Disabling yearly seasonality. Run prophet with yearly_seasonality=True to override this.\n"
     ]
    },
    {
     "data": {
      "text/plain": [
       "<fbprophet.forecaster.Prophet at 0x7feb8c0139d0>"
      ]
     },
     "execution_count": 31,
     "metadata": {},
     "output_type": "execute_result"
    }
   ],
   "source": [
    "# First Model FB_PROPHET\n",
    "fbprophet = Prophet(growth='linear', daily_seasonality=True)\n",
    "fbprophet.fit(fb_train)"
   ]
  },
  {
   "cell_type": "code",
   "execution_count": 32,
   "metadata": {},
   "outputs": [],
   "source": [
    "fb_future = fbprophet.make_future_dataframe(periods=1)"
   ]
  },
  {
   "cell_type": "code",
   "execution_count": 33,
   "metadata": {},
   "outputs": [],
   "source": [
    "# rescale stats_skew to normal values\n",
    "forecast = fbprophet.predict(fb_future)\n",
    "features = ['yhat','yhat_upper','yhat_lower']\n",
    "\n",
    "def rescaler(df, features, scaler):\n",
    "    new_df = pd.DataFrame(columns=features)\n",
    "    try:\n",
    "        if len(features) == 1:\n",
    "            for feat in df[features]:\n",
    "                for x in df[feat]:\n",
    "                    new_df = new_df.append({features[0]: float(scaler.inverse_transform(np.array(x).reshape(-1,)))}, ignore_index=True)\n",
    "        else:\n",
    "            for x, y, z in zip(df[features[0]], df[features[1]], df[features[2]]):\n",
    "                new_df = new_df.append({features[0]: float(scaler.inverse_transform(np.array(x).reshape(-1,))), features[1]: float(scaler.inverse_transform(np.array(y).reshape(-1,))), features[2]: float(scaler.inverse_transform(np.array(z).reshape(-1,)))}, ignore_index=True)\n",
    "    except Exception as e:\n",
    "        pass\n",
    "\n",
    "    return new_df\n",
    "\n",
    "def rescale_value_to_default(forecast, features, norm_type):\n",
    "    ds = forecast['ds']\n",
    "    forecast = rescaler(forecast, features, SCALER_PROPHET_Y)\n",
    "        \n",
    "    if norm_type == 'stats_skew':\n",
    "        forecast = forecast[['yhat','yhat_upper','yhat_lower']].apply(lambda x: inv_boxcox(x, LAMBDA))\n",
    "        forecast['ds'] = pd.to_datetime(ds)\n",
    "    else:\n",
    "        forecast = inverser_normalize_value(forecast, features, norm_type)\n",
    "        forecast['ds'] = pd.to_datetime(ds)\n",
    "    \n",
    "    return forecast\n"
   ]
  },
  {
   "cell_type": "code",
   "execution_count": 34,
   "metadata": {},
   "outputs": [
    {
     "data": {
      "text/html": [
       "<div>\n",
       "<style scoped>\n",
       "    .dataframe tbody tr th:only-of-type {\n",
       "        vertical-align: middle;\n",
       "    }\n",
       "\n",
       "    .dataframe tbody tr th {\n",
       "        vertical-align: top;\n",
       "    }\n",
       "\n",
       "    .dataframe thead th {\n",
       "        text-align: right;\n",
       "    }\n",
       "</style>\n",
       "<table border=\"1\" class=\"dataframe\">\n",
       "  <thead>\n",
       "    <tr style=\"text-align: right;\">\n",
       "      <th></th>\n",
       "      <th>yhat</th>\n",
       "      <th>yhat_upper</th>\n",
       "      <th>yhat_lower</th>\n",
       "      <th>ds</th>\n",
       "    </tr>\n",
       "  </thead>\n",
       "  <tbody>\n",
       "    <tr>\n",
       "      <th>0</th>\n",
       "      <td>6646.556613</td>\n",
       "      <td>10308.512991</td>\n",
       "      <td>3601.517461</td>\n",
       "      <td>2019-01-01</td>\n",
       "    </tr>\n",
       "    <tr>\n",
       "      <th>1</th>\n",
       "      <td>6213.304760</td>\n",
       "      <td>9717.867941</td>\n",
       "      <td>3384.252145</td>\n",
       "      <td>2019-01-02</td>\n",
       "    </tr>\n",
       "    <tr>\n",
       "      <th>2</th>\n",
       "      <td>6923.170268</td>\n",
       "      <td>10684.915757</td>\n",
       "      <td>3968.989713</td>\n",
       "      <td>2019-01-03</td>\n",
       "    </tr>\n",
       "    <tr>\n",
       "      <th>3</th>\n",
       "      <td>7046.761075</td>\n",
       "      <td>11357.408002</td>\n",
       "      <td>4271.205991</td>\n",
       "      <td>2019-01-04</td>\n",
       "    </tr>\n",
       "    <tr>\n",
       "      <th>4</th>\n",
       "      <td>6756.640220</td>\n",
       "      <td>10305.155312</td>\n",
       "      <td>3591.042201</td>\n",
       "      <td>2019-01-05</td>\n",
       "    </tr>\n",
       "  </tbody>\n",
       "</table>\n",
       "</div>"
      ],
      "text/plain": [
       "          yhat    yhat_upper   yhat_lower         ds\n",
       "0  6646.556613  10308.512991  3601.517461 2019-01-01\n",
       "1  6213.304760   9717.867941  3384.252145 2019-01-02\n",
       "2  6923.170268  10684.915757  3968.989713 2019-01-03\n",
       "3  7046.761075  11357.408002  4271.205991 2019-01-04\n",
       "4  6756.640220  10305.155312  3591.042201 2019-01-05"
      ]
     },
     "execution_count": 34,
     "metadata": {},
     "output_type": "execute_result"
    }
   ],
   "source": [
    "_forecast = rescale_value_to_default(forecast, features, NORM_TYPE)\n",
    "_forecast.head()"
   ]
  },
  {
   "cell_type": "code",
   "execution_count": 35,
   "metadata": {},
   "outputs": [
    {
     "data": {
      "text/html": [
       "<div>\n",
       "<style scoped>\n",
       "    .dataframe tbody tr th:only-of-type {\n",
       "        vertical-align: middle;\n",
       "    }\n",
       "\n",
       "    .dataframe tbody tr th {\n",
       "        vertical-align: top;\n",
       "    }\n",
       "\n",
       "    .dataframe thead th {\n",
       "        text-align: right;\n",
       "    }\n",
       "</style>\n",
       "<table border=\"1\" class=\"dataframe\">\n",
       "  <thead>\n",
       "    <tr style=\"text-align: right;\">\n",
       "      <th></th>\n",
       "      <th>y</th>\n",
       "      <th>ds</th>\n",
       "    </tr>\n",
       "  </thead>\n",
       "  <tbody>\n",
       "    <tr>\n",
       "      <th>0</th>\n",
       "      <td>1133.497615</td>\n",
       "      <td>2019-01-01</td>\n",
       "    </tr>\n",
       "    <tr>\n",
       "      <th>1</th>\n",
       "      <td>3271.666724</td>\n",
       "      <td>2019-01-02</td>\n",
       "    </tr>\n",
       "    <tr>\n",
       "      <th>2</th>\n",
       "      <td>1539.102236</td>\n",
       "      <td>2019-01-03</td>\n",
       "    </tr>\n",
       "    <tr>\n",
       "      <th>3</th>\n",
       "      <td>1638.687309</td>\n",
       "      <td>2019-01-04</td>\n",
       "    </tr>\n",
       "    <tr>\n",
       "      <th>4</th>\n",
       "      <td>2028.396715</td>\n",
       "      <td>2019-01-05</td>\n",
       "    </tr>\n",
       "  </tbody>\n",
       "</table>\n",
       "</div>"
      ],
      "text/plain": [
       "             y         ds\n",
       "0  1133.497615 2019-01-01\n",
       "1  3271.666724 2019-01-02\n",
       "2  1539.102236 2019-01-03\n",
       "3  1638.687309 2019-01-04\n",
       "4  2028.396715 2019-01-05"
      ]
     },
     "execution_count": 35,
     "metadata": {},
     "output_type": "execute_result"
    }
   ],
   "source": [
    "test_df = rescale_value_to_default(fb_test, ['y'], NORM_TYPE)\n",
    "test_df['ds'] = forecast['ds']\n",
    "test_df.head()"
   ]
  },
  {
   "cell_type": "code",
   "execution_count": 36,
   "metadata": {},
   "outputs": [
    {
     "data": {
      "text/plain": [
       "-44.54081922532278"
      ]
     },
     "execution_count": 36,
     "metadata": {},
     "output_type": "execute_result"
    }
   ],
   "source": [
    "r2_score(np.array(test_df['y']), np.array(_forecast['yhat'][:31]))"
   ]
  },
  {
   "cell_type": "code",
   "execution_count": 37,
   "metadata": {},
   "outputs": [
    {
     "data": {
      "text/plain": [
       "-13.861331943614944"
      ]
     },
     "execution_count": 37,
     "metadata": {},
     "output_type": "execute_result"
    }
   ],
   "source": [
    "r2_score(np.array(fb_test['y']), np.array(forecast['yhat'][:31]))"
   ]
  },
  {
   "cell_type": "code",
   "execution_count": 38,
   "metadata": {},
   "outputs": [
    {
     "data": {
      "image/png": "[encoded data removed]",
      "text/plain": [
       "<Figure size 432x288 with 1 Axes>"
      ]
     },
     "metadata": {
      "needs_background": "light"
     },
     "output_type": "display_data"
    }
   ],
   "source": [
    "forecast['yhat'][:31].plot()\n",
    "test_df['y'].plot()\n",
    "plt.show()"
   ]
  },
  {
   "cell_type": "code",
   "execution_count": 39,
   "metadata": {},
   "outputs": [
    {
     "name": "stderr",
     "output_type": "stream",
     "text": [
      "INFO:fbprophet:Disabling yearly seasonality. Run prophet with yearly_seasonality=True to override this.\n",
      "INFO:fbprophet:Disabling daily seasonality. Run prophet with daily_seasonality=True to override this.\n"
     ]
    },
    {
     "name": "stdout",
     "output_type": "stream",
     "text": [
      "(700, 1)\n"
     ]
    },
    {
     "data": {
      "image/png": "[encoded data removed]",
      "text/plain": [
       "<Figure size 720x432 with 1 Axes>"
      ]
     },
     "metadata": {},
     "output_type": "display_data"
    },
    {
     "data": {
      "image/png": "[encoded data removed]",
      "text/plain": [
       "<Figure size 648x432 with 2 Axes>"
      ]
     },
     "metadata": {},
     "output_type": "display_data"
    }
   ],
   "source": [
    "from fbprophet.plot import add_changepoints_to_plot\n",
    "\n",
    "prophet = Prophet()\n",
    "# prophet.add_country_holidays(country_name='US')\n",
    "prophet.fit(fb_train[pd.to_datetime(fb_train['ds']) < pd.to_datetime('2020-01-02')])\n",
    "future = prophet.make_future_dataframe(periods=365, freq='d')\n",
    "print(future.shape)\n",
    "forecast = prophet.predict(future)\n",
    "fig = prophet.plot(forecast)\n",
    "a = add_changepoints_to_plot(fig.gca(), prophet, forecast)\n",
    "plt.show()\n",
    "fig2 = prophet.plot_components(forecast)\n",
    "plt.show()"
   ]
  },
  {
   "cell_type": "code",
   "execution_count": null,
   "metadata": {},
   "outputs": [],
   "source": []
  },
  {
   "cell_type": "code",
   "execution_count": null,
   "metadata": {},
   "outputs": [],
   "source": []
  },
  {
   "cell_type": "code",
   "execution_count": null,
   "metadata": {},
   "outputs": [],
   "source": []
  },
  {
   "cell_type": "code",
   "execution_count": null,
   "metadata": {},
   "outputs": [],
   "source": []
  },
  {
   "cell_type": "code",
   "execution_count": null,
   "metadata": {},
   "outputs": [],
   "source": []
  },
  {
   "cell_type": "code",
   "execution_count": null,
   "metadata": {},
   "outputs": [],
   "source": []
  },
  {
   "cell_type": "code",
   "execution_count": null,
   "metadata": {},
   "outputs": [],
   "source": []
  },
  {
   "cell_type": "code",
   "execution_count": null,
   "metadata": {},
   "outputs": [],
   "source": []
  },
  {
   "cell_type": "code",
   "execution_count": null,
   "metadata": {},
   "outputs": [],
   "source": []
  },
  {
   "cell_type": "code",
   "execution_count": null,
   "metadata": {},
   "outputs": [],
   "source": []
  },
  {
   "cell_type": "code",
   "execution_count": null,
   "metadata": {},
   "outputs": [],
   "source": []
  },
  {
   "cell_type": "code",
   "execution_count": null,
   "metadata": {},
   "outputs": [],
   "source": []
  },
  {
   "cell_type": "code",
   "execution_count": 40,
   "metadata": {},
   "outputs": [],
   "source": [
    "# def rmse_cv(model, x, y):\n",
    "#     return np.sqrt(-cross_val_score(model, x, y, scoring='neg_mean_squared_error', cv=5))"
   ]
  },
  {
   "cell_type": "code",
   "execution_count": 41,
   "metadata": {},
   "outputs": [],
   "source": [
    "# Model 1: LinearRegression\n",
    "# model_lr = LinearRegression()\n",
    "# rmse_cv(model_lr, X_train, y_train).mean()"
   ]
  },
  {
   "cell_type": "code",
   "execution_count": 42,
   "metadata": {},
   "outputs": [],
   "source": [
    "# Model 2: Ridge Regression\n",
    "# model_ridge = RidgeCV(alphas=[1, 0.1, 0.01, 0.0005])\n",
    "# rmse_cv(model_ridge, X_train, y_train).mean()"
   ]
  },
  {
   "cell_type": "code",
   "execution_count": 43,
   "metadata": {},
   "outputs": [],
   "source": [
    "# Model 3: Lasso Regression\n",
    "# model_lasso = LassoCV(alphas=[1, 0.1, 0.01, 0.0005])\n",
    "# rmse_cv(model_lasso, X_train, y_train).mean()"
   ]
  },
  {
   "cell_type": "code",
   "execution_count": 44,
   "metadata": {},
   "outputs": [],
   "source": [
    "# model_lr.fit(X_train, y_train)\n",
    "# model_lasso.fit(X_train, y_train)"
   ]
  },
  {
   "cell_type": "code",
   "execution_count": 45,
   "metadata": {},
   "outputs": [],
   "source": [
    "# yhat = model_lr.predict(X_test)\n",
    "# yhat_l = model_lasso.predict(X_test)"
   ]
  },
  {
   "cell_type": "code",
   "execution_count": 46,
   "metadata": {},
   "outputs": [],
   "source": [
    "# print(yhat.shape)\n",
    "# print(yhat_l.shape)"
   ]
  },
  {
   "cell_type": "code",
   "execution_count": 47,
   "metadata": {},
   "outputs": [],
   "source": [
    "# print(r2_score(y_test, yhat))\n",
    "# print(r2_score(y_test, yhat_l))"
   ]
  },
  {
   "cell_type": "code",
   "execution_count": 48,
   "metadata": {},
   "outputs": [],
   "source": [
    "# df = pd.DataFrame({'Actual': y_test.flatten(), 'Predicted': yhat.flatten()})\n",
    "# df_l = pd.DataFrame({'Actual': y_test.flatten(), 'Predicted': yhat_l.flatten()})"
   ]
  },
  {
   "cell_type": "code",
   "execution_count": 49,
   "metadata": {},
   "outputs": [],
   "source": [
    "# df1 = df.head(25)\n",
    "# df1.plot(kind='bar',figsize=(16, 5))\n",
    "# plt.grid(which='major', linestyle='-', linewidth='0.5', color='green')\n",
    "# plt.grid(which='minor', linestyle=':', linewidth='0.5', color='black')\n",
    "# plt.show()\n",
    "\n",
    "# df1 = df_l.head(25)\n",
    "# df1.plot(kind='bar',figsize=(16, 5))\n",
    "# plt.grid(which='major', linestyle='-', linewidth='0.5', color='green')\n",
    "# plt.grid(which='minor', linestyle=':', linewidth='0.5', color='black')\n",
    "# plt.show()"
   ]
  },
  {
   "cell_type": "code",
   "execution_count": 50,
   "metadata": {},
   "outputs": [],
   "source": [
    "# plt.scatter(X_test, y_test,  color='gray')\n",
    "# plt.plot(X_test, yhat, color='red', linewidth=2)\n",
    "# plt.show()"
   ]
  },
  {
   "cell_type": "code",
   "execution_count": 51,
   "metadata": {},
   "outputs": [],
   "source": [
    "# print('Mean Absolute Error:', metrics.mean_absolute_error(y_test, yhat))  \n",
    "# print('Mean Squared Error:', metrics.mean_squared_error(y_test, yhat))  \n",
    "# print('Root Mean Squared Error:', np.sqrt(metrics.mean_squared_error(y_test, yhat)))\n",
    "# print('\\n')\n",
    "# print('Mean Absolute Error:', metrics.mean_absolute_error(y_test, yhat_l))  \n",
    "# print('Mean Squared Error:', metrics.mean_squared_error(y_test, yhat_l))  \n",
    "# print('Root Mean Squared Error:', np.sqrt(metrics.mean_squared_error(y_test, yhat_l)))"
   ]
  },
  {
   "cell_type": "code",
   "execution_count": 52,
   "metadata": {},
   "outputs": [],
   "source": [
    "# yhat_inv = pd.DataFrame({'Actual': scaler_y.inverse_transform(y_test).flatten(), 'Predicted': scaler_y.inverse_transform(yhat).flatten()})\n",
    "# yhat_inv = inverser_normalize_value(yhat_inv, ['Actual', 'Predicted'], NORM_TYPE, ld=LD)\n",
    "# yhat_inv.head()"
   ]
  },
  {
   "cell_type": "code",
   "execution_count": 53,
   "metadata": {},
   "outputs": [],
   "source": [
    "# df1 = yhat_inv.head(50)\n",
    "# df1.plot(kind='bar',figsize=(16, 5))\n",
    "# plt.grid(which='major', linestyle='-', linewidth='0.5', color='green')\n",
    "# plt.grid(which='minor', linestyle=':', linewidth='0.5', color='black')\n",
    "# plt.show()"
   ]
  },
  {
   "cell_type": "code",
   "execution_count": 54,
   "metadata": {},
   "outputs": [],
   "source": [
    "# r2_score(yhat_inv['Actual'], yhat_inv['Predicted'])"
   ]
  },
  {
   "cell_type": "code",
   "execution_count": null,
   "metadata": {},
   "outputs": [],
   "source": []
  },
  {
   "cell_type": "code",
   "execution_count": null,
   "metadata": {},
   "outputs": [],
   "source": []
  },
  {
   "cell_type": "code",
   "execution_count": null,
   "metadata": {},
   "outputs": [],
   "source": []
  }
 ],
 "metadata": {
  "kernelspec": {
   "display_name": "Python 3",
   "language": "python",
   "name": "python3"
  },
  "language_info": {
   "codemirror_mode": {
    "name": "ipython",
    "version": 3
   },
   "file_extension": ".py",
   "mimetype": "text/x-python",
   "name": "python",
   "nbconvert_exporter": "python",
   "pygments_lexer": "ipython3",
   "version": "3.7.6"
  }
 },
 "nbformat": 4,
 "nbformat_minor": 4
}
