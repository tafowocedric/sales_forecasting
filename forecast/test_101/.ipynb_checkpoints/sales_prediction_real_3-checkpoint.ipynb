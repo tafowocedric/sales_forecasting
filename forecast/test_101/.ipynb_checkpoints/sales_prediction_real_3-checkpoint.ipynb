{
 "cells": [
  {
   "cell_type": "code",
   "execution_count": 1,
   "metadata": {},
   "outputs": [
    {
     "name": "stderr",
     "output_type": "stream",
     "text": [
      "Using TensorFlow backend.\n"
     ]
    }
   ],
   "source": [
    "import warnings\n",
    "warnings.filterwarnings('ignore')\n",
    "\n",
    "import pandas as pd\n",
    "import numpy as np\n",
    "import matplotlib.pyplot as plt\n",
    "import seaborn as sns\n",
    "from sqlalchemy import create_engine\n",
    "from ast import literal_eval\n",
    "import json\n",
    "from sklearn.metrics import r2_score, mean_squared_error, mean_absolute_error\n",
    "from sklearn import metrics\n",
    "from scipy.special import boxcox, inv_boxcox\n",
    "from sklearn.preprocessing import StandardScaler, MinMaxScaler\n",
    "from scipy.stats import zscore\n",
    "import pickle\n",
    "from sklearn.linear_model import LinearRegression\n",
    "import math\n",
    "\n",
    "import tensorflow as tf\n",
    "from keras.models import Sequential\n",
    "from keras.layers import Dense, LSTM, RepeatVector, TimeDistributed\n",
    "\n",
    "%matplotlib inline\n",
    "# plt.style.use('fivethirtyeight')"
   ]
  },
  {
   "cell_type": "code",
   "execution_count": 2,
   "metadata": {},
   "outputs": [],
   "source": [
    "# Postgres username, password, and database name\n",
    "POSTGRES_ADDRESS = 'localhost'\n",
    "\n",
    "POSTGRES_PORT = '5432'\n",
    "POSTGRES_USERNAME = 'vegas'\n",
    "POSTGRES_PASSWORD = 'VrichCrich99'\n",
    "POSTGRES_DBNAME = 'univers'"
   ]
  },
  {
   "cell_type": "code",
   "execution_count": 3,
   "metadata": {},
   "outputs": [],
   "source": [
    "postgres_str = ('postgresql://{username}:{password}@{ipaddress}:{port}/{dbname}'.format(username=POSTGRES_USERNAME, password=POSTGRES_PASSWORD, ipaddress=POSTGRES_ADDRESS, port=POSTGRES_PORT, dbname=POSTGRES_DBNAME))\n",
    "cnx = create_engine(postgres_str)"
   ]
  },
  {
   "cell_type": "markdown",
   "metadata": {},
   "source": [
    "<h2 style='color: red; font-size: 2em'>Fetch user data according to data count</h2>"
   ]
  },
  {
   "cell_type": "code",
   "execution_count": 14,
   "metadata": {},
   "outputs": [],
   "source": [
    "appstech_labs_id = 1 # user id for fetching"
   ]
  },
  {
   "cell_type": "code",
   "execution_count": 15,
   "metadata": {},
   "outputs": [],
   "source": [
    "# define a fetching function according to the appstech_labs_user data size\n",
    "def fetch_data(_id, small_data_size, medium_data_size, large_data_size):\n",
    "    return pd.read_sql_query(f\"SELECT * FROM user_sales_table WHERE appstech_labs_id='{appstech_labs_id}'\", cnx, index_col='txn_date', parse_dates=['txn_date'])  "
   ]
  },
  {
   "cell_type": "code",
   "execution_count": 16,
   "metadata": {},
   "outputs": [
    {
     "data": {
      "text/html": [
       "<div>\n",
       "<style scoped>\n",
       "    .dataframe tbody tr th:only-of-type {\n",
       "        vertical-align: middle;\n",
       "    }\n",
       "\n",
       "    .dataframe tbody tr th {\n",
       "        vertical-align: top;\n",
       "    }\n",
       "\n",
       "    .dataframe thead th {\n",
       "        text-align: right;\n",
       "    }\n",
       "</style>\n",
       "<table border=\"1\" class=\"dataframe\">\n",
       "  <thead>\n",
       "    <tr style=\"text-align: right;\">\n",
       "      <th></th>\n",
       "      <th>id</th>\n",
       "      <th>appstech_labs_id</th>\n",
       "      <th>discount_rate</th>\n",
       "      <th>discount_amount</th>\n",
       "      <th>sales_tax_rate</th>\n",
       "      <th>sales_tax_amount</th>\n",
       "      <th>customer_id</th>\n",
       "      <th>customer_name</th>\n",
       "      <th>currency</th>\n",
       "      <th>source</th>\n",
       "      <th>sales_type</th>\n",
       "      <th>gross_amount</th>\n",
       "      <th>gross_cost</th>\n",
       "      <th>margin</th>\n",
       "      <th>due_date</th>\n",
       "    </tr>\n",
       "    <tr>\n",
       "      <th>txn_date</th>\n",
       "      <th></th>\n",
       "      <th></th>\n",
       "      <th></th>\n",
       "      <th></th>\n",
       "      <th></th>\n",
       "      <th></th>\n",
       "      <th></th>\n",
       "      <th></th>\n",
       "      <th></th>\n",
       "      <th></th>\n",
       "      <th></th>\n",
       "      <th></th>\n",
       "      <th></th>\n",
       "      <th></th>\n",
       "      <th></th>\n",
       "    </tr>\n",
       "  </thead>\n",
       "  <tbody>\n",
       "    <tr>\n",
       "      <th>2020-05-17</th>\n",
       "      <td>1</td>\n",
       "      <td>1</td>\n",
       "      <td>0.0</td>\n",
       "      <td>0.00</td>\n",
       "      <td>0.0</td>\n",
       "      <td>0.0</td>\n",
       "      <td>4</td>\n",
       "      <td>Diego Rodriguez</td>\n",
       "      <td>USD</td>\n",
       "      <td>quickbooks</td>\n",
       "      <td>sale</td>\n",
       "      <td>140.00</td>\n",
       "      <td>0.0</td>\n",
       "      <td>140.0</td>\n",
       "      <td>2020-05-17</td>\n",
       "    </tr>\n",
       "    <tr>\n",
       "      <th>2020-05-19</th>\n",
       "      <td>2</td>\n",
       "      <td>1</td>\n",
       "      <td>10.0</td>\n",
       "      <td>8.75</td>\n",
       "      <td>0.0</td>\n",
       "      <td>0.0</td>\n",
       "      <td>15</td>\n",
       "      <td>Pye's Cakes</td>\n",
       "      <td>USD</td>\n",
       "      <td>quickbooks</td>\n",
       "      <td>sale</td>\n",
       "      <td>78.75</td>\n",
       "      <td>0.0</td>\n",
       "      <td>79.0</td>\n",
       "      <td>2020-05-19</td>\n",
       "    </tr>\n",
       "    <tr>\n",
       "      <th>2020-04-26</th>\n",
       "      <td>3</td>\n",
       "      <td>1</td>\n",
       "      <td>0.0</td>\n",
       "      <td>0.00</td>\n",
       "      <td>0.0</td>\n",
       "      <td>0.0</td>\n",
       "      <td>14</td>\n",
       "      <td>Kate Whelan</td>\n",
       "      <td>USD</td>\n",
       "      <td>quickbooks</td>\n",
       "      <td>sale</td>\n",
       "      <td>225.00</td>\n",
       "      <td>0.0</td>\n",
       "      <td>225.0</td>\n",
       "      <td>2020-04-26</td>\n",
       "    </tr>\n",
       "    <tr>\n",
       "      <th>2020-05-16</th>\n",
       "      <td>4</td>\n",
       "      <td>1</td>\n",
       "      <td>0.0</td>\n",
       "      <td>0.00</td>\n",
       "      <td>0.0</td>\n",
       "      <td>0.0</td>\n",
       "      <td>6</td>\n",
       "      <td>Dylan Sollfrank</td>\n",
       "      <td>USD</td>\n",
       "      <td>quickbooks</td>\n",
       "      <td>sale</td>\n",
       "      <td>337.50</td>\n",
       "      <td>0.0</td>\n",
       "      <td>338.0</td>\n",
       "      <td>2020-05-16</td>\n",
       "    </tr>\n",
       "    <tr>\n",
       "      <th>2020-05-17</th>\n",
       "      <td>5</td>\n",
       "      <td>1</td>\n",
       "      <td>0.0</td>\n",
       "      <td>0.00</td>\n",
       "      <td>0.0</td>\n",
       "      <td>0.0</td>\n",
       "      <td>4</td>\n",
       "      <td>Diego Rodriguez</td>\n",
       "      <td>USD</td>\n",
       "      <td>quickbooks</td>\n",
       "      <td>sale</td>\n",
       "      <td>140.00</td>\n",
       "      <td>0.0</td>\n",
       "      <td>140.0</td>\n",
       "      <td>2020-05-17</td>\n",
       "    </tr>\n",
       "  </tbody>\n",
       "</table>\n",
       "</div>"
      ],
      "text/plain": [
       "            id  appstech_labs_id  discount_rate  discount_amount  \\\n",
       "txn_date                                                           \n",
       "2020-05-17   1                 1            0.0             0.00   \n",
       "2020-05-19   2                 1           10.0             8.75   \n",
       "2020-04-26   3                 1            0.0             0.00   \n",
       "2020-05-16   4                 1            0.0             0.00   \n",
       "2020-05-17   5                 1            0.0             0.00   \n",
       "\n",
       "            sales_tax_rate  sales_tax_amount customer_id    customer_name  \\\n",
       "txn_date                                                                    \n",
       "2020-05-17             0.0               0.0           4  Diego Rodriguez   \n",
       "2020-05-19             0.0               0.0          15      Pye's Cakes   \n",
       "2020-04-26             0.0               0.0          14      Kate Whelan   \n",
       "2020-05-16             0.0               0.0           6  Dylan Sollfrank   \n",
       "2020-05-17             0.0               0.0           4  Diego Rodriguez   \n",
       "\n",
       "           currency      source sales_type  gross_amount  gross_cost  margin  \\\n",
       "txn_date                                                                       \n",
       "2020-05-17      USD  quickbooks       sale        140.00         0.0   140.0   \n",
       "2020-05-19      USD  quickbooks       sale         78.75         0.0    79.0   \n",
       "2020-04-26      USD  quickbooks       sale        225.00         0.0   225.0   \n",
       "2020-05-16      USD  quickbooks       sale        337.50         0.0   338.0   \n",
       "2020-05-17      USD  quickbooks       sale        140.00         0.0   140.0   \n",
       "\n",
       "             due_date  \n",
       "txn_date               \n",
       "2020-05-17 2020-05-17  \n",
       "2020-05-19 2020-05-19  \n",
       "2020-04-26 2020-04-26  \n",
       "2020-05-16 2020-05-16  \n",
       "2020-05-17 2020-05-17  "
      ]
     },
     "execution_count": 16,
     "metadata": {},
     "output_type": "execute_result"
    }
   ],
   "source": [
    "df = fetch_data(appstech_labs_id, small_data_size=530234, medium_data_size=1530234, large_data_size=2203234)\n",
    "df.index = pd.to_datetime(df.index)\n",
    "df.head()"
   ]
  },
  {
   "cell_type": "markdown",
   "metadata": {},
   "source": [
    "<h2 style='color: red; font-size: 2em'>Feature Engineering</h2>"
   ]
  },
  {
   "cell_type": "code",
   "execution_count": 35,
   "metadata": {},
   "outputs": [
    {
     "data": {
      "text/plain": [
       "Index(['appstech_labs_id', 'discount_rate', 'discount_amount',\n",
       "       'sales_tax_rate', 'sales_tax_amount', 'gross_amount', 'gross_cost',\n",
       "       'margin'],\n",
       "      dtype='object')"
      ]
     },
     "execution_count": 35,
     "metadata": {},
     "output_type": "execute_result"
    }
   ],
   "source": [
    "def get_all_numeric_features(df):\n",
    "    numeric_feats = df.dtypes[df.dtypes != 'object'].index\n",
    "    numeric_feats = numeric_feats[1:]\n",
    "    return numeric_feats\n",
    "\n",
    "numeric_feats = get_all_numeric_features(df)\n",
    "numeric_feats = numeric_feats[:-1]\n",
    "numeric_feats"
   ]
  },
  {
   "cell_type": "code",
   "execution_count": 36,
   "metadata": {},
   "outputs": [
    {
     "name": "stdout",
     "output_type": "stream",
     "text": [
      "<class 'pandas.core.frame.DataFrame'>\n",
      "DatetimeIndex: 13 entries, 2020-05-17 to 2020-05-04\n",
      "Data columns (total 15 columns):\n",
      "id                  13 non-null int64\n",
      "appstech_labs_id    13 non-null int64\n",
      "discount_rate       13 non-null float64\n",
      "discount_amount     13 non-null float64\n",
      "sales_tax_rate      13 non-null float64\n",
      "sales_tax_amount    13 non-null float64\n",
      "customer_id         13 non-null object\n",
      "customer_name       13 non-null object\n",
      "currency            13 non-null object\n",
      "source              13 non-null object\n",
      "sales_type          13 non-null object\n",
      "gross_amount        13 non-null float64\n",
      "gross_cost          13 non-null float64\n",
      "margin              13 non-null float64\n",
      "due_date            13 non-null datetime64[ns]\n",
      "dtypes: datetime64[ns](1), float64(7), int64(2), object(5)\n",
      "memory usage: 1.6+ KB\n"
     ]
    }
   ],
   "source": [
    "df.info()"
   ]
  },
  {
   "cell_type": "code",
   "execution_count": 37,
   "metadata": {},
   "outputs": [
    {
     "data": {
      "image/png": "[encoded data removed]",
      "text/plain": [
       "<Figure size 864x648 with 2 Axes>"
      ]
     },
     "metadata": {
      "needs_background": "light"
     },
     "output_type": "display_data"
    }
   ],
   "source": [
    "cormat = df[numeric_feats].corr()\n",
    "plt.subplots(figsize=(12, 9))\n",
    "sns.heatmap(cormat, vmax=0.9, square=True, cmap='Greens')\n",
    "plt.show()"
   ]
  },
  {
   "cell_type": "markdown",
   "metadata": {},
   "source": [
    "<h2 style='color: red; font-size: 2em'>Feature Importance</h2>"
   ]
  },
  {
   "cell_type": "code",
   "execution_count": 38,
   "metadata": {},
   "outputs": [],
   "source": [
    "# feature importance\n",
    "def feature_importance(features, df, threshold, *args, **kwargs):\n",
    "    '''args, kwargs pass True or include=True for additional features'''\n",
    "    important_feature = list()\n",
    "    cormat = df[features].corr()\n",
    "    print(cormat)\n",
    "    if kwargs.get('include') or args:\n",
    "        if kwargs.get('include') or args[0]:\n",
    "            include = ['qty', 'margin']\n",
    "            for expt in include:\n",
    "                important_feature.append(expt)\n",
    "    \n",
    "    for feat in features:\n",
    "        if cormat[f\"{feat}\"][-3] > threshold:\n",
    "            important_feature.append(feat)\n",
    "            \n",
    "    return important_feature\n"
   ]
  },
  {
   "cell_type": "code",
   "execution_count": 39,
   "metadata": {},
   "outputs": [
    {
     "data": {
      "text/html": [
       "<div>\n",
       "<style scoped>\n",
       "    .dataframe tbody tr th:only-of-type {\n",
       "        vertical-align: middle;\n",
       "    }\n",
       "\n",
       "    .dataframe tbody tr th {\n",
       "        vertical-align: top;\n",
       "    }\n",
       "\n",
       "    .dataframe thead th {\n",
       "        text-align: right;\n",
       "    }\n",
       "</style>\n",
       "<table border=\"1\" class=\"dataframe\">\n",
       "  <thead>\n",
       "    <tr style=\"text-align: right;\">\n",
       "      <th></th>\n",
       "      <th>gross_amount</th>\n",
       "      <th>margin</th>\n",
       "    </tr>\n",
       "    <tr>\n",
       "      <th>txn_date</th>\n",
       "      <th></th>\n",
       "      <th></th>\n",
       "    </tr>\n",
       "  </thead>\n",
       "  <tbody>\n",
       "    <tr>\n",
       "      <th>2020-05-17</th>\n",
       "      <td>140.00</td>\n",
       "      <td>140.0</td>\n",
       "    </tr>\n",
       "    <tr>\n",
       "      <th>2020-05-19</th>\n",
       "      <td>78.75</td>\n",
       "      <td>79.0</td>\n",
       "    </tr>\n",
       "    <tr>\n",
       "      <th>2020-04-26</th>\n",
       "      <td>225.00</td>\n",
       "      <td>225.0</td>\n",
       "    </tr>\n",
       "    <tr>\n",
       "      <th>2020-05-16</th>\n",
       "      <td>337.50</td>\n",
       "      <td>338.0</td>\n",
       "    </tr>\n",
       "    <tr>\n",
       "      <th>2020-05-17</th>\n",
       "      <td>140.00</td>\n",
       "      <td>140.0</td>\n",
       "    </tr>\n",
       "  </tbody>\n",
       "</table>\n",
       "</div>"
      ],
      "text/plain": [
       "            gross_amount  margin\n",
       "txn_date                        \n",
       "2020-05-17        140.00   140.0\n",
       "2020-05-19         78.75    79.0\n",
       "2020-04-26        225.00   225.0\n",
       "2020-05-16        337.50   338.0\n",
       "2020-05-17        140.00   140.0"
      ]
     },
     "execution_count": 39,
     "metadata": {},
     "output_type": "execute_result"
    }
   ],
   "source": [
    "imp_features = feature_importance(numeric_feats, df, 0.69, False)\n",
    "df_feats = df.copy()\n",
    "df_feats = df_feats[imp_features]\n",
    "df_feats.head()"
   ]
  },
  {
   "cell_type": "code",
   "execution_count": 12,
   "metadata": {},
   "outputs": [
    {
     "data": {
      "image/png": "[encoded data removed]",
      "text/plain": [
       "<Figure size 864x648 with 2 Axes>"
      ]
     },
     "metadata": {
      "needs_background": "light"
     },
     "output_type": "display_data"
    }
   ],
   "source": [
    "cormat = df_feats[imp_features].corr()\n",
    "plt.subplots(figsize=(12, 9))\n",
    "sns.heatmap(cormat, vmax=0.9, square=True, cmap='Greens')\n",
    "plt.show()"
   ]
  },
  {
   "cell_type": "markdown",
   "metadata": {},
   "source": [
    "<h2 style='color: red; font-size: 2em'>Check For Null Values</h2>"
   ]
  },
  {
   "cell_type": "code",
   "execution_count": 13,
   "metadata": {},
   "outputs": [],
   "source": [
    "def generate_null_values(df, labels, target, model):\n",
    "    data_with_null = df[labels].dropna()\n",
    "    data_without_null = data_with_null.dropna()\n",
    "    \n",
    "    # all features except target\n",
    "    train_data_x = data_without_null.drop(target, axis=1).values\n",
    "    train_data_y = data_without_null[f\"{target}\"].values.reshape(-1, 1)\n",
    "    \n",
    "    model.fit(X=train_data_x, y=train_data_y) # training the model\n",
    "\n",
    "    test_data = data_with_null.drop(target, axis=1) #\n",
    "    yhat = model.predict(test_data)\n",
    "        \n",
    "    newdf = pd.DataFrame(yhat, columns=[target])\n",
    "    # replace only the null values\n",
    "    data_with_null[target].fillna(newdf[target], inplace=True)\n",
    "    \n",
    "    return data_with_null[target]\n",
    "    \n",
    "    \n",
    "def handle_missing_value(df, features, *args, **kwargs):\n",
    "    linreg = LinearRegression()\n",
    "    \n",
    "    if kwargs.get('drop_column'):\n",
    "        return df.drop(features, axis=1)\n",
    "    \n",
    "    for feat in features:\n",
    "        null_count = df[feat].isnull().sum()\n",
    "        \n",
    "        if null_count > 1 and null_count < int(len(df[feat]) * 10 / 100): # full missing values with mean()\n",
    "            if df[feat].dtype == 'object':\n",
    "                df[feat] = df[feat].fillna(df[feat].mode())\n",
    "            else:\n",
    "                df[feat] = df[feat].fillna(df[feat].mean())\n",
    "            \n",
    "        elif null_count >= int(len(df[feat]) * 10 / 100) and null_count < int(len(df[feat]) * 20 / 100): # random generate missing values\n",
    "            technique = [df[feat].fillna(df[feat].mean()), df[feat].fillna(df[feat].median()), df[feat].fillna(df[feat].mode())]\n",
    "            index = np.random.choice([0, 1, 2], p=[0.34, 0.33, 0.33])\n",
    "            df[feat] = technique[index]\n",
    "            \n",
    "        elif null_count >= int(len(df[feat]) * 20 / 100) and null_count < int(len(df[feat]) * 40 / 100): # predict missing values if selected else random generate\n",
    "            if kwargs.get('use_model') or args:\n",
    "                if kwargs.get('use_model') or args[0]:\n",
    "                    generate_null = generate_null_values(df, features, feat, linreg)\n",
    "                    df[feat] = generate_null[~generate_null.index.duplicated()]\n",
    "            else:\n",
    "                technique = [df[feat].fillna(df[feat].mean()), df[feat].fillna(df[feat].median()), df[feat].fillna(df[feat].mode())]\n",
    "                index = np.random.choice([0, 1, 2], p=[0.34, 0.33, 0.33])\n",
    "                df[feat] = technique[index]\n",
    "        \n",
    "        elif null_count >= int(len(df[feat]) * 40 / 100): # worst case senario\n",
    "            df = df.drop(feat, axis=1)\n",
    "    \n",
    "    return df\n"
   ]
  },
  {
   "cell_type": "code",
   "execution_count": 14,
   "metadata": {},
   "outputs": [
    {
     "data": {
      "text/plain": [
       "qty                     0\n",
       "margin                  0\n",
       "unit_price              0\n",
       "cost                    0\n",
       "net_amount              0\n",
       "net_cost                0\n",
       "discount_amount         0\n",
       "sub_total               0\n",
       "tax_inclusive_amount    0\n",
       "gross_amount            0\n",
       "dtype: int64"
      ]
     },
     "execution_count": 14,
     "metadata": {},
     "output_type": "execute_result"
    }
   ],
   "source": [
    "df_feats = handle_missing_value(df_feats, imp_features, True)\n",
    "df_feats.isnull().sum()"
   ]
  },
  {
   "cell_type": "markdown",
   "metadata": {},
   "source": [
    "<h2 style='color: red; font-size: 2em'>Target Engineering</h2>"
   ]
  },
  {
   "cell_type": "code",
   "execution_count": 15,
   "metadata": {},
   "outputs": [],
   "source": [
    "# handle outliers\n",
    "def handleOutliers(df, threshold):    \n",
    "    z = np.abs(zscore(df))\n",
    "    \n",
    "    return df[(z < threshold).all(axis=1)]"
   ]
  },
  {
   "cell_type": "code",
   "execution_count": 16,
   "metadata": {},
   "outputs": [
    {
     "name": "stdout",
     "output_type": "stream",
     "text": [
      "(21362, 10)\n"
     ]
    },
    {
     "data": {
      "text/html": [
       "<div>\n",
       "<style scoped>\n",
       "    .dataframe tbody tr th:only-of-type {\n",
       "        vertical-align: middle;\n",
       "    }\n",
       "\n",
       "    .dataframe tbody tr th {\n",
       "        vertical-align: top;\n",
       "    }\n",
       "\n",
       "    .dataframe thead th {\n",
       "        text-align: right;\n",
       "    }\n",
       "</style>\n",
       "<table border=\"1\" class=\"dataframe\">\n",
       "  <thead>\n",
       "    <tr style=\"text-align: right;\">\n",
       "      <th></th>\n",
       "      <th>qty</th>\n",
       "      <th>margin</th>\n",
       "      <th>unit_price</th>\n",
       "      <th>cost</th>\n",
       "      <th>net_amount</th>\n",
       "      <th>net_cost</th>\n",
       "      <th>discount_amount</th>\n",
       "      <th>sub_total</th>\n",
       "      <th>tax_inclusive_amount</th>\n",
       "      <th>gross_amount</th>\n",
       "    </tr>\n",
       "    <tr>\n",
       "      <th>date</th>\n",
       "      <th></th>\n",
       "      <th></th>\n",
       "      <th></th>\n",
       "      <th></th>\n",
       "      <th></th>\n",
       "      <th></th>\n",
       "      <th></th>\n",
       "      <th></th>\n",
       "      <th></th>\n",
       "      <th></th>\n",
       "    </tr>\n",
       "  </thead>\n",
       "  <tbody>\n",
       "    <tr>\n",
       "      <th>2019-11-10</th>\n",
       "      <td>8.0</td>\n",
       "      <td>-0.24</td>\n",
       "      <td>0.99</td>\n",
       "      <td>0.97</td>\n",
       "      <td>7.92</td>\n",
       "      <td>7.76</td>\n",
       "      <td>0.40</td>\n",
       "      <td>7.52</td>\n",
       "      <td>7.92</td>\n",
       "      <td>7.52</td>\n",
       "    </tr>\n",
       "    <tr>\n",
       "      <th>2019-12-06</th>\n",
       "      <td>2.0</td>\n",
       "      <td>-0.02</td>\n",
       "      <td>0.36</td>\n",
       "      <td>0.34</td>\n",
       "      <td>0.72</td>\n",
       "      <td>0.68</td>\n",
       "      <td>0.06</td>\n",
       "      <td>0.66</td>\n",
       "      <td>0.72</td>\n",
       "      <td>0.66</td>\n",
       "    </tr>\n",
       "    <tr>\n",
       "      <th>2019-12-23</th>\n",
       "      <td>10.0</td>\n",
       "      <td>0.17</td>\n",
       "      <td>0.10</td>\n",
       "      <td>0.08</td>\n",
       "      <td>1.00</td>\n",
       "      <td>0.80</td>\n",
       "      <td>0.03</td>\n",
       "      <td>0.97</td>\n",
       "      <td>1.00</td>\n",
       "      <td>0.97</td>\n",
       "    </tr>\n",
       "    <tr>\n",
       "      <th>2019-01-01</th>\n",
       "      <td>10.0</td>\n",
       "      <td>0.20</td>\n",
       "      <td>0.22</td>\n",
       "      <td>0.20</td>\n",
       "      <td>2.20</td>\n",
       "      <td>2.00</td>\n",
       "      <td>0.00</td>\n",
       "      <td>2.20</td>\n",
       "      <td>2.20</td>\n",
       "      <td>2.20</td>\n",
       "    </tr>\n",
       "    <tr>\n",
       "      <th>2019-01-01</th>\n",
       "      <td>8.0</td>\n",
       "      <td>0.13</td>\n",
       "      <td>0.18</td>\n",
       "      <td>0.16</td>\n",
       "      <td>1.44</td>\n",
       "      <td>1.28</td>\n",
       "      <td>0.03</td>\n",
       "      <td>1.41</td>\n",
       "      <td>1.44</td>\n",
       "      <td>1.41</td>\n",
       "    </tr>\n",
       "  </tbody>\n",
       "</table>\n",
       "</div>"
      ],
      "text/plain": [
       "             qty  margin  unit_price  cost  net_amount  net_cost  \\\n",
       "date                                                               \n",
       "2019-11-10   8.0   -0.24        0.99  0.97        7.92      7.76   \n",
       "2019-12-06   2.0   -0.02        0.36  0.34        0.72      0.68   \n",
       "2019-12-23  10.0    0.17        0.10  0.08        1.00      0.80   \n",
       "2019-01-01  10.0    0.20        0.22  0.20        2.20      2.00   \n",
       "2019-01-01   8.0    0.13        0.18  0.16        1.44      1.28   \n",
       "\n",
       "            discount_amount  sub_total  tax_inclusive_amount  gross_amount  \n",
       "date                                                                        \n",
       "2019-11-10             0.40       7.52                  7.92          7.52  \n",
       "2019-12-06             0.06       0.66                  0.72          0.66  \n",
       "2019-12-23             0.03       0.97                  1.00          0.97  \n",
       "2019-01-01             0.00       2.20                  2.20          2.20  \n",
       "2019-01-01             0.03       1.41                  1.44          1.41  "
      ]
     },
     "execution_count": 16,
     "metadata": {},
     "output_type": "execute_result"
    }
   ],
   "source": [
    "df_feats_outliers = handleOutliers(df_feats, 3)\n",
    "print(df_feats_outliers.shape)\n",
    "df_feats_outliers.head()"
   ]
  },
  {
   "cell_type": "code",
   "execution_count": 17,
   "metadata": {},
   "outputs": [
    {
     "data": {
      "image/png": "[encoded data removed]",
      "text/plain": [
       "<Figure size 432x288 with 1 Axes>"
      ]
     },
     "metadata": {
      "needs_background": "light"
     },
     "output_type": "display_data"
    },
    {
     "data": {
      "image/png": "[encoded data removed]",
      "text/plain": [
       "<Figure size 432x288 with 1 Axes>"
      ]
     },
     "metadata": {
      "needs_background": "light"
     },
     "output_type": "display_data"
    }
   ],
   "source": [
    "sns.distplot(df_feats_outliers['gross_amount'])\n",
    "plt.show()\n",
    "plt.hist(df_feats_outliers['gross_amount'])\n",
    "plt.show()"
   ]
  },
  {
   "cell_type": "code",
   "execution_count": 18,
   "metadata": {},
   "outputs": [],
   "source": [
    "LAMBDA = 2.5 # learning rate for scipy stats.\n",
    "\n",
    "def normalize_value(df, features, norm_type, boxcox):\n",
    "    return {\n",
    "        \"log1p_skew\": np.log1p(df[features]), # inverse np.exp\n",
    "        \"sqrt_skew\": np.sqrt(df[features]), # inverse x**-1/2\n",
    "#         \"stats_skew\": boxcox(df[features], LAMBDA) # inverse inv_boxcox(state, 2.5)\n",
    "    }.get(norm_type)\n",
    "\n",
    "\n",
    "def inverser_normalize_value(df, features, norm_type, *args, **kwargs):\n",
    "    return {\n",
    "        \"log1p_skew\": np.exp(df[features]), # inverse np.exp\n",
    "        \"sqrt_skew\": df[features] * df[features], # inverse x**-1/2\n",
    "#         \"stats_skew\": inv_boxcox(df[features], kwargs.get(\"lambda\")) # inverse inv_boxcox(state, 2.5)\n",
    "    }.get(norm_type)"
   ]
  },
  {
   "cell_type": "code",
   "execution_count": 19,
   "metadata": {},
   "outputs": [],
   "source": [
    "# data normalization for\n",
    "\n",
    "def normalize_data(df, features, *arg, **kwargs):\n",
    "    new_df = pd.DataFrame(columns=['features', 'log1p_skew', 'sqrt_skew']) #, 'stats_skew'\n",
    "    \n",
    "    for feat in features:\n",
    "        try:\n",
    "            sqrt = np.sqrt(df[feat])\n",
    "            log1p = np.log1p(df[feat])\n",
    "#             stats = pd.Series(boxcox(df[feat], LAMBDA))\n",
    "        \n",
    "        except ValueError:\n",
    "#             stats = np.NaN\n",
    "            pass\n",
    "    \n",
    "        new_df = new_df.append({'features': feat, 'log1p_skew': log1p.skew(), 'log1p_': log1p.isna().sum(), 'sqrt_skew': sqrt.skew(), 'sqrt_': sqrt.isna().sum()}, ignore_index=True)\n",
    "#     'stats_skew': stats.skew(), 'stats_': stats.isna().sum(),\n",
    "\n",
    "    new_df = new_df.groupby(['features']).sum()\n",
    "    if new_df['log1p_'].values.sum() > 0:\n",
    "        new_df = new_df.drop(['log1p_', 'log1p_skew'], axis=1)\n",
    "    if new_df['sqrt_'].values.sum() > 0:\n",
    "        new_df = new_df.drop(['sqrt_', 'sqrt_skew'], axis=1)\n",
    "#     if new_df['stats_'].values.sum() > 0:\n",
    "#         new_df = new_df.drop(['stats_', 'stats_skew'], axis=1)\n",
    "        \n",
    "    if new_df.empty:\n",
    "        return None, df\n",
    "    print(new_df)\n",
    "    arg_norm_score_obj = list()\n",
    "    for i in range(new_df.shape[1]):\n",
    "        arg_norm_score_obj.append({\"name\": f\"{new_df.columns[i]}\", \"score\": new_df[f\"{new_df.columns[i]}\"].sum()})\n",
    "        \n",
    "    NORM_TYPE = min(i.get('name') for i in arg_norm_score_obj if i.get('score') > 0) # global variable ->>\n",
    "    \n",
    "    norm_val = normalize_value(df, features, NORM_TYPE, boxcox)\n",
    "    return NORM_TYPE, norm_val\n"
   ]
  },
  {
   "cell_type": "code",
   "execution_count": 20,
   "metadata": {},
   "outputs": [
    {
     "name": "stdout",
     "output_type": "stream",
     "text": [
      "None\n"
     ]
    },
    {
     "data": {
      "text/html": [
       "<div>\n",
       "<style scoped>\n",
       "    .dataframe tbody tr th:only-of-type {\n",
       "        vertical-align: middle;\n",
       "    }\n",
       "\n",
       "    .dataframe tbody tr th {\n",
       "        vertical-align: top;\n",
       "    }\n",
       "\n",
       "    .dataframe thead th {\n",
       "        text-align: right;\n",
       "    }\n",
       "</style>\n",
       "<table border=\"1\" class=\"dataframe\">\n",
       "  <thead>\n",
       "    <tr style=\"text-align: right;\">\n",
       "      <th></th>\n",
       "      <th>qty</th>\n",
       "      <th>margin</th>\n",
       "      <th>unit_price</th>\n",
       "      <th>cost</th>\n",
       "      <th>net_amount</th>\n",
       "      <th>net_cost</th>\n",
       "      <th>discount_amount</th>\n",
       "      <th>sub_total</th>\n",
       "      <th>tax_inclusive_amount</th>\n",
       "      <th>gross_amount</th>\n",
       "    </tr>\n",
       "    <tr>\n",
       "      <th>date</th>\n",
       "      <th></th>\n",
       "      <th></th>\n",
       "      <th></th>\n",
       "      <th></th>\n",
       "      <th></th>\n",
       "      <th></th>\n",
       "      <th></th>\n",
       "      <th></th>\n",
       "      <th></th>\n",
       "      <th></th>\n",
       "    </tr>\n",
       "  </thead>\n",
       "  <tbody>\n",
       "    <tr>\n",
       "      <th>2019-11-10</th>\n",
       "      <td>8.0</td>\n",
       "      <td>-0.24</td>\n",
       "      <td>0.99</td>\n",
       "      <td>0.97</td>\n",
       "      <td>7.92</td>\n",
       "      <td>7.76</td>\n",
       "      <td>0.40</td>\n",
       "      <td>7.52</td>\n",
       "      <td>7.92</td>\n",
       "      <td>7.52</td>\n",
       "    </tr>\n",
       "    <tr>\n",
       "      <th>2019-12-06</th>\n",
       "      <td>2.0</td>\n",
       "      <td>-0.02</td>\n",
       "      <td>0.36</td>\n",
       "      <td>0.34</td>\n",
       "      <td>0.72</td>\n",
       "      <td>0.68</td>\n",
       "      <td>0.06</td>\n",
       "      <td>0.66</td>\n",
       "      <td>0.72</td>\n",
       "      <td>0.66</td>\n",
       "    </tr>\n",
       "    <tr>\n",
       "      <th>2019-12-23</th>\n",
       "      <td>10.0</td>\n",
       "      <td>0.17</td>\n",
       "      <td>0.10</td>\n",
       "      <td>0.08</td>\n",
       "      <td>1.00</td>\n",
       "      <td>0.80</td>\n",
       "      <td>0.03</td>\n",
       "      <td>0.97</td>\n",
       "      <td>1.00</td>\n",
       "      <td>0.97</td>\n",
       "    </tr>\n",
       "    <tr>\n",
       "      <th>2019-01-01</th>\n",
       "      <td>10.0</td>\n",
       "      <td>0.20</td>\n",
       "      <td>0.22</td>\n",
       "      <td>0.20</td>\n",
       "      <td>2.20</td>\n",
       "      <td>2.00</td>\n",
       "      <td>0.00</td>\n",
       "      <td>2.20</td>\n",
       "      <td>2.20</td>\n",
       "      <td>2.20</td>\n",
       "    </tr>\n",
       "    <tr>\n",
       "      <th>2019-01-01</th>\n",
       "      <td>8.0</td>\n",
       "      <td>0.13</td>\n",
       "      <td>0.18</td>\n",
       "      <td>0.16</td>\n",
       "      <td>1.44</td>\n",
       "      <td>1.28</td>\n",
       "      <td>0.03</td>\n",
       "      <td>1.41</td>\n",
       "      <td>1.44</td>\n",
       "      <td>1.41</td>\n",
       "    </tr>\n",
       "  </tbody>\n",
       "</table>\n",
       "</div>"
      ],
      "text/plain": [
       "             qty  margin  unit_price  cost  net_amount  net_cost  \\\n",
       "date                                                               \n",
       "2019-11-10   8.0   -0.24        0.99  0.97        7.92      7.76   \n",
       "2019-12-06   2.0   -0.02        0.36  0.34        0.72      0.68   \n",
       "2019-12-23  10.0    0.17        0.10  0.08        1.00      0.80   \n",
       "2019-01-01  10.0    0.20        0.22  0.20        2.20      2.00   \n",
       "2019-01-01   8.0    0.13        0.18  0.16        1.44      1.28   \n",
       "\n",
       "            discount_amount  sub_total  tax_inclusive_amount  gross_amount  \n",
       "date                                                                        \n",
       "2019-11-10             0.40       7.52                  7.92          7.52  \n",
       "2019-12-06             0.06       0.66                  0.72          0.66  \n",
       "2019-12-23             0.03       0.97                  1.00          0.97  \n",
       "2019-01-01             0.00       2.20                  2.20          2.20  \n",
       "2019-01-01             0.03       1.41                  1.44          1.41  "
      ]
     },
     "execution_count": 20,
     "metadata": {},
     "output_type": "execute_result"
    }
   ],
   "source": [
    "NORM_TYPE, df_feats_norm = normalize_data(df_feats_outliers, ['gross_amount'])\n",
    "print(NORM_TYPE)\n",
    "df_feats_norm.head()"
   ]
  },
  {
   "cell_type": "code",
   "execution_count": 21,
   "metadata": {},
   "outputs": [],
   "source": [
    "# house_price = pd.read_csv('data/train.csv')\n",
    "# print(house_price.shape)\n",
    "# house_price = handle_missing_value(house_price, house_price.columns, True)\n",
    "# house_price_outliers = handleOutliers(house_price[house_price.dtypes[house_price.dtypes != \"object\"].index], 3)\n",
    "# NORM_TYPE_1, house_pricing_norm = normalize_data(house_price_outliers, house_price_outliers.columns) # global variable for NORM_TYPE ->>\n",
    "# print(NORM_TYPE_1)\n",
    "# house_pricing_norm.head()"
   ]
  },
  {
   "cell_type": "code",
   "execution_count": 68,
   "metadata": {},
   "outputs": [],
   "source": [
    "# horizontally stack columns\n",
    "df_feats_norm = df_feats_norm.set_index(df_feats_norm.index).resample(\"D\")[df_feats_norm.columns].sum()\n",
    "series = df_feats_norm.values"
   ]
  },
  {
   "cell_type": "code",
   "execution_count": 69,
   "metadata": {},
   "outputs": [],
   "source": [
    "train, test = series[:-30], series[-30:]"
   ]
  },
  {
   "cell_type": "code",
   "execution_count": 70,
   "metadata": {},
   "outputs": [],
   "source": [
    "# make a forecast\n",
    "def forecast(model, history, n_input):\n",
    "    # flatten data\n",
    "    data = np.array(history)\n",
    "#     data = data.reshape((data.shape[0]*data.shape[1], data.shape[2]))\n",
    "    # retrieve last observationmetricsor input data\n",
    "    input_x = data[-n_input:, :]\n",
    "    # reshape into [1, n_input, n]\n",
    "    input_x = input_x.reshape((1, input_x.shape[0], input_x.shape[1]))\n",
    "    # forecast the next week\n",
    "    yhat = model.predict(input_x, verbose=0)\n",
    "    # we only want the vector forecast\n",
    "    yhat = yhat[0]\n",
    "    return yhat\n",
    " \n",
    "# evaluate a single model\n",
    "def evaluate_model(train, test, n_input):\n",
    "    # history is a list of weekly data\n",
    "    history = [x for x in train]\n",
    "    # walk-forward validation over each week\n",
    "    predictions = list()\n",
    "    for i in range(len(test)):\n",
    "        # predict the week\n",
    "        yhat_sequence = forecast(model, history, n_input)\n",
    "        # store the predictions\n",
    "        predictions.append(yhat_sequence)\n",
    "        # get real observation and add to history for predicting the next week\n",
    "        history.append(test[i, :])\n",
    "    # evaluate predictions days for each week\n",
    "    predictions = np.array(predictions)\n",
    "    \n",
    "    return predictions"
   ]
  },
  {
   "cell_type": "code",
   "execution_count": 71,
   "metadata": {},
   "outputs": [],
   "source": [
    "def to_supervised(dataset, n_input, n_out):\n",
    "    # flatten data\n",
    "    X, y = list(), list()\n",
    "\n",
    "    in_start = 0\n",
    "    # step over the entire history one time step at a time\n",
    "    for _ in range(len(dataset)):\n",
    "        # define the end of the input sequence\n",
    "        in_end = in_start + n_input\n",
    "        out_end = in_end + n_out\n",
    "\n",
    "        if out_end <= len(dataset):\n",
    "            X.append(dataset[in_start: in_end, :])\n",
    "            y.append(dataset[in_end: out_end, -1])\n",
    "\n",
    "        in_start += 1\n",
    "\n",
    "    return np.array(X), np.array(y)"
   ]
  },
  {
   "cell_type": "code",
   "execution_count": 72,
   "metadata": {},
   "outputs": [
    {
     "name": "stdout",
     "output_type": "stream",
     "text": [
      "(330, 6, 10) (330, 1, 1)\n"
     ]
    }
   ],
   "source": [
    "train_x, train_y = to_supervised(train, 6, 1)\n",
    "train_y = train_y.reshape(-1, 1)\n",
    "train_y = train_y.reshape((train_y.shape[0], train_y.shape[1], 1))\n",
    "\n",
    "print(train_x.shape, train_y.shape)"
   ]
  },
  {
   "cell_type": "code",
   "execution_count": 73,
   "metadata": {
    "scrolled": true
   },
   "outputs": [
    {
     "name": "stdout",
     "output_type": "stream",
     "text": [
      "Epoch 1/200\n",
      "330/330 [==============================] - 8s 23ms/step - loss: 17015.2471\n",
      "Epoch 2/200\n",
      "330/330 [==============================] - 1s 2ms/step - loss: 1525.5177\n",
      "Epoch 3/200\n",
      "330/330 [==============================] - 0s 1ms/step - loss: 1035.6950\n",
      "Epoch 4/200\n",
      "330/330 [==============================] - 0s 850us/step - loss: 989.9234\n",
      "Epoch 5/200\n",
      "330/330 [==============================] - 0s 820us/step - loss: 986.4544\n",
      "Epoch 6/200\n",
      "330/330 [==============================] - 0s 897us/step - loss: 993.7871\n",
      "Epoch 7/200\n",
      "330/330 [==============================] - 0s 1ms/step - loss: 1011.8251\n",
      "Epoch 8/200\n",
      "330/330 [==============================] - 0s 1ms/step - loss: 1110.2428\n",
      "Epoch 9/200\n",
      "330/330 [==============================] - 0s 1ms/step - loss: 1000.1954\n",
      "Epoch 10/200\n",
      "330/330 [==============================] - 0s 1ms/step - loss: 977.8160\n",
      "Epoch 11/200\n",
      "330/330 [==============================] - 0s 1ms/step - loss: 958.0846\n",
      "Epoch 12/200\n",
      "330/330 [==============================] - 0s 1ms/step - loss: 941.2602\n",
      "Epoch 13/200\n",
      "330/330 [==============================] - 0s 1ms/step - loss: 968.3211\n",
      "Epoch 14/200\n",
      "330/330 [==============================] - 0s 1ms/step - loss: 975.0561\n",
      "Epoch 15/200\n",
      "330/330 [==============================] - 0s 1ms/step - loss: 955.1391\n",
      "Epoch 16/200\n",
      "330/330 [==============================] - 0s 1ms/step - loss: 980.4763\n",
      "Epoch 17/200\n",
      "330/330 [==============================] - 1s 2ms/step - loss: 965.0181\n",
      "Epoch 18/200\n",
      "330/330 [==============================] - 1s 2ms/step - loss: 1022.0013\n",
      "Epoch 19/200\n",
      "330/330 [==============================] - 1s 2ms/step - loss: 987.4345\n",
      "Epoch 20/200\n",
      "330/330 [==============================] - 1s 2ms/step - loss: 984.4853\n",
      "Epoch 21/200\n",
      "330/330 [==============================] - 0s 1ms/step - loss: 952.0251\n",
      "Epoch 22/200\n",
      "330/330 [==============================] - 0s 1ms/step - loss: 943.1141\n",
      "Epoch 23/200\n",
      "330/330 [==============================] - 0s 1ms/step - loss: 940.2348\n",
      "Epoch 24/200\n",
      "330/330 [==============================] - 1s 2ms/step - loss: 935.1359\n",
      "Epoch 25/200\n",
      "330/330 [==============================] - 0s 1ms/step - loss: 937.7549\n",
      "Epoch 26/200\n",
      "330/330 [==============================] - 0s 1ms/step - loss: 930.4519\n",
      "Epoch 27/200\n",
      "330/330 [==============================] - 0s 1ms/step - loss: 1016.8624\n",
      "Epoch 28/200\n",
      "330/330 [==============================] - 0s 1ms/step - loss: 969.3289\n",
      "Epoch 29/200\n",
      "330/330 [==============================] - 0s 1ms/step - loss: 916.0134\n",
      "Epoch 30/200\n",
      "330/330 [==============================] - 0s 1ms/step - loss: 917.0934\n",
      "Epoch 31/200\n",
      "330/330 [==============================] - 0s 1ms/step - loss: 949.5317\n",
      "Epoch 32/200\n",
      "330/330 [==============================] - 0s 1ms/step - loss: 932.7289\n",
      "Epoch 33/200\n",
      "330/330 [==============================] - 1s 2ms/step - loss: 949.1923\n",
      "Epoch 34/200\n",
      "330/330 [==============================] - 0s 1ms/step - loss: 939.2858\n",
      "Epoch 35/200\n",
      "330/330 [==============================] - 1s 2ms/step - loss: 988.9939\n",
      "Epoch 36/200\n",
      "330/330 [==============================] - 0s 1ms/step - loss: 1036.2132\n",
      "Epoch 37/200\n",
      "330/330 [==============================] - 0s 1ms/step - loss: 980.9973\n",
      "Epoch 38/200\n",
      "330/330 [==============================] - 0s 1ms/step - loss: 961.5764\n",
      "Epoch 39/200\n",
      "330/330 [==============================] - 1s 2ms/step - loss: 982.3482\n",
      "Epoch 40/200\n",
      "330/330 [==============================] - 1s 2ms/step - loss: 961.6313\n",
      "Epoch 41/200\n",
      "330/330 [==============================] - 1s 2ms/step - loss: 973.7656\n",
      "Epoch 42/200\n",
      "330/330 [==============================] - 0s 1ms/step - loss: 999.2462\n",
      "Epoch 43/200\n",
      "330/330 [==============================] - 0s 1ms/step - loss: 916.3007\n",
      "Epoch 44/200\n",
      "330/330 [==============================] - 1s 3ms/step - loss: 945.6282\n",
      "Epoch 45/200\n",
      "330/330 [==============================] - 1s 2ms/step - loss: 995.1794\n",
      "Epoch 46/200\n",
      "330/330 [==============================] - 1s 2ms/step - loss: 967.9194\n",
      "Epoch 47/200\n",
      "330/330 [==============================] - 1s 2ms/step - loss: 914.9739\n",
      "Epoch 48/200\n",
      "330/330 [==============================] - 0s 1ms/step - loss: 906.2169\n",
      "Epoch 49/200\n",
      "330/330 [==============================] - 0s 1ms/step - loss: 905.3750\n",
      "Epoch 50/200\n",
      "330/330 [==============================] - 0s 1ms/step - loss: 904.9196\n",
      "Epoch 51/200\n",
      "330/330 [==============================] - 1s 2ms/step - loss: 997.3837\n",
      "Epoch 52/200\n",
      "330/330 [==============================] - 1s 2ms/step - loss: 904.9138\n",
      "Epoch 53/200\n",
      "330/330 [==============================] - 0s 1ms/step - loss: 897.8823\n",
      "Epoch 54/200\n",
      "330/330 [==============================] - 1s 2ms/step - loss: 909.4440\n",
      "Epoch 55/200\n",
      "330/330 [==============================] - 0s 1ms/step - loss: 914.7938\n",
      "Epoch 56/200\n",
      "330/330 [==============================] - 1s 2ms/step - loss: 915.2699\n",
      "Epoch 57/200\n",
      "330/330 [==============================] - 1s 2ms/step - loss: 894.6424\n",
      "Epoch 58/200\n",
      "330/330 [==============================] - 1s 3ms/step - loss: 916.8039\n",
      "Epoch 59/200\n",
      "330/330 [==============================] - 0s 1ms/step - loss: 944.5003\n",
      "Epoch 60/200\n",
      "330/330 [==============================] - 0s 1ms/step - loss: 897.7538\n",
      "Epoch 61/200\n",
      "330/330 [==============================] - 0s 1ms/step - loss: 924.1269\n",
      "Epoch 62/200\n",
      "330/330 [==============================] - 0s 1ms/step - loss: 916.0935\n",
      "Epoch 63/200\n",
      "330/330 [==============================] - 1s 2ms/step - loss: 940.8692\n",
      "Epoch 64/200\n",
      "330/330 [==============================] - 1s 2ms/step - loss: 928.8788\n",
      "Epoch 65/200\n",
      "330/330 [==============================] - 0s 1ms/step - loss: 937.3366\n",
      "Epoch 66/200\n",
      "330/330 [==============================] - 0s 1ms/step - loss: 940.9430\n",
      "Epoch 67/200\n",
      "330/330 [==============================] - 0s 1ms/step - loss: 912.9442\n",
      "Epoch 68/200\n",
      "330/330 [==============================] - 0s 1ms/step - loss: 926.3475\n",
      "Epoch 69/200\n",
      "330/330 [==============================] - 0s 1ms/step - loss: 903.8159\n",
      "Epoch 70/200\n",
      "330/330 [==============================] - 0s 1ms/step - loss: 938.0973\n",
      "Epoch 71/200\n",
      "330/330 [==============================] - 0s 1ms/step - loss: 917.6746\n",
      "Epoch 72/200\n",
      "330/330 [==============================] - 0s 1ms/step - loss: 905.8654\n",
      "Epoch 73/200\n",
      "330/330 [==============================] - 0s 1ms/step - loss: 894.0682\n",
      "Epoch 74/200\n",
      "330/330 [==============================] - 1s 2ms/step - loss: 926.1544\n",
      "Epoch 75/200\n",
      "330/330 [==============================] - 1s 2ms/step - loss: 931.1927\n",
      "Epoch 76/200\n",
      "330/330 [==============================] - 0s 1ms/step - loss: 928.6514\n",
      "Epoch 77/200\n",
      "330/330 [==============================] - 0s 1ms/step - loss: 898.4305\n",
      "Epoch 78/200\n",
      "330/330 [==============================] - 0s 1ms/step - loss: 927.8522\n",
      "Epoch 79/200\n",
      "330/330 [==============================] - 1s 2ms/step - loss: 897.8192\n",
      "Epoch 80/200\n",
      "330/330 [==============================] - 1s 2ms/step - loss: 890.8306\n",
      "Epoch 81/200\n",
      "330/330 [==============================] - 0s 1ms/step - loss: 901.3809\n",
      "Epoch 82/200\n",
      "330/330 [==============================] - 0s 1ms/step - loss: 892.3613\n",
      "Epoch 83/200\n",
      "330/330 [==============================] - 0s 1ms/step - loss: 915.1426\n",
      "Epoch 84/200\n",
      "330/330 [==============================] - 0s 1ms/step - loss: 919.7993\n",
      "Epoch 85/200\n",
      "330/330 [==============================] - 0s 1ms/step - loss: 872.7055\n",
      "Epoch 86/200\n",
      "330/330 [==============================] - 0s 1ms/step - loss: 909.4142\n",
      "Epoch 87/200\n",
      "330/330 [==============================] - 0s 1ms/step - loss: 876.6469\n",
      "Epoch 88/200\n",
      "330/330 [==============================] - 0s 1ms/step - loss: 892.2777\n",
      "Epoch 89/200\n",
      "330/330 [==============================] - 1s 2ms/step - loss: 910.4128\n",
      "Epoch 90/200\n",
      "330/330 [==============================] - 0s 1ms/step - loss: 904.7155\n",
      "Epoch 91/200\n",
      "330/330 [==============================] - 0s 1ms/step - loss: 895.1390\n",
      "Epoch 92/200\n",
      "330/330 [==============================] - 0s 1ms/step - loss: 884.5202\n",
      "Epoch 93/200\n",
      "330/330 [==============================] - 0s 1ms/step - loss: 899.9531\n",
      "Epoch 94/200\n",
      "330/330 [==============================] - 0s 1ms/step - loss: 880.2832\n",
      "Epoch 95/200\n",
      "330/330 [==============================] - 0s 1ms/step - loss: 889.3767\n",
      "Epoch 96/200\n",
      "330/330 [==============================] - 0s 1ms/step - loss: 916.9818\n",
      "Epoch 97/200\n",
      "330/330 [==============================] - 1s 2ms/step - loss: 901.0479\n",
      "Epoch 98/200\n",
      "330/330 [==============================] - 1s 2ms/step - loss: 876.3856\n",
      "Epoch 99/200\n",
      "330/330 [==============================] - 0s 1ms/step - loss: 859.4292\n",
      "Epoch 100/200\n",
      "330/330 [==============================] - 0s 1ms/step - loss: 869.8149\n",
      "Epoch 101/200\n",
      "330/330 [==============================] - 0s 1ms/step - loss: 922.1717\n",
      "Epoch 102/200\n",
      "330/330 [==============================] - 1s 2ms/step - loss: 913.2588\n",
      "Epoch 103/200\n",
      "330/330 [==============================] - 0s 1ms/step - loss: 894.2928\n",
      "Epoch 104/200\n",
      "330/330 [==============================] - 1s 2ms/step - loss: 901.9463\n",
      "Epoch 105/200\n",
      "330/330 [==============================] - 0s 1ms/step - loss: 885.7169\n",
      "Epoch 106/200\n",
      "330/330 [==============================] - 0s 1ms/step - loss: 902.9897\n",
      "Epoch 107/200\n",
      "330/330 [==============================] - 0s 1ms/step - loss: 893.4668\n",
      "Epoch 108/200\n",
      "330/330 [==============================] - 0s 1ms/step - loss: 898.1815\n",
      "Epoch 109/200\n",
      "330/330 [==============================] - 1s 2ms/step - loss: 905.8529\n",
      "Epoch 110/200\n",
      "330/330 [==============================] - 1s 3ms/step - loss: 920.3091\n",
      "Epoch 111/200\n",
      "330/330 [==============================] - 1s 2ms/step - loss: 911.2893\n",
      "Epoch 112/200\n",
      "330/330 [==============================] - 1s 2ms/step - loss: 924.1040\n",
      "Epoch 113/200\n",
      "330/330 [==============================] - 1s 2ms/step - loss: 924.0336\n",
      "Epoch 114/200\n",
      "330/330 [==============================] - 0s 1ms/step - loss: 910.8084\n",
      "Epoch 115/200\n",
      "330/330 [==============================] - 1s 2ms/step - loss: 913.4769\n",
      "Epoch 116/200\n",
      "330/330 [==============================] - 1s 3ms/step - loss: 925.0916\n",
      "Epoch 117/200\n",
      "330/330 [==============================] - 1s 2ms/step - loss: 936.6673\n",
      "Epoch 118/200\n",
      "330/330 [==============================] - 0s 1ms/step - loss: 905.8980\n",
      "Epoch 119/200\n",
      "330/330 [==============================] - 0s 1ms/step - loss: 913.0771\n",
      "Epoch 120/200\n",
      "330/330 [==============================] - 1s 2ms/step - loss: 911.0557\n",
      "Epoch 121/200\n",
      "330/330 [==============================] - 0s 1ms/step - loss: 970.8452\n",
      "Epoch 122/200\n",
      "330/330 [==============================] - 0s 1ms/step - loss: 937.3572\n",
      "Epoch 123/200\n",
      "330/330 [==============================] - 0s 1ms/step - loss: 922.2106\n",
      "Epoch 124/200\n",
      "330/330 [==============================] - 0s 1ms/step - loss: 901.9280\n",
      "Epoch 125/200\n",
      "330/330 [==============================] - 0s 1ms/step - loss: 907.3399\n",
      "Epoch 126/200\n",
      "330/330 [==============================] - 0s 1ms/step - loss: 910.2458\n",
      "Epoch 127/200\n",
      "330/330 [==============================] - 0s 1ms/step - loss: 908.2402\n",
      "Epoch 128/200\n",
      "330/330 [==============================] - 0s 1ms/step - loss: 912.0989\n",
      "Epoch 129/200\n",
      "330/330 [==============================] - 0s 1ms/step - loss: 890.5207\n",
      "Epoch 130/200\n",
      "330/330 [==============================] - 0s 1ms/step - loss: 897.5725\n",
      "Epoch 131/200\n",
      "330/330 [==============================] - 0s 1ms/step - loss: 923.1503\n",
      "Epoch 132/200\n",
      "330/330 [==============================] - 0s 1ms/step - loss: 906.5920\n",
      "Epoch 133/200\n",
      "330/330 [==============================] - 0s 1ms/step - loss: 898.2167\n",
      "Epoch 134/200\n",
      "330/330 [==============================] - 0s 1ms/step - loss: 938.5143\n",
      "Epoch 135/200\n",
      "330/330 [==============================] - 0s 1ms/step - loss: 957.7586\n",
      "Epoch 136/200\n",
      "330/330 [==============================] - 1s 2ms/step - loss: 925.0827\n",
      "Epoch 137/200\n",
      "330/330 [==============================] - 0s 1ms/step - loss: 911.1665\n",
      "Epoch 138/200\n",
      "330/330 [==============================] - 0s 1ms/step - loss: 902.4999\n",
      "Epoch 139/200\n",
      "330/330 [==============================] - 0s 1ms/step - loss: 896.2390\n",
      "Epoch 140/200\n",
      "330/330 [==============================] - 0s 1ms/step - loss: 892.4997\n",
      "Epoch 141/200\n",
      "330/330 [==============================] - 0s 1ms/step - loss: 946.9012\n",
      "Epoch 142/200\n",
      "330/330 [==============================] - 0s 1ms/step - loss: 901.4288\n",
      "Epoch 143/200\n",
      "330/330 [==============================] - 0s 1ms/step - loss: 862.0456\n",
      "Epoch 144/200\n",
      "330/330 [==============================] - 0s 1ms/step - loss: 981.7772\n",
      "Epoch 145/200\n",
      "330/330 [==============================] - 0s 1ms/step - loss: 881.7925\n",
      "Epoch 146/200\n",
      "330/330 [==============================] - 0s 1ms/step - loss: 885.0381\n",
      "Epoch 147/200\n",
      "330/330 [==============================] - 0s 1ms/step - loss: 894.2652\n",
      "Epoch 148/200\n",
      "330/330 [==============================] - 1s 2ms/step - loss: 897.9081\n",
      "Epoch 149/200\n",
      "330/330 [==============================] - 0s 1ms/step - loss: 875.8632\n",
      "Epoch 150/200\n",
      "330/330 [==============================] - 0s 1ms/step - loss: 879.7996\n",
      "Epoch 151/200\n",
      "330/330 [==============================] - 0s 1ms/step - loss: 942.3819\n",
      "Epoch 152/200\n",
      "330/330 [==============================] - 0s 1ms/step - loss: 933.7688\n",
      "Epoch 153/200\n",
      "330/330 [==============================] - 0s 1ms/step - loss: 904.3902\n",
      "Epoch 154/200\n",
      "330/330 [==============================] - 0s 1ms/step - loss: 882.8868\n",
      "Epoch 155/200\n",
      "330/330 [==============================] - 0s 1ms/step - loss: 877.9973\n",
      "Epoch 156/200\n",
      "330/330 [==============================] - 0s 1ms/step - loss: 867.6285\n",
      "Epoch 157/200\n",
      "330/330 [==============================] - 0s 1ms/step - loss: 885.5082\n",
      "Epoch 158/200\n",
      "330/330 [==============================] - 0s 1ms/step - loss: 910.1088\n",
      "Epoch 159/200\n",
      "330/330 [==============================] - 0s 1ms/step - loss: 900.0223\n",
      "Epoch 160/200\n",
      "330/330 [==============================] - 0s 2ms/step - loss: 894.2343\n",
      "Epoch 161/200\n",
      "330/330 [==============================] - 0s 2ms/step - loss: 981.9024\n",
      "Epoch 162/200\n",
      "330/330 [==============================] - 0s 1ms/step - loss: 922.6655\n",
      "Epoch 163/200\n",
      "330/330 [==============================] - 1s 2ms/step - loss: 975.2580\n",
      "Epoch 164/200\n",
      "330/330 [==============================] - 0s 1ms/step - loss: 957.8060\n",
      "Epoch 165/200\n",
      "330/330 [==============================] - 0s 1ms/step - loss: 908.9478\n",
      "Epoch 166/200\n",
      "330/330 [==============================] - 0s 1ms/step - loss: 886.8476\n",
      "Epoch 167/200\n",
      "330/330 [==============================] - 0s 1ms/step - loss: 877.3538\n",
      "Epoch 168/200\n",
      "330/330 [==============================] - 0s 1ms/step - loss: 896.2241\n",
      "Epoch 169/200\n",
      "330/330 [==============================] - 0s 1ms/step - loss: 920.3180\n",
      "Epoch 170/200\n",
      "330/330 [==============================] - 0s 1ms/step - loss: 899.8239\n",
      "Epoch 171/200\n",
      "330/330 [==============================] - 1s 2ms/step - loss: 883.9859\n",
      "Epoch 172/200\n",
      "330/330 [==============================] - 0s 1ms/step - loss: 907.7636\n",
      "Epoch 173/200\n",
      "330/330 [==============================] - 0s 1ms/step - loss: 902.4389\n",
      "Epoch 174/200\n",
      "330/330 [==============================] - 0s 1ms/step - loss: 956.2492\n",
      "Epoch 175/200\n",
      "330/330 [==============================] - 0s 1ms/step - loss: 898.7383\n",
      "Epoch 176/200\n",
      "330/330 [==============================] - 1s 2ms/step - loss: 905.5794\n",
      "Epoch 177/200\n",
      "330/330 [==============================] - 0s 1ms/step - loss: 892.2805\n",
      "Epoch 178/200\n",
      "330/330 [==============================] - 1s 2ms/step - loss: 914.7207\n",
      "Epoch 179/200\n",
      "330/330 [==============================] - 1s 2ms/step - loss: 912.9377\n",
      "Epoch 180/200\n",
      "330/330 [==============================] - 1s 2ms/step - loss: 909.7840\n",
      "Epoch 181/200\n",
      "330/330 [==============================] - 0s 1ms/step - loss: 891.4065\n",
      "Epoch 182/200\n",
      "330/330 [==============================] - 1s 2ms/step - loss: 884.4766\n",
      "Epoch 183/200\n",
      "330/330 [==============================] - 0s 1ms/step - loss: 939.8087\n",
      "Epoch 184/200\n",
      "330/330 [==============================] - 0s 1ms/step - loss: 893.4161\n",
      "Epoch 185/200\n",
      "330/330 [==============================] - 0s 1ms/step - loss: 903.9628\n",
      "Epoch 186/200\n",
      "330/330 [==============================] - 0s 1ms/step - loss: 883.3493\n",
      "Epoch 187/200\n",
      "330/330 [==============================] - 0s 1ms/step - loss: 936.1473\n",
      "Epoch 188/200\n",
      "330/330 [==============================] - 0s 1ms/step - loss: 949.4998\n",
      "Epoch 189/200\n",
      "330/330 [==============================] - 0s 1ms/step - loss: 946.2331\n",
      "Epoch 190/200\n",
      "330/330 [==============================] - 0s 1ms/step - loss: 918.0085\n",
      "Epoch 191/200\n",
      "330/330 [==============================] - 0s 1ms/step - loss: 946.2414\n",
      "Epoch 192/200\n",
      "330/330 [==============================] - 0s 1ms/step - loss: 898.7544\n",
      "Epoch 193/200\n",
      "330/330 [==============================] - 0s 1ms/step - loss: 911.3358\n",
      "Epoch 194/200\n",
      "330/330 [==============================] - 0s 1ms/step - loss: 912.4648\n",
      "Epoch 195/200\n",
      "330/330 [==============================] - 0s 1ms/step - loss: 885.4684\n",
      "Epoch 196/200\n",
      "330/330 [==============================] - 1s 2ms/step - loss: 901.1808\n",
      "Epoch 197/200\n",
      "330/330 [==============================] - 0s 1ms/step - loss: 917.8370\n",
      "Epoch 198/200\n",
      "330/330 [==============================] - 1s 2ms/step - loss: 900.5154\n",
      "Epoch 199/200\n",
      "330/330 [==============================] - 0s 1ms/step - loss: 917.7745\n",
      "Epoch 200/200\n",
      "330/330 [==============================] - 0s 1ms/step - loss: 893.1483\n"
     ]
    },
    {
     "data": {
      "text/plain": [
       "<keras.callbacks.callbacks.History at 0x7f6360678d10>"
      ]
     },
     "execution_count": 73,
     "metadata": {},
     "output_type": "execute_result"
    }
   ],
   "source": [
    "# define model\n",
    "model = Sequential()\n",
    "model.add(LSTM(52, activation='relu', input_shape=(train_x.shape[1], train_x.shape[2])))\n",
    "model.add(RepeatVector(train_y.shape[1]))\n",
    "\n",
    "model.add(TimeDistributed(Dense(10, activation='relu')))\n",
    "model.add(TimeDistributed(Dense(train_y.shape[1])))\n",
    "\n",
    "model.compile(loss='mse', optimizer='adam')\n",
    "\n",
    "# model.add(LSTM(50, activation='relu', input_shape=(train_x.shape[1], train_x.shape[2])))\n",
    "# model.add(Dense(10))\n",
    "# model.add(Dense(train_y.shape[1]))\n",
    "# model.compile(optimizer='adam', loss='mse')\n",
    "\n",
    "# fit network\n",
    "model.fit(train_x, train_y, epochs=200, batch_size=17, verbose=1)"
   ]
  },
  {
   "cell_type": "code",
   "execution_count": 74,
   "metadata": {},
   "outputs": [
    {
     "name": "stdout",
     "output_type": "stream",
     "text": [
      "(330, 6, 10) (330, 1, 1)\n"
     ]
    },
    {
     "data": {
      "text/plain": [
       "-0.15607416805230367"
      ]
     },
     "execution_count": 74,
     "metadata": {},
     "output_type": "execute_result"
    }
   ],
   "source": [
    "test_x, test_y = to_supervised(test, 6, 1)\n",
    "test_y = test_y.reshape(-1, 1)\n",
    "test_y = test_y.reshape((test_y.shape[0], test_y.shape[1], 1))\n",
    "\n",
    "print(train_x.shape, train_y.shape)\n",
    "\n",
    "predictions = evaluate_model(train, test, 6)\n",
    "predictions = predictions.reshape(predictions.shape[0] * predictions.shape[1], predictions.shape[2])\n",
    "\n",
    "r2_score(np.array(test[:, -1]), predictions)"
   ]
  },
  {
   "cell_type": "code",
   "execution_count": null,
   "metadata": {
    "jupyter": {
     "source_hidden": true
    }
   },
   "outputs": [],
   "source": [
    "for i in range(len(test)):\n",
    "    print(np.array(test[i, -1]), predictions[i][0])"
   ]
  },
  {
   "cell_type": "code",
   "execution_count": 67,
   "metadata": {
    "jupyter": {
     "source_hidden": true
    }
   },
   "outputs": [],
   "source": [
    "from statsmodels.tsa.arima_model import ARIMA, ARMAResults"
   ]
  },
  {
   "cell_type": "code",
   "execution_count": 68,
   "metadata": {
    "jupyter": {
     "source_hidden": true
    }
   },
   "outputs": [],
   "source": [
    "def difference(dataset, interval=1):\n",
    "    diff = list()\n",
    "    for i in range(interval, len(dataset)):\n",
    "        value = dataset[i] - dataset[i - interval]\n",
    "        diff.append(value)\n",
    "        \n",
    "    return diff\n",
    "\n",
    "def inverse_differece(history, yhat, interval=1):\n",
    "    return yhat + history[-interval]"
   ]
  },
  {
   "cell_type": "code",
   "execution_count": 69,
   "metadata": {
    "collapsed": true,
    "jupyter": {
     "outputs_hidden": true,
     "source_hidden": true
    }
   },
   "outputs": [
    {
     "name": "stdout",
     "output_type": "stream",
     "text": [
      "(355, 10) (11, 10)\n"
     ]
    }
   ],
   "source": [
    "train_len = int(len(series) * 0.97)\n",
    "train, test = series[:train_len], series[train_len:]\n",
    "\n",
    "print(train.shape, test.shape)"
   ]
  },
  {
   "cell_type": "code",
   "execution_count": 70,
   "metadata": {
    "jupyter": {
     "source_hidden": true
    }
   },
   "outputs": [],
   "source": [
    "# history = [x for x in train[:, -1]]"
   ]
  },
  {
   "cell_type": "code",
   "execution_count": 137,
   "metadata": {
    "jupyter": {
     "source_hidden": true
    }
   },
   "outputs": [],
   "source": [
    "# evaluate an ARIMA model for a given order (p,d,q)\n",
    "def evaluate_arima_model(X, arima_order):\n",
    "    # prepare training dataset\n",
    "    train_size = int(len(X) * 0.79)\n",
    "    train, test = X[0:train_size], X[train_size:]\n",
    "    history = [x for x in train]\n",
    "    # make predictions\n",
    "    predictions = list()\n",
    "    for t in range(len(test)):\n",
    "        model = ARIMA(history, order=arima_order)\n",
    "        model_fit = model.fit(disp=0, solver='lbfgs')\n",
    "        yhat = model_fit.forecast()[0]\n",
    "        predictions.append(yhat)\n",
    "        history.append(test[t])\n",
    "    # calculate out of sample error\n",
    "    error = mean_squared_error(test, predictions)\n",
    "    \n",
    "    predictions = np.array(predictions)\n",
    "    test = np.array(test)\n",
    "    \n",
    "    print(r2_score(test, predictions))\n",
    "    \n",
    "    plt.plot(predictions, color='red')\n",
    "    plt.plot(test)\n",
    "    plt.show()\n",
    "    \n",
    "    return np.array(predictions)"
   ]
  },
  {
   "cell_type": "code",
   "execution_count": 138,
   "metadata": {
    "collapsed": true,
    "jupyter": {
     "outputs_hidden": true,
     "source_hidden": true
    }
   },
   "outputs": [
    {
     "name": "stdout",
     "output_type": "stream",
     "text": [
      "0.4019993437838787\n"
     ]
    },
    {
     "data": {
      "image/png": "[encoded data removed]",
      "text/plain": [
       "<Figure size 432x288 with 1 Axes>"
      ]
     },
     "metadata": {
      "needs_background": "light"
     },
     "output_type": "display_data"
    }
   ],
   "source": [
    "prediction = evaluate_arima_model(series[:, -1], (4, 1, 0))"
   ]
  },
  {
   "cell_type": "code",
   "execution_count": null,
   "metadata": {
    "jupyter": {
     "source_hidden": true
    }
   },
   "outputs": [],
   "source": []
  },
  {
   "cell_type": "code",
   "execution_count": 89,
   "metadata": {
    "collapsed": true,
    "jupyter": {
     "outputs_hidden": true,
     "source_hidden": true
    }
   },
   "outputs": [
    {
     "data": {
      "text/plain": [
       "array([[ 1.9400e+02, -6.4000e-01,  1.9460e+01,  1.8660e+01,  8.8940e+01,\n",
       "         8.5060e+01,  4.5200e+00,  8.4420e+01,  8.8940e+01,  7.0500e+01],\n",
       "       [ 2.3700e+02,  5.8000e-01,  1.5420e+01,  1.4600e+01,  9.6420e+01,\n",
       "         9.1680e+01,  4.1600e+00,  9.2260e+01,  9.6420e+01,  9.2260e+01],\n",
       "       [ 2.1400e+02,  9.7000e-01,  1.4160e+01,  1.3340e+01,  6.5760e+01,\n",
       "         6.1480e+01,  3.3100e+00,  6.2450e+01,  6.5760e+01,  6.2450e+01],\n",
       "       [ 1.9800e+02,  1.8000e-01,  1.9660e+01,  1.8940e+01,  1.1134e+02,\n",
       "         1.0738e+02,  3.7800e+00,  1.0756e+02,  1.1134e+02,  1.0756e+02],\n",
       "       [ 1.4500e+02, -4.0000e-02,  1.0170e+01,  9.6100e+00,  5.9730e+01,\n",
       "         5.6830e+01,  2.9400e+00,  5.6790e+01,  5.9730e+01,  5.5290e+01],\n",
       "       [ 1.3900e+02, -9.1000e-01,  1.8800e+01,  1.8220e+01,  6.2440e+01,\n",
       "         5.9660e+01,  3.6900e+00,  5.8750e+01,  6.2440e+01,  5.1150e+01],\n",
       "       [ 1.8500e+02, -3.6000e-01,  1.8450e+01,  1.7690e+01,  8.8240e+01,\n",
       "         8.4540e+01,  4.0600e+00,  8.4180e+01,  8.8240e+01,  7.7340e+01],\n",
       "       [ 2.3900e+02,  1.9000e-01,  2.1160e+01,  2.0340e+01,  1.2332e+02,\n",
       "         1.1854e+02,  4.5900e+00,  1.1873e+02,  1.2332e+02,  1.1873e+02],\n",
       "       [ 2.4000e+02, -2.1000e-01,  1.5430e+01,  1.4590e+01,  8.3920e+01,\n",
       "         7.9120e+01,  5.0100e+00,  7.8910e+01,  8.3920e+01,  7.8910e+01],\n",
       "       [ 1.2800e+02, -8.1000e-01,  1.2340e+01,  1.1900e+01,  7.1030e+01,\n",
       "         6.8470e+01,  3.3700e+00,  6.7660e+01,  7.1030e+01,  6.5410e+01],\n",
       "       [ 6.0000e+00,  8.0000e-02,  4.2000e-01,  3.8000e-01,  1.1000e+00,\n",
       "         9.8000e-01,  4.0000e-02,  1.0600e+00,  1.1000e+00,  1.0600e+00]])"
      ]
     },
     "execution_count": 89,
     "metadata": {},
     "output_type": "execute_result"
    }
   ],
   "source": [
    "test"
   ]
  },
  {
   "cell_type": "code",
   "execution_count": null,
   "metadata": {
    "jupyter": {
     "source_hidden": true
    }
   },
   "outputs": [],
   "source": []
  },
  {
   "cell_type": "code",
   "execution_count": 78,
   "metadata": {
    "jupyter": {
     "source_hidden": true
    }
   },
   "outputs": [],
   "source": [
    "# evaluate combinations of p, d and q values for an ARIMA model\n",
    "def evaluate_models(dataset, p_values, d_values, q_values):\n",
    "    dataset = dataset.astype('float32')\n",
    "    best_score, best_cfg = float(\"inf\"), None\n",
    "    for p in p_values:\n",
    "        for d in d_values:\n",
    "            for q in q_values:\n",
    "                order = (p,d,q)\n",
    "                try:\n",
    "                    mse = evaluate_arima_model(dataset, order)\n",
    "                    if mse < best_score:\n",
    "                        best_score, best_cfg = mse, order\n",
    "                    print('ARIMA%s MSE=%.3f' % (order,mse))\n",
    "                except:\n",
    "                    continue\n",
    "    print('Best ARIMA%s MSE=%.3f' % (best_cfg, best_score))"
   ]
  },
  {
   "cell_type": "code",
   "execution_count": 80,
   "metadata": {
    "jupyter": {
     "source_hidden": true
    }
   },
   "outputs": [],
   "source": [
    "import warnings\n",
    "from time import time\n",
    "warnings.filterwarnings('ignore')\n",
    "\n",
    "# solvers\n",
    "solvers = ['lbfgs', 'powell']\n",
    "\n",
    "# evaluate parameters\n",
    "p_values = [0, 1, 2, 4, 6, 8, 10]\n",
    "d_values = range(0, 3)\n",
    "q_values = range(0, 3)\n",
    "warnings.filterwarnings(\"ignore\")\n",
    "# evaluate_models(series[:, -1], p_values, d_values, q_values)"
   ]
  },
  {
   "cell_type": "code",
   "execution_count": null,
   "metadata": {
    "jupyter": {
     "source_hidden": true
    }
   },
   "outputs": [],
   "source": [
    "4, 1, 0"
   ]
  },
  {
   "cell_type": "code",
   "execution_count": null,
   "metadata": {
    "jupyter": {
     "source_hidden": true
    }
   },
   "outputs": [],
   "source": []
  },
  {
   "cell_type": "code",
   "execution_count": 82,
   "metadata": {
    "collapsed": true,
    "jupyter": {
     "outputs_hidden": true,
     "source_hidden": true
    }
   },
   "outputs": [
    {
     "data": {
      "text/plain": [
       "array([[ 4.6500e+02,  1.2000e+00,  3.5400e+01, ...,  1.7904e+02,\n",
       "         1.8714e+02,  1.7904e+02],\n",
       "       [ 4.0700e+02,  6.3000e-01,  3.0110e+01, ...,  1.4133e+02,\n",
       "         1.4884e+02,  1.0007e+02],\n",
       "       [ 3.5800e+02, -6.6000e-01,  2.9800e+01, ...,  1.6327e+02,\n",
       "         1.7109e+02,  1.6327e+02],\n",
       "       ...,\n",
       "       [ 2.4000e+02, -2.1000e-01,  1.5430e+01, ...,  7.8910e+01,\n",
       "         8.3920e+01,  7.8910e+01],\n",
       "       [ 1.2800e+02, -8.1000e-01,  1.2340e+01, ...,  6.7660e+01,\n",
       "         7.1030e+01,  6.5410e+01],\n",
       "       [ 6.0000e+00,  8.0000e-02,  4.2000e-01, ...,  1.0600e+00,\n",
       "         1.1000e+00,  1.0600e+00]])"
      ]
     },
     "execution_count": 82,
     "metadata": {},
     "output_type": "execute_result"
    }
   ],
   "source": [
    "history = [x for x in train[:, -1]]"
   ]
  },
  {
   "cell_type": "code",
   "execution_count": null,
   "metadata": {
    "jupyter": {
     "source_hidden": true
    }
   },
   "outputs": [],
   "source": []
  },
  {
   "cell_type": "code",
   "execution_count": 74,
   "metadata": {
    "collapsed": true,
    "jupyter": {
     "outputs_hidden": true,
     "source_hidden": true
    }
   },
   "outputs": [
    {
     "name": "stdout",
     "output_type": "stream",
     "text": [
      "RMSE: 37.196\n",
      "-0.5519522885766679\n"
     ]
    },
    {
     "data": {
      "image/png": "[encoded data removed]",
      "text/plain": [
       "<Figure size 432x288 with 1 Axes>"
      ]
     },
     "metadata": {
      "needs_background": "light"
     },
     "output_type": "display_data"
    }
   ],
   "source": [
    "mse = mean_squared_error(test[:, -1], prediction)\n",
    "rmse = math.sqrt(mse)\n",
    "print(\"RMSE: %.3f\" % rmse)\n",
    "print(r2_score(test[:, -1], prediction))\n",
    "plt.plot(test[:, -1])\n",
    "plt.plot(prediction, color=\"red\")\n",
    "plt.show()"
   ]
  },
  {
   "cell_type": "code",
   "execution_count": 59,
   "metadata": {
    "collapsed": true,
    "jupyter": {
     "outputs_hidden": true,
     "source_hidden": true
    }
   },
   "outputs": [
    {
     "data": {
      "text/html": [
       "<div>\n",
       "<style scoped>\n",
       "    .dataframe tbody tr th:only-of-type {\n",
       "        vertical-align: middle;\n",
       "    }\n",
       "\n",
       "    .dataframe tbody tr th {\n",
       "        vertical-align: top;\n",
       "    }\n",
       "\n",
       "    .dataframe thead th {\n",
       "        text-align: right;\n",
       "    }\n",
       "</style>\n",
       "<table border=\"1\" class=\"dataframe\">\n",
       "  <thead>\n",
       "    <tr style=\"text-align: right;\">\n",
       "      <th></th>\n",
       "      <th>0</th>\n",
       "    </tr>\n",
       "  </thead>\n",
       "  <tbody>\n",
       "    <tr>\n",
       "      <th>0</th>\n",
       "      <td>32.205682</td>\n",
       "    </tr>\n",
       "    <tr>\n",
       "      <th>1</th>\n",
       "      <td>-13.056053</td>\n",
       "    </tr>\n",
       "    <tr>\n",
       "      <th>2</th>\n",
       "      <td>-32.929269</td>\n",
       "    </tr>\n",
       "    <tr>\n",
       "      <th>3</th>\n",
       "      <td>25.884957</td>\n",
       "    </tr>\n",
       "    <tr>\n",
       "      <th>4</th>\n",
       "      <td>-16.345630</td>\n",
       "    </tr>\n",
       "  </tbody>\n",
       "</table>\n",
       "</div>"
      ],
      "text/plain": [
       "           0\n",
       "0  32.205682\n",
       "1 -13.056053\n",
       "2 -32.929269\n",
       "3  25.884957\n",
       "4 -16.345630"
      ]
     },
     "execution_count": 59,
     "metadata": {},
     "output_type": "execute_result"
    }
   ],
   "source": [
    "residuals = [test[i, -1] - prediction[i] for i in range(len(test))]\n",
    "residuals = pd.DataFrame(residuals)\n",
    "\n",
    "residuals.head()"
   ]
  },
  {
   "cell_type": "code",
   "execution_count": 45,
   "metadata": {
    "collapsed": true,
    "jupyter": {
     "outputs_hidden": true,
     "source_hidden": true
    }
   },
   "outputs": [
    {
     "data": {
      "text/html": [
       "<div>\n",
       "<style scoped>\n",
       "    .dataframe tbody tr th:only-of-type {\n",
       "        vertical-align: middle;\n",
       "    }\n",
       "\n",
       "    .dataframe tbody tr th {\n",
       "        vertical-align: top;\n",
       "    }\n",
       "\n",
       "    .dataframe thead th {\n",
       "        text-align: right;\n",
       "    }\n",
       "</style>\n",
       "<table border=\"1\" class=\"dataframe\">\n",
       "  <thead>\n",
       "    <tr style=\"text-align: right;\">\n",
       "      <th></th>\n",
       "      <th>0</th>\n",
       "    </tr>\n",
       "  </thead>\n",
       "  <tbody>\n",
       "    <tr>\n",
       "      <th>count</th>\n",
       "      <td>11.000000</td>\n",
       "    </tr>\n",
       "    <tr>\n",
       "      <th>mean</th>\n",
       "      <td>-13.001509</td>\n",
       "    </tr>\n",
       "    <tr>\n",
       "      <th>std</th>\n",
       "      <td>36.208258</td>\n",
       "    </tr>\n",
       "    <tr>\n",
       "      <th>min</th>\n",
       "      <td>-69.420469</td>\n",
       "    </tr>\n",
       "    <tr>\n",
       "      <th>25%</th>\n",
       "      <td>-39.493464</td>\n",
       "    </tr>\n",
       "    <tr>\n",
       "      <th>50%</th>\n",
       "      <td>1.913653</td>\n",
       "    </tr>\n",
       "    <tr>\n",
       "      <th>75%</th>\n",
       "      <td>10.215025</td>\n",
       "    </tr>\n",
       "    <tr>\n",
       "      <th>max</th>\n",
       "      <td>37.485838</td>\n",
       "    </tr>\n",
       "  </tbody>\n",
       "</table>\n",
       "</div>"
      ],
      "text/plain": [
       "               0\n",
       "count  11.000000\n",
       "mean  -13.001509\n",
       "std    36.208258\n",
       "min   -69.420469\n",
       "25%   -39.493464\n",
       "50%     1.913653\n",
       "75%    10.215025\n",
       "max    37.485838"
      ]
     },
     "execution_count": 45,
     "metadata": {},
     "output_type": "execute_result"
    }
   ],
   "source": [
    "residuals.describe()"
   ]
  },
  {
   "cell_type": "code",
   "execution_count": 32,
   "metadata": {
    "collapsed": true,
    "jupyter": {
     "outputs_hidden": true,
     "source_hidden": true
    }
   },
   "outputs": [
    {
     "data": {
      "image/png": "[encoded data removed]",
      "text/plain": [
       "<Figure size 432x288 with 2 Axes>"
      ]
     },
     "metadata": {
      "needs_background": "light"
     },
     "output_type": "display_data"
    }
   ],
   "source": [
    "plt.figure()\n",
    "plt.subplot(211)\n",
    "residuals.hist(ax=plt.gca())\n",
    "plt.subplot(212)\n",
    "residuals.plot(kind='kde', ax=plt.gca())\n",
    "plt.show()"
   ]
  },
  {
   "cell_type": "code",
   "execution_count": 33,
   "metadata": {
    "collapsed": true,
    "jupyter": {
     "outputs_hidden": true,
     "source_hidden": true
    }
   },
   "outputs": [
    {
     "data": {
      "text/plain": [
       "array([5.903017])"
      ]
     },
     "execution_count": 33,
     "metadata": {},
     "output_type": "execute_result"
    }
   ],
   "source": [
    "model_fit.forecast()[0]"
   ]
  },
  {
   "cell_type": "code",
   "execution_count": null,
   "metadata": {
    "jupyter": {
     "source_hidden": true
    }
   },
   "outputs": [],
   "source": []
  }
 ],
 "metadata": {
  "kernelspec": {
   "display_name": "Python 3",
   "language": "python",
   "name": "python3"
  },
  "language_info": {
   "codemirror_mode": {
    "name": "ipython",
    "version": 3
   },
   "file_extension": ".py",
   "mimetype": "text/x-python",
   "name": "python",
   "nbconvert_exporter": "python",
   "pygments_lexer": "ipython3",
   "version": "3.7.3"
  }
 },
 "nbformat": 4,
 "nbformat_minor": 4
}
