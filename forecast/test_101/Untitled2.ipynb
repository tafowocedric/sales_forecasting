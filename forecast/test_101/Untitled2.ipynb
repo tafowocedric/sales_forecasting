{
 "cells": [
  {
   "cell_type": "code",
   "execution_count": 77,
   "metadata": {},
   "outputs": [],
   "source": [
    "import pytz\n",
    "from datetime import datetime, timedelta\n"
   ]
  },
  {
   "cell_type": "code",
   "execution_count": 78,
   "metadata": {},
   "outputs": [],
   "source": [
    "tz = pytz.timezone('Asia/Tokyo')"
   ]
  },
  {
   "cell_type": "code",
   "execution_count": 79,
   "metadata": {},
   "outputs": [
    {
     "data": {
      "text/plain": [
       "<DstTzInfo 'Asia/Tokyo' LMT+9:19:00 STD>"
      ]
     },
     "execution_count": 79,
     "metadata": {},
     "output_type": "execute_result"
    }
   ],
   "source": [
    "tz"
   ]
  },
  {
   "cell_type": "code",
   "execution_count": 80,
   "metadata": {},
   "outputs": [
    {
     "name": "stdout",
     "output_type": "stream",
     "text": [
      "2020-06-19 20:30:05.578207+09:00\n"
     ]
    }
   ],
   "source": [
    "date = datetime.now(tz)\n",
    "print(date)"
   ]
  },
  {
   "cell_type": "code",
   "execution_count": 101,
   "metadata": {},
   "outputs": [],
   "source": [
    "# def convert_string_datetime(date_time): \n",
    "#     format = '%Y-%m-%d %H:%M:%S.%z' # The format\n",
    "#     print(date_time)\n",
    "#     datetime_str = datetime.strptime(date_time, format) \n",
    "    \n",
    "#     return datetime_str.date()"
   ]
  },
  {
   "cell_type": "code",
   "execution_count": 102,
   "metadata": {},
   "outputs": [],
   "source": [
    "# def hours_until_end_of_today(date):\n",
    "# #     time_delta = datetime.combine(date + timedelta(days=1), date.strptime(\"0000\", \"%H%M\").time()) - date.now()\n",
    "#     date_converted = convert_string_datetime(str(date).split(\"+\")[0])\n",
    "#     print(type(date_converted), date_converted)\n",
    "#     time_delta = datetime.combine(date + timedelta(days=1), date.strptime(\"0000\", \"%H%M\").time()) - date_converted\n",
    "#     print(date)\n",
    "#     print(datetime.combine(date + timedelta(days=1), date.strptime(\"0000\", \"%H%M\").time()))\n",
    "#     print(date.now())\n",
    "#     print(time_delta)\n",
    "# #     print(dir(time_delta))\n",
    "# #     hours_left = time_delta.seconds / 3600 # convert seconds to hours\n",
    "# #     return hours_left\n",
    "\n",
    "# print(hours_until_end_of_today(date))"
   ]
  },
  {
   "cell_type": "code",
   "execution_count": null,
   "metadata": {},
   "outputs": [],
   "source": []
  },
  {
   "cell_type": "code",
   "execution_count": 109,
   "metadata": {},
   "outputs": [
    {
     "name": "stdout",
     "output_type": "stream",
     "text": [
      "2020-06-19 20:34:39.766629+08:00\n",
      "12319.233371\n",
      "3.4220092697222224\n"
     ]
    }
   ],
   "source": [
    "date = datetime.now(pytz.timezone(\"Antarctica/Casey\"))\n",
    "print(date)\n",
    "\n",
    "seconds_since_midnight = (date.replace(hour=23, minute=59, second=59, microsecond=0) - date).total_seconds()\n",
    "print(seconds_since_midnight)\n",
    "\n",
    "print(seconds_since_midnight / 3600)"
   ]
  },
  {
   "cell_type": "code",
   "execution_count": 105,
   "metadata": {},
   "outputs": [
    {
     "name": "stdout",
     "output_type": "stream",
     "text": [
      "2020-06-19 12:43:59.996702+01:00\n",
      "2020-06-19 00:00:00+01:00\n",
      "12:43:59.996702\n"
     ]
    }
   ],
   "source": [
    "print(date)\n",
    "print(date.replace(hour=0, minute=0, second=0, microsecond=0))\n",
    "\n",
    "print(date - date.replace(hour=0, minute=0, second=0, microsecond=0))"
   ]
  },
  {
   "cell_type": "code",
   "execution_count": null,
   "metadata": {},
   "outputs": [],
   "source": []
  }
 ],
 "metadata": {
  "kernelspec": {
   "display_name": "Python 3",
   "language": "python",
   "name": "python3"
  },
  "language_info": {
   "codemirror_mode": {
    "name": "ipython",
    "version": 3
   },
   "file_extension": ".py",
   "mimetype": "text/x-python",
   "name": "python",
   "nbconvert_exporter": "python",
   "pygments_lexer": "ipython3",
   "version": "3.7.3"
  }
 },
 "nbformat": 4,
 "nbformat_minor": 4
}
